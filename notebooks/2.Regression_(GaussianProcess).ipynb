{
 "cells": [
  {
   "cell_type": "code",
   "execution_count": 1,
   "metadata": {
    "collapsed": false
   },
   "outputs": [],
   "source": [
    "from __future__ import print_function\n",
    "import numpy as np\n",
    "import pandas as pd\n",
    "import matplotlib.pyplot as plt\n",
    "import seaborn as sns\n",
    "import GPy\n",
    "from pandas import Series, DataFrame\n",
    "from scipy.stats import norm\n",
    "from sklearn.metrics import mean_squared_error\n",
    "from sklearn.metrics import r2_score\n",
    "from IPython.core.pylabtools import figsize\n",
    "from IPython.display import display\n",
    "\n",
    "SAVE_FIG = True\n",
    "\n",
    "if SAVE_FIG:\n",
    "    from matplotlib import rcParams  \n",
    "    rcParams['axes.labelsize'] = 9  \n",
    "    rcParams['xtick.labelsize'] = 9  \n",
    "    rcParams['ytick.labelsize'] = 9  \n",
    "    rcParams['legend.fontsize'] = 9 \n",
    "    default_fig_w = 8\n",
    "    default_fig_h = 5\n",
    "else:\n",
    "    default_fig_w = 16\n",
    "    default_fig_h = 10\n",
    "\n",
    "%matplotlib inline\n",
    "figsize(default_fig_w, default_fig_h)"
   ]
  },
  {
   "cell_type": "markdown",
   "metadata": {},
   "source": [
    "# Load and adjust the data"
   ]
  },
  {
   "cell_type": "code",
   "execution_count": 2,
   "metadata": {
    "collapsed": false
   },
   "outputs": [],
   "source": [
    "df_train = pd.read_csv('../data/TableS2_training.csv', keep_default_na=False)\n",
    "df_train['RRF_Measured'] = df_train['RRF_Measured'] * 1e-2\n",
    "df_train['RRF_Predicted'] = df_train['RRF_Predicted'] * 1e-2\n",
    "\n",
    "df_test = pd.read_csv('../data/TableS3_training.csv', keep_default_na=False)\n",
    "df_test['RRF_Measured'] = df_test['RRF_Measured'] * 1e-2\n",
    "df_test['RRF_Predicted'] = df_test['RRF_Predicted'] * 1e-2\n",
    "\n",
    "features = ['MV', 'logD', 'abs_mob']\n",
    "target = ['RRF_Measured']"
   ]
  },
  {
   "cell_type": "markdown",
   "metadata": {},
   "source": [
    "# Data preparation\n",
    "- Exclude certain metabolites\n",
    "- Select training and testing data"
   ]
  },
  {
   "cell_type": "code",
   "execution_count": 3,
   "metadata": {
    "collapsed": false
   },
   "outputs": [
    {
     "name": "stdout",
     "output_type": "stream",
     "text": [
      "Number of metabolites (training): 36\n",
      "Number of metabolites (testing): 10\n"
     ]
    }
   ],
   "source": [
    "# Training Data\n",
    "X_train = df_train[features]\n",
    "X_train = X_train[df_train['Annotation'] == '']\n",
    "\n",
    "y_train = df_train[target]\n",
    "y_train = y_train[df_train['Annotation'] == '']\n",
    "\n",
    "# Testing Data\n",
    "X_test = df_test[features]\n",
    "y_test = df_test[target]\n",
    "\n",
    "print(\"Number of metabolites (training):\", len(X_train))\n",
    "print(\"Number of metabolites (testing):\", len(X_test))"
   ]
  },
  {
   "cell_type": "markdown",
   "metadata": {},
   "source": [
    "# Fit Gaussian Process"
   ]
  },
  {
   "cell_type": "code",
   "execution_count": 4,
   "metadata": {
    "collapsed": false
   },
   "outputs": [
    {
     "data": {
      "text/html": [
       "\n",
       "<b>Model</b>: GP regression<br>\n",
       "<b>Log-likelihood</b>: 119.065813114<br>\n",
       "<b>Number of Parameters</b>: 3<br>\n",
       "<br><b>Parameters</b>:\n",
       "<table>\n",
       "<tr>\n",
       "  <td><b>GP_regression.</b>\n",
       "  <td><b>Value</b></td>\n",
       "  <td><b>Constraint</b></td>\n",
       "  <td><b>Prior</b></td>\n",
       "  <td><b>Tied to</b></td>\n",
       "<tr><td>rbf.variance           </td><td align=\"right\"> 0.00193861580301</td><td>   +ve    </td><td>     </td><td>       </td></tr>\n",
       "<tr><td>rbf.lengthscale        </td><td align=\"right\">    56.9268939041</td><td>   +ve    </td><td>     </td><td>       </td></tr>\n",
       "<tr><td>Gaussian_noise.variance</td><td align=\"right\">4.31671109003e-05</td><td>   +ve    </td><td>     </td><td>       </td></tr>\n",
       "</table>"
      ],
      "text/plain": [
       "<GPy.models.gp_regression.GPRegression at 0x10908ce90>"
      ]
     },
     "metadata": {},
     "output_type": "display_data"
    }
   ],
   "source": [
    "model = GPy.models.GPRegression(X_train, y_train, normalizer=True)\n",
    "\n",
    "model.optimize()\n",
    "\n",
    "display(model)"
   ]
  },
  {
   "cell_type": "markdown",
   "metadata": {},
   "source": [
    "# Make predictions"
   ]
  },
  {
   "cell_type": "code",
   "execution_count": 5,
   "metadata": {
    "collapsed": false
   },
   "outputs": [],
   "source": [
    "mu, var = model.predict(X_test.as_matrix())\n",
    "s = np.sqrt(var)"
   ]
  },
  {
   "cell_type": "code",
   "execution_count": 6,
   "metadata": {
    "collapsed": false,
    "scrolled": false
   },
   "outputs": [
    {
     "data": {
      "text/html": [
       "<div>\n",
       "<table border=\"1\" class=\"dataframe\">\n",
       "  <thead>\n",
       "    <tr style=\"text-align: right;\">\n",
       "      <th></th>\n",
       "      <th>Name</th>\n",
       "      <th>RRF_Measured</th>\n",
       "      <th>RRF_Predicted</th>\n",
       "      <th>RRF_Predicted_New</th>\n",
       "      <th>RRF_Predicted_Std_New</th>\n",
       "    </tr>\n",
       "  </thead>\n",
       "  <tbody>\n",
       "    <tr>\n",
       "      <th>0</th>\n",
       "      <td>L-Ornithine</td>\n",
       "      <td>0.00281</td>\n",
       "      <td>0.00631</td>\n",
       "      <td>0.006826</td>\n",
       "      <td>0.006965</td>\n",
       "    </tr>\n",
       "    <tr>\n",
       "      <th>1</th>\n",
       "      <td>N-Methyl-Aspartic acid</td>\n",
       "      <td>0.00842</td>\n",
       "      <td>0.00667</td>\n",
       "      <td>0.008051</td>\n",
       "      <td>0.006826</td>\n",
       "    </tr>\n",
       "    <tr>\n",
       "      <th>2</th>\n",
       "      <td>3-Methyl-L-Histidine</td>\n",
       "      <td>0.01400</td>\n",
       "      <td>0.02280</td>\n",
       "      <td>0.021092</td>\n",
       "      <td>0.006791</td>\n",
       "    </tr>\n",
       "    <tr>\n",
       "      <th>3</th>\n",
       "      <td>L-Theanine</td>\n",
       "      <td>0.02320</td>\n",
       "      <td>0.02190</td>\n",
       "      <td>0.023411</td>\n",
       "      <td>0.006807</td>\n",
       "    </tr>\n",
       "    <tr>\n",
       "      <th>4</th>\n",
       "      <td>L-Citrulline</td>\n",
       "      <td>0.01160</td>\n",
       "      <td>0.01600</td>\n",
       "      <td>0.019378</td>\n",
       "      <td>0.006795</td>\n",
       "    </tr>\n",
       "    <tr>\n",
       "      <th>5</th>\n",
       "      <td>O-Propionyl-L-Carnitine</td>\n",
       "      <td>0.05230</td>\n",
       "      <td>0.05740</td>\n",
       "      <td>0.046295</td>\n",
       "      <td>0.008042</td>\n",
       "    </tr>\n",
       "    <tr>\n",
       "      <th>6</th>\n",
       "      <td>L-Carnosine</td>\n",
       "      <td>0.01910</td>\n",
       "      <td>0.03030</td>\n",
       "      <td>0.030535</td>\n",
       "      <td>0.007115</td>\n",
       "    </tr>\n",
       "    <tr>\n",
       "      <th>7</th>\n",
       "      <td>O-Butyryl-L-Carnitine</td>\n",
       "      <td>0.06660</td>\n",
       "      <td>0.06030</td>\n",
       "      <td>0.065164</td>\n",
       "      <td>0.008666</td>\n",
       "    </tr>\n",
       "    <tr>\n",
       "      <th>8</th>\n",
       "      <td>1-Methyl-Adenosine</td>\n",
       "      <td>0.05240</td>\n",
       "      <td>0.05110</td>\n",
       "      <td>0.058979</td>\n",
       "      <td>0.008567</td>\n",
       "    </tr>\n",
       "    <tr>\n",
       "      <th>9</th>\n",
       "      <td>O-Octoyl-L-Carnitine</td>\n",
       "      <td>0.07780</td>\n",
       "      <td>0.09750</td>\n",
       "      <td>0.085108</td>\n",
       "      <td>0.032453</td>\n",
       "    </tr>\n",
       "  </tbody>\n",
       "</table>\n",
       "</div>"
      ],
      "text/plain": [
       "                      Name  RRF_Measured  RRF_Predicted  RRF_Predicted_New  \\\n",
       "0              L-Ornithine       0.00281        0.00631           0.006826   \n",
       "1   N-Methyl-Aspartic acid       0.00842        0.00667           0.008051   \n",
       "2    3-Methyl-L-Histidine        0.01400        0.02280           0.021092   \n",
       "3              L-Theanine        0.02320        0.02190           0.023411   \n",
       "4             L-Citrulline       0.01160        0.01600           0.019378   \n",
       "5  O-Propionyl-L-Carnitine       0.05230        0.05740           0.046295   \n",
       "6             L-Carnosine        0.01910        0.03030           0.030535   \n",
       "7   O-Butyryl-L-Carnitine        0.06660        0.06030           0.065164   \n",
       "8       1-Methyl-Adenosine       0.05240        0.05110           0.058979   \n",
       "9     O-Octoyl-L-Carnitine       0.07780        0.09750           0.085108   \n",
       "\n",
       "   RRF_Predicted_Std_New  \n",
       "0               0.006965  \n",
       "1               0.006826  \n",
       "2               0.006791  \n",
       "3               0.006807  \n",
       "4               0.006795  \n",
       "5               0.008042  \n",
       "6               0.007115  \n",
       "7               0.008666  \n",
       "8               0.008567  \n",
       "9               0.032453  "
      ]
     },
     "execution_count": 6,
     "metadata": {},
     "output_type": "execute_result"
    }
   ],
   "source": [
    "data_test = pd.concat([\n",
    "        df_test, \n",
    "        DataFrame({'RRF_Predicted_New': mu.flatten(), 'RRF_Predicted_Std_New': s.flatten()})], axis=1)\n",
    "\n",
    "data_test[['Name', 'RRF_Measured', 'RRF_Predicted', 'RRF_Predicted_New', 'RRF_Predicted_Std_New']]"
   ]
  },
  {
   "cell_type": "markdown",
   "metadata": {},
   "source": [
    "# Comparison of model metrics"
   ]
  },
  {
   "cell_type": "code",
   "execution_count": 7,
   "metadata": {
    "collapsed": false
   },
   "outputs": [
    {
     "data": {
      "text/plain": [
       "LinearRegression(copy_X=True, fit_intercept=True, n_jobs=1, normalize=False)"
      ]
     },
     "execution_count": 7,
     "metadata": {},
     "output_type": "execute_result"
    }
   ],
   "source": [
    "from sklearn import linear_model\n",
    "\n",
    "regr = linear_model.LinearRegression()\n",
    "\n",
    "regr.fit(X_train, y_train)"
   ]
  },
  {
   "cell_type": "code",
   "execution_count": 8,
   "metadata": {
    "collapsed": false
   },
   "outputs": [],
   "source": [
    "y_true = data_test['RRF_Measured']\n",
    "y_pred = data_test['RRF_Predicted']\n",
    "y_pred_lin = regr.predict(X_test)\n",
    "y_pred_new = data_test['RRF_Predicted_New']"
   ]
  },
  {
   "cell_type": "code",
   "execution_count": 9,
   "metadata": {
    "collapsed": false
   },
   "outputs": [
    {
     "data": {
      "image/png": "[encoded data removed]",
      "text/plain": [
       "<matplotlib.figure.Figure at 0x10d938f90>"
      ]
     },
     "metadata": {},
     "output_type": "display_data"
    }
   ],
   "source": [
    "figsize(1.8 * default_fig_w, default_fig_h)\n",
    "\n",
    "ax = plt.subplot(1, 3, 1)\n",
    "plt.xlabel('RRF Measured')\n",
    "plt.ylabel('RRF Predicted (Reported)')\n",
    "plt.scatter(y_true, y_pred)\n",
    "plt.errorbar(y_true, y_pred, fmt='o', elinewidth=1, capthick=1, capsize=3, mew=0)\n",
    "\n",
    "xlim = plt.xlim()\n",
    "plt.plot([xlim[0], xlim[1]], [xlim[0], xlim[1]], 'r--', linewidth=.3)\n",
    "plt.xlim(*xlim)\n",
    "\n",
    "for x, y, label in zip(y_true, y_pred, df_test.ix[X_test.index]['Short Name']):\n",
    "    ann = ax.annotate(label, (x + 0.002, y), alpha=0.8)\n",
    "\n",
    "ylim = plt.ylim()\n",
    "\n",
    "plt.title('Reported Linear Model (Chalcraft et al.) $R^2$={:.4f}'.format(r2_score(y_true, y_pred)))\n",
    "#---\n",
    "\n",
    "ax = plt.subplot(1, 3, 2)\n",
    "plt.xlabel('RRF Measured')\n",
    "plt.ylabel('RRF Predicted (New)')\n",
    "plt.scatter(y_true, y_pred_lin)\n",
    "plt.errorbar(y_true, y_pred_lin, fmt='o', elinewidth=1, capthick=1, capsize=3, mew=0)\n",
    "\n",
    "xlim = plt.xlim()\n",
    "plt.plot([xlim[0], xlim[1]], [xlim[0], xlim[1]], 'r--', linewidth=.3)\n",
    "plt.xlim(*xlim)\n",
    "\n",
    "for x, y, label in zip(y_true, y_pred_lin, df_test.ix[X_test.index]['Short Name']):\n",
    "    ann = ax.annotate(label, (x + 0.002, y), alpha=0.8)\n",
    "\n",
    "ylim = plt.ylim()\n",
    "\n",
    "plt.title('Linear Model $R^2$={:.4f}'.format(r2_score(y_true, y_pred_lin)))\n",
    "#---\n",
    "\n",
    "ax = plt.subplot(1, 3, 3)\n",
    "plt.xlabel('RRF Measured')\n",
    "plt.ylabel('RRF Predicted (New)')\n",
    "plt.scatter(y_true, y_pred_new)\n",
    "plt.errorbar(y_true, y_pred_new, yerr=np.sqrt(var), fmt='o', elinewidth=1, capthick=1, capsize=3)\n",
    "\n",
    "plt.plot([xlim[0], xlim[1]], [xlim[0], xlim[1]], 'r--', linewidth=.3)\n",
    "plt.xlim(*xlim)\n",
    "plt.ylim(*ylim)\n",
    "\n",
    "for x, y, label in zip(y_true, y_pred_new, df_test.ix[X_test.index]['Short Name']):\n",
    "    ann = ax.annotate(label, (x + 0.002, y), alpha=0.8)\n",
    "\n",
    "plt.grid(True)\n",
    "plt.title('GPR Model $R^2$={:.4f}'.format(r2_score(y_true, y_pred_new)))\n",
    "\n",
    "plt.tight_layout(pad=0.1)\n",
    "\n",
    "if SAVE_FIG:\n",
    "    plt.savefig('../figures/linear_and_gp_regression.pdf')\n",
    "\n",
    "plt.show()"
   ]
  },
  {
   "cell_type": "markdown",
   "metadata": {},
   "source": [
    "## Metrics of the model reported in the paper"
   ]
  },
  {
   "cell_type": "code",
   "execution_count": 10,
   "metadata": {
    "collapsed": false
   },
   "outputs": [
    {
     "name": "stdout",
     "output_type": "stream",
     "text": [
      "mean_squared_error 6.947225e-05\n",
      "r2_score 0.893256890472\n"
     ]
    }
   ],
   "source": [
    "print(\"mean_squared_error\", mean_squared_error(y_true, y_pred))\n",
    "print(\"r2_score\", r2_score(y_true, y_pred))"
   ]
  },
  {
   "cell_type": "markdown",
   "metadata": {},
   "source": [
    "## Metrics of our new models"
   ]
  },
  {
   "cell_type": "code",
   "execution_count": 11,
   "metadata": {
    "collapsed": false
   },
   "outputs": [
    {
     "name": "stdout",
     "output_type": "stream",
     "text": [
      "Linear\n",
      "mean_squared_error 9.48819498111e-05\n",
      "r2_score 0.854215253415\n",
      "\n",
      "GP\n",
      "mean_squared_error 3.92663253373e-05\n",
      "r2_score 0.939667857796\n",
      "Log Likeliehood 35.1699923149\n"
     ]
    }
   ],
   "source": [
    "print(\"Linear\")\n",
    "print(\"mean_squared_error\", mean_squared_error(y_true, y_pred_lin))\n",
    "print(\"r2_score\", r2_score(y_true, y_pred_lin))\n",
    "\n",
    "print()\n",
    "print(\"GP\")\n",
    "print(\"mean_squared_error\", mean_squared_error(y_true, y_pred_new))\n",
    "print(\"r2_score\", r2_score(y_true, y_pred_new))\n",
    "print(\"Log Likeliehood\", np.sum([norm.logpdf(t[0], loc=t[1], scale=t[2]) for t in zip(y_true, y_pred_new, data_test['RRF_Predicted_Std_New'])]))"
   ]
  }
 ],
 "metadata": {
  "kernelspec": {
   "display_name": "Python 2",
   "language": "python",
   "name": "python2"
  },
  "language_info": {
   "codemirror_mode": {
    "name": "ipython",
    "version": 2
   },
   "file_extension": ".py",
   "mimetype": "text/x-python",
   "name": "python",
   "nbconvert_exporter": "python",
   "pygments_lexer": "ipython2",
   "version": "2.7.10"
  }
 },
 "nbformat": 4,
 "nbformat_minor": 0
}
