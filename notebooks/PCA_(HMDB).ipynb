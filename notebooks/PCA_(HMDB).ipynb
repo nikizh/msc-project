{
 "cells": [
  {
   "cell_type": "code",
   "execution_count": 1,
   "metadata": {
    "collapsed": false
   },
   "outputs": [],
   "source": [
    "from __future__ import print_function\n",
    "import numpy as np\n",
    "import pandas as pd\n",
    "import matplotlib.pyplot as plt\n",
    "import GPy\n",
    "import seaborn as sns\n",
    "from pandas import Series, DataFrame\n",
    "from sklearn.decomposition import PCA\n",
    "from sklearn.cluster import KMeans\n",
    "from sklearn.metrics import explained_variance_score\n",
    "from sklearn.metrics import mean_absolute_error\n",
    "from sklearn.metrics import r2_score\n",
    "from IPython.core.pylabtools import figsize\n",
    "\n",
    "%matplotlib inline\n",
    "figsize(16, 8)\n",
    "\n",
    "INCLUDE_TEST_DATA = False"
   ]
  },
  {
   "cell_type": "markdown",
   "metadata": {},
   "source": [
    "# Load and adjust the data"
   ]
  },
  {
   "cell_type": "code",
   "execution_count": 2,
   "metadata": {
    "collapsed": false
   },
   "outputs": [],
   "source": [
    "df_train = pd.read_csv('../data/TableS2_training_hmdb.csv', keep_default_na=False)\n",
    "df_train = df_train[df_train['Annotation'] == '']\n",
    "\n",
    "if INCLUDE_TEST_DATA:\n",
    "    df_test = pd.read_csv('../data/TableS3_training_hmdb.csv', keep_default_na=False)\n",
    "    df_train = pd.concat([df_train, df_test])"
   ]
  },
  {
   "cell_type": "markdown",
   "metadata": {},
   "source": [
    "## Available Features"
   ]
  },
  {
   "cell_type": "code",
   "execution_count": 3,
   "metadata": {
    "collapsed": false,
    "scrolled": true
   },
   "outputs": [],
   "source": [
    "# DataFrame(df_train.columns, columns=['Column'])"
   ]
  },
  {
   "cell_type": "code",
   "execution_count": 4,
   "metadata": {
    "collapsed": false
   },
   "outputs": [
    {
     "name": "stdout",
     "output_type": "stream",
     "text": [
      "Number of metabolites (training): 34\n"
     ]
    }
   ],
   "source": [
    "features = [u'EXACT_MASS',\n",
    "            u'ALOGPS_LOGP', u'ALOGPS_LOGS',\n",
    "            u'MOLECULAR_WEIGHT',\n",
    "            u'JCHEM_ACCEPTOR_COUNT', u'JCHEM_BASIC_PKA', u'JCHEM_ACIDIC_PKA',\n",
    "            u'JCHEM_DONOR_COUNT', u'JCHEM_LOGP', u'JCHEM_PHYSIOLOGICAL_CHARGE',\n",
    "            u'JCHEM_POLARIZABILITY', u'JCHEM_POLAR_SURFACE_AREA',\n",
    "            u'JCHEM_REFRACTIVITY', u'JCHEM_ROTATABLE_BOND_COUNT']\n",
    "\n",
    "# Training Data\n",
    "X_train = df_train[features]\n",
    "y_train = df_train[['RRF_Measured']]\n",
    "\n",
    "print(\"Number of metabolites (training):\", len(X_train))"
   ]
  },
  {
   "cell_type": "markdown",
   "metadata": {},
   "source": [
    "# Fit PCA"
   ]
  },
  {
   "cell_type": "code",
   "execution_count": 5,
   "metadata": {
    "collapsed": false
   },
   "outputs": [
    {
     "data": {
      "text/plain": [
       "PCA(copy=True, n_components=3, whiten=True)"
      ]
     },
     "execution_count": 5,
     "metadata": {},
     "output_type": "execute_result"
    }
   ],
   "source": [
    "pca = PCA(n_components=3, whiten=True)\n",
    "\n",
    "pca.fit(X_train)"
   ]
  },
  {
   "cell_type": "code",
   "execution_count": 6,
   "metadata": {
    "collapsed": false
   },
   "outputs": [
    {
     "name": "stdout",
     "output_type": "stream",
     "text": [
      "explained_variance_ [ 4456.5163001    393.97282037    29.32059053]\n",
      "explained_variance_ratio_ [ 0.90717851  0.080198    0.00596857]\n"
     ]
    },
    {
     "data": {
      "text/html": [
       "<div>\n",
       "<table border=\"1\" class=\"dataframe\">\n",
       "  <thead>\n",
       "    <tr style=\"text-align: right;\">\n",
       "      <th></th>\n",
       "      <th>EXACT_MASS</th>\n",
       "      <th>ALOGPS_LOGP</th>\n",
       "      <th>ALOGPS_LOGS</th>\n",
       "      <th>MOLECULAR_WEIGHT</th>\n",
       "      <th>JCHEM_ACCEPTOR_COUNT</th>\n",
       "      <th>JCHEM_BASIC_PKA</th>\n",
       "      <th>JCHEM_ACIDIC_PKA</th>\n",
       "      <th>JCHEM_DONOR_COUNT</th>\n",
       "      <th>JCHEM_LOGP</th>\n",
       "      <th>JCHEM_PHYSIOLOGICAL_CHARGE</th>\n",
       "      <th>JCHEM_POLARIZABILITY</th>\n",
       "      <th>JCHEM_POLAR_SURFACE_AREA</th>\n",
       "      <th>JCHEM_REFRACTIVITY</th>\n",
       "      <th>JCHEM_ROTATABLE_BOND_COUNT</th>\n",
       "    </tr>\n",
       "  </thead>\n",
       "  <tbody>\n",
       "    <tr>\n",
       "      <th>0</th>\n",
       "      <td>0.660970</td>\n",
       "      <td>-0.003007</td>\n",
       "      <td>-0.007602</td>\n",
       "      <td>0.661514</td>\n",
       "      <td>0.017052</td>\n",
       "      <td>-0.005765</td>\n",
       "      <td>0.002191</td>\n",
       "      <td>0.009637</td>\n",
       "      <td>-0.005313</td>\n",
       "      <td>-0.000124</td>\n",
       "      <td>0.061501</td>\n",
       "      <td>0.313468</td>\n",
       "      <td>0.151120</td>\n",
       "      <td>0.010898</td>\n",
       "    </tr>\n",
       "    <tr>\n",
       "      <th>1</th>\n",
       "      <td>-0.184404</td>\n",
       "      <td>-0.042943</td>\n",
       "      <td>0.021434</td>\n",
       "      <td>-0.185435</td>\n",
       "      <td>0.049011</td>\n",
       "      <td>0.045393</td>\n",
       "      <td>-0.082056</td>\n",
       "      <td>0.025682</td>\n",
       "      <td>-0.039045</td>\n",
       "      <td>-0.008141</td>\n",
       "      <td>-0.058164</td>\n",
       "      <td>0.917425</td>\n",
       "      <td>-0.266029</td>\n",
       "      <td>-0.006098</td>\n",
       "    </tr>\n",
       "    <tr>\n",
       "      <th>2</th>\n",
       "      <td>0.122116</td>\n",
       "      <td>0.046541</td>\n",
       "      <td>0.027819</td>\n",
       "      <td>0.127301</td>\n",
       "      <td>-0.019291</td>\n",
       "      <td>0.641901</td>\n",
       "      <td>-0.051507</td>\n",
       "      <td>0.073306</td>\n",
       "      <td>0.128450</td>\n",
       "      <td>0.008922</td>\n",
       "      <td>0.043462</td>\n",
       "      <td>-0.181180</td>\n",
       "      <td>-0.702934</td>\n",
       "      <td>-0.009805</td>\n",
       "    </tr>\n",
       "  </tbody>\n",
       "</table>\n",
       "</div>"
      ],
      "text/plain": [
       "   EXACT_MASS  ALOGPS_LOGP  ALOGPS_LOGS  MOLECULAR_WEIGHT  \\\n",
       "0    0.660970    -0.003007    -0.007602          0.661514   \n",
       "1   -0.184404    -0.042943     0.021434         -0.185435   \n",
       "2    0.122116     0.046541     0.027819          0.127301   \n",
       "\n",
       "   JCHEM_ACCEPTOR_COUNT  JCHEM_BASIC_PKA  JCHEM_ACIDIC_PKA  JCHEM_DONOR_COUNT  \\\n",
       "0              0.017052        -0.005765          0.002191           0.009637   \n",
       "1              0.049011         0.045393         -0.082056           0.025682   \n",
       "2             -0.019291         0.641901         -0.051507           0.073306   \n",
       "\n",
       "   JCHEM_LOGP  JCHEM_PHYSIOLOGICAL_CHARGE  JCHEM_POLARIZABILITY  \\\n",
       "0   -0.005313                   -0.000124              0.061501   \n",
       "1   -0.039045                   -0.008141             -0.058164   \n",
       "2    0.128450                    0.008922              0.043462   \n",
       "\n",
       "   JCHEM_POLAR_SURFACE_AREA  JCHEM_REFRACTIVITY  JCHEM_ROTATABLE_BOND_COUNT  \n",
       "0                  0.313468            0.151120                    0.010898  \n",
       "1                  0.917425           -0.266029                   -0.006098  \n",
       "2                 -0.181180           -0.702934                   -0.009805  "
      ]
     },
     "execution_count": 6,
     "metadata": {},
     "output_type": "execute_result"
    }
   ],
   "source": [
    "print('explained_variance_', pca.explained_variance_)\n",
    "print('explained_variance_ratio_', pca.explained_variance_ratio_)\n",
    "\n",
    "DataFrame(pca.components_, columns=features)"
   ]
  },
  {
   "cell_type": "markdown",
   "metadata": {},
   "source": [
    "# PCA Transform"
   ]
  },
  {
   "cell_type": "code",
   "execution_count": 7,
   "metadata": {
    "collapsed": false
   },
   "outputs": [
    {
     "data": {
      "image/png": "[encoded data removed]",
      "text/plain": [
       "<matplotlib.figure.Figure at 0x1096bad10>"
      ]
     },
     "metadata": {},
     "output_type": "display_data"
    }
   ],
   "source": [
    "X_train_tr = pca.transform(X_train)\n",
    "\n",
    "fig, ax = plt.subplots()\n",
    "\n",
    "plt.scatter(X_train_tr[:, 0], X_train_tr[:, 1])\n",
    "\n",
    "for x, y, label in zip(X_train_tr[:, 0], X_train_tr[:, 1], df_train['Short Name']):\n",
    "    ann = ax.annotate(label, (x, y))\n",
    "\n",
    "plt.grid(True)\n",
    "plt.show()"
   ]
  },
  {
   "cell_type": "markdown",
   "metadata": {},
   "source": [
    "# PCA Components"
   ]
  },
  {
   "cell_type": "code",
   "execution_count": 8,
   "metadata": {
    "collapsed": false
   },
   "outputs": [
    {
     "data": {
      "image/png": "[encoded data removed]",
      "text/plain": [
       "<matplotlib.figure.Figure at 0x109503f90>"
      ]
     },
     "metadata": {},
     "output_type": "display_data"
    }
   ],
   "source": [
    "fig, ax = plt.subplots()\n",
    "\n",
    "plt.scatter(pca.components_[0], pca.components_[1])\n",
    "colors = sns.hls_palette(len(features), l=.3, s=.8)\n",
    "\n",
    "for x, y, label, c in zip(pca.components_[0], pca.components_[1], features, colors):\n",
    "    ann = ax.annotate(label, (x, y), color=c)\n",
    "\n",
    "plt.grid(True)\n",
    "plt.show()"
   ]
  },
  {
   "cell_type": "markdown",
   "metadata": {},
   "source": [
    "# Feature Clusters"
   ]
  },
  {
   "cell_type": "code",
   "execution_count": 9,
   "metadata": {
    "collapsed": true
   },
   "outputs": [],
   "source": [
    "X = pca.components_[0]\n",
    "Y = pca.components_[1]\n",
    "\n",
    "df = DataFrame({'X': X, 'Y': Y, 'LABEL': features})"
   ]
  },
  {
   "cell_type": "code",
   "execution_count": 10,
   "metadata": {
    "collapsed": false
   },
   "outputs": [
    {
     "data": {
      "text/html": [
       "<div>\n",
       "<table border=\"1\" class=\"dataframe\">\n",
       "  <thead>\n",
       "    <tr style=\"text-align: right;\">\n",
       "      <th></th>\n",
       "      <th>LABEL</th>\n",
       "      <th>X</th>\n",
       "      <th>Y</th>\n",
       "      <th>CLUSTER</th>\n",
       "    </tr>\n",
       "  </thead>\n",
       "  <tbody>\n",
       "    <tr>\n",
       "      <th>1</th>\n",
       "      <td>ALOGPS_LOGP</td>\n",
       "      <td>-0.003007</td>\n",
       "      <td>-0.042943</td>\n",
       "      <td>0</td>\n",
       "    </tr>\n",
       "    <tr>\n",
       "      <th>2</th>\n",
       "      <td>ALOGPS_LOGS</td>\n",
       "      <td>-0.007602</td>\n",
       "      <td>0.021434</td>\n",
       "      <td>0</td>\n",
       "    </tr>\n",
       "    <tr>\n",
       "      <th>4</th>\n",
       "      <td>JCHEM_ACCEPTOR_COUNT</td>\n",
       "      <td>0.017052</td>\n",
       "      <td>0.049011</td>\n",
       "      <td>0</td>\n",
       "    </tr>\n",
       "    <tr>\n",
       "      <th>5</th>\n",
       "      <td>JCHEM_BASIC_PKA</td>\n",
       "      <td>-0.005765</td>\n",
       "      <td>0.045393</td>\n",
       "      <td>0</td>\n",
       "    </tr>\n",
       "    <tr>\n",
       "      <th>6</th>\n",
       "      <td>JCHEM_ACIDIC_PKA</td>\n",
       "      <td>0.002191</td>\n",
       "      <td>-0.082056</td>\n",
       "      <td>0</td>\n",
       "    </tr>\n",
       "    <tr>\n",
       "      <th>7</th>\n",
       "      <td>JCHEM_DONOR_COUNT</td>\n",
       "      <td>0.009637</td>\n",
       "      <td>0.025682</td>\n",
       "      <td>0</td>\n",
       "    </tr>\n",
       "    <tr>\n",
       "      <th>8</th>\n",
       "      <td>JCHEM_LOGP</td>\n",
       "      <td>-0.005313</td>\n",
       "      <td>-0.039045</td>\n",
       "      <td>0</td>\n",
       "    </tr>\n",
       "    <tr>\n",
       "      <th>9</th>\n",
       "      <td>JCHEM_PHYSIOLOGICAL_CHARGE</td>\n",
       "      <td>-0.000124</td>\n",
       "      <td>-0.008141</td>\n",
       "      <td>0</td>\n",
       "    </tr>\n",
       "    <tr>\n",
       "      <th>10</th>\n",
       "      <td>JCHEM_POLARIZABILITY</td>\n",
       "      <td>0.061501</td>\n",
       "      <td>-0.058164</td>\n",
       "      <td>0</td>\n",
       "    </tr>\n",
       "    <tr>\n",
       "      <th>13</th>\n",
       "      <td>JCHEM_ROTATABLE_BOND_COUNT</td>\n",
       "      <td>0.010898</td>\n",
       "      <td>-0.006098</td>\n",
       "      <td>0</td>\n",
       "    </tr>\n",
       "    <tr>\n",
       "      <th>11</th>\n",
       "      <td>JCHEM_POLAR_SURFACE_AREA</td>\n",
       "      <td>0.313468</td>\n",
       "      <td>0.917425</td>\n",
       "      <td>1</td>\n",
       "    </tr>\n",
       "    <tr>\n",
       "      <th>0</th>\n",
       "      <td>EXACT_MASS</td>\n",
       "      <td>0.660970</td>\n",
       "      <td>-0.184404</td>\n",
       "      <td>2</td>\n",
       "    </tr>\n",
       "    <tr>\n",
       "      <th>3</th>\n",
       "      <td>MOLECULAR_WEIGHT</td>\n",
       "      <td>0.661514</td>\n",
       "      <td>-0.185435</td>\n",
       "      <td>2</td>\n",
       "    </tr>\n",
       "    <tr>\n",
       "      <th>12</th>\n",
       "      <td>JCHEM_REFRACTIVITY</td>\n",
       "      <td>0.151120</td>\n",
       "      <td>-0.266029</td>\n",
       "      <td>3</td>\n",
       "    </tr>\n",
       "  </tbody>\n",
       "</table>\n",
       "</div>"
      ],
      "text/plain": [
       "                         LABEL         X         Y  CLUSTER\n",
       "1                  ALOGPS_LOGP -0.003007 -0.042943        0\n",
       "2                  ALOGPS_LOGS -0.007602  0.021434        0\n",
       "4         JCHEM_ACCEPTOR_COUNT  0.017052  0.049011        0\n",
       "5              JCHEM_BASIC_PKA -0.005765  0.045393        0\n",
       "6             JCHEM_ACIDIC_PKA  0.002191 -0.082056        0\n",
       "7            JCHEM_DONOR_COUNT  0.009637  0.025682        0\n",
       "8                   JCHEM_LOGP -0.005313 -0.039045        0\n",
       "9   JCHEM_PHYSIOLOGICAL_CHARGE -0.000124 -0.008141        0\n",
       "10        JCHEM_POLARIZABILITY  0.061501 -0.058164        0\n",
       "13  JCHEM_ROTATABLE_BOND_COUNT  0.010898 -0.006098        0\n",
       "11    JCHEM_POLAR_SURFACE_AREA  0.313468  0.917425        1\n",
       "0                   EXACT_MASS  0.660970 -0.184404        2\n",
       "3             MOLECULAR_WEIGHT  0.661514 -0.185435        2\n",
       "12          JCHEM_REFRACTIVITY  0.151120 -0.266029        3"
      ]
     },
     "execution_count": 10,
     "metadata": {},
     "output_type": "execute_result"
    }
   ],
   "source": [
    "N_CLUSTERS = 4\n",
    "\n",
    "kmeans = KMeans(n_clusters=N_CLUSTERS)\n",
    "kmeans.fit(df[['X', 'Y']])\n",
    "\n",
    "clusters = Series(kmeans.predict(df[['X', 'Y']]), name='CLUSTER')\n",
    "                  \n",
    "df_grouped_features = pd.concat([df, clusters], axis=1)\n",
    "df_grouped_features.sort(columns=['CLUSTER'], ascending=True, inplace=True)\n",
    "\n",
    "df_grouped_features"
   ]
  }
 ],
 "metadata": {
  "kernelspec": {
   "display_name": "Python 2",
   "language": "python",
   "name": "python2"
  },
  "language_info": {
   "codemirror_mode": {
    "name": "ipython",
    "version": 2
   },
   "file_extension": ".py",
   "mimetype": "text/x-python",
   "name": "python",
   "nbconvert_exporter": "python",
   "pygments_lexer": "ipython2",
   "version": "2.7.10"
  }
 },
 "nbformat": 4,
 "nbformat_minor": 0
}
