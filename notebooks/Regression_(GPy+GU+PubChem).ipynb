{
 "cells": [
  {
   "cell_type": "code",
   "execution_count": 14,
   "metadata": {
    "collapsed": false
   },
   "outputs": [],
   "source": [
    "from __future__ import print_function\n",
    "from __future__ import division\n",
    "import numpy as np\n",
    "import pandas as pd\n",
    "import seaborn as sns\n",
    "import matplotlib.pyplot as plt\n",
    "import GPy\n",
    "from pandas import Series, DataFrame\n",
    "from sklearn.decomposition import PCA\n",
    "from sklearn.metrics import r2_score\n",
    "from sklearn import cross_validation\n",
    "from IPython.core.pylabtools import figsize\n",
    "\n",
    "%matplotlib inline\n",
    "figsize(16, 8)"
   ]
  },
  {
   "cell_type": "markdown",
   "metadata": {},
   "source": [
    "# Load and adjust the data"
   ]
  },
  {
   "cell_type": "code",
   "execution_count": 15,
   "metadata": {
    "collapsed": false
   },
   "outputs": [],
   "source": [
    "df_std1 = pd.read_csv('../data/std1_mh_11_pubchem.csv', keep_default_na=False)\n",
    "\n",
    "df_std1.drop([0, 7], axis=0, inplace=True)\n",
    "df_std1['xlogp'] = df_std1['xlogp'].astype(float)\n",
    "\n",
    "max_intensity = df_std1['Dil_1_1'].max()\n",
    "df_std1['Dil_1_1'] = df_std1['Dil_1_1'] / max_intensity\n",
    "df_std1['Dil_1_1'] = np.log(df_std1['Dil_1_1'])"
   ]
  },
  {
   "cell_type": "code",
   "execution_count": 16,
   "metadata": {
    "collapsed": false
   },
   "outputs": [
    {
     "data": {
      "text/html": [
       "<div>\n",
       "<table border=\"1\" class=\"dataframe\">\n",
       "  <thead>\n",
       "    <tr style=\"text-align: right;\">\n",
       "      <th></th>\n",
       "      <th>Name</th>\n",
       "      <th>Formula</th>\n",
       "      <th>Adduct</th>\n",
       "      <th>Dil_1_1</th>\n",
       "      <th>InChI</th>\n",
       "      <th>InChI_Key</th>\n",
       "      <th>cid</th>\n",
       "      <th>complexity</th>\n",
       "      <th>exact_mass</th>\n",
       "      <th>h_bond_acceptor_count</th>\n",
       "      <th>h_bond_donor_count</th>\n",
       "      <th>heavy_atom_count</th>\n",
       "      <th>molecular_formula</th>\n",
       "      <th>rotatable_bond_count</th>\n",
       "      <th>tpsa</th>\n",
       "      <th>xlogp</th>\n",
       "    </tr>\n",
       "  </thead>\n",
       "  <tbody>\n",
       "    <tr>\n",
       "      <th>1</th>\n",
       "      <td>Glycerol</td>\n",
       "      <td>C3H8O3</td>\n",
       "      <td>M+H</td>\n",
       "      <td>-7.394659</td>\n",
       "      <td>InChI=1S/C3H8O3/c4-1-3(6)2-5/h3-6H,1-2H2</td>\n",
       "      <td>PEDCQBHIVMGVHV-UHFFFAOYSA-N</td>\n",
       "      <td>753</td>\n",
       "      <td>25.2</td>\n",
       "      <td>92.047344</td>\n",
       "      <td>3</td>\n",
       "      <td>3</td>\n",
       "      <td>6</td>\n",
       "      <td>C3H8O3</td>\n",
       "      <td>2</td>\n",
       "      <td>60.7</td>\n",
       "      <td>-1.8</td>\n",
       "    </tr>\n",
       "    <tr>\n",
       "      <th>2</th>\n",
       "      <td>Inosine</td>\n",
       "      <td>C10H12N4O5</td>\n",
       "      <td>M+H</td>\n",
       "      <td>-3.916621</td>\n",
       "      <td>InChI=1S/C10H12N4O5/c15-1-4-6(16)7(17)10(19-4)...</td>\n",
       "      <td>UGQMRVRMYYASKQ-KQYNXXCUSA-N</td>\n",
       "      <td>6021</td>\n",
       "      <td>405.0</td>\n",
       "      <td>268.080770</td>\n",
       "      <td>6</td>\n",
       "      <td>4</td>\n",
       "      <td>19</td>\n",
       "      <td>C10H12N4O5</td>\n",
       "      <td>2</td>\n",
       "      <td>129.0</td>\n",
       "      <td>-2.1</td>\n",
       "    </tr>\n",
       "    <tr>\n",
       "      <th>3</th>\n",
       "      <td>L-Phenylalanine</td>\n",
       "      <td>C9H11NO2</td>\n",
       "      <td>M+H</td>\n",
       "      <td>-3.105088</td>\n",
       "      <td>InChI=1S/C9H11NO2/c10-8(9(11)12)6-7-4-2-1-3-5-...</td>\n",
       "      <td>COLNVLDHVKWLRT-QMMMGPOBSA-N</td>\n",
       "      <td>6140</td>\n",
       "      <td>153.0</td>\n",
       "      <td>165.078979</td>\n",
       "      <td>3</td>\n",
       "      <td>2</td>\n",
       "      <td>12</td>\n",
       "      <td>C9H11NO2</td>\n",
       "      <td>3</td>\n",
       "      <td>63.3</td>\n",
       "      <td>-1.5</td>\n",
       "    </tr>\n",
       "    <tr>\n",
       "      <th>4</th>\n",
       "      <td>L-Leucine</td>\n",
       "      <td>C6H13NO2</td>\n",
       "      <td>M+H</td>\n",
       "      <td>-2.883778</td>\n",
       "      <td>InChI=1S/C6H13NO2/c1-4(2)3-5(7)6(8)9/h4-5H,3,7...</td>\n",
       "      <td>ROHFNLRQFUQHCH-YFKPBYRVSA-N</td>\n",
       "      <td>6106</td>\n",
       "      <td>101.0</td>\n",
       "      <td>131.094629</td>\n",
       "      <td>3</td>\n",
       "      <td>2</td>\n",
       "      <td>9</td>\n",
       "      <td>C6H13NO2</td>\n",
       "      <td>3</td>\n",
       "      <td>63.3</td>\n",
       "      <td>-1.5</td>\n",
       "    </tr>\n",
       "    <tr>\n",
       "      <th>5</th>\n",
       "      <td>L-Tryptophan</td>\n",
       "      <td>C11H12N2O2</td>\n",
       "      <td>M+H</td>\n",
       "      <td>-3.517573</td>\n",
       "      <td>InChI=1S/C11H12N2O2/c12-9(11(14)15)5-7-6-13-10...</td>\n",
       "      <td>QIVBCDIJIAJPQS-VIFPVBQESA-N</td>\n",
       "      <td>6305</td>\n",
       "      <td>245.0</td>\n",
       "      <td>204.089878</td>\n",
       "      <td>3</td>\n",
       "      <td>3</td>\n",
       "      <td>15</td>\n",
       "      <td>C11H12N2O2</td>\n",
       "      <td>3</td>\n",
       "      <td>79.1</td>\n",
       "      <td>-1.1</td>\n",
       "    </tr>\n",
       "  </tbody>\n",
       "</table>\n",
       "</div>"
      ],
      "text/plain": [
       "              Name     Formula Adduct   Dil_1_1  \\\n",
       "1         Glycerol      C3H8O3    M+H -7.394659   \n",
       "2          Inosine  C10H12N4O5    M+H -3.916621   \n",
       "3  L-Phenylalanine    C9H11NO2    M+H -3.105088   \n",
       "4        L-Leucine    C6H13NO2    M+H -2.883778   \n",
       "5     L-Tryptophan  C11H12N2O2    M+H -3.517573   \n",
       "\n",
       "                                               InChI  \\\n",
       "1           InChI=1S/C3H8O3/c4-1-3(6)2-5/h3-6H,1-2H2   \n",
       "2  InChI=1S/C10H12N4O5/c15-1-4-6(16)7(17)10(19-4)...   \n",
       "3  InChI=1S/C9H11NO2/c10-8(9(11)12)6-7-4-2-1-3-5-...   \n",
       "4  InChI=1S/C6H13NO2/c1-4(2)3-5(7)6(8)9/h4-5H,3,7...   \n",
       "5  InChI=1S/C11H12N2O2/c12-9(11(14)15)5-7-6-13-10...   \n",
       "\n",
       "                     InChI_Key   cid  complexity  exact_mass  \\\n",
       "1  PEDCQBHIVMGVHV-UHFFFAOYSA-N   753        25.2   92.047344   \n",
       "2  UGQMRVRMYYASKQ-KQYNXXCUSA-N  6021       405.0  268.080770   \n",
       "3  COLNVLDHVKWLRT-QMMMGPOBSA-N  6140       153.0  165.078979   \n",
       "4  ROHFNLRQFUQHCH-YFKPBYRVSA-N  6106       101.0  131.094629   \n",
       "5  QIVBCDIJIAJPQS-VIFPVBQESA-N  6305       245.0  204.089878   \n",
       "\n",
       "   h_bond_acceptor_count  h_bond_donor_count  heavy_atom_count  \\\n",
       "1                      3                   3                 6   \n",
       "2                      6                   4                19   \n",
       "3                      3                   2                12   \n",
       "4                      3                   2                 9   \n",
       "5                      3                   3                15   \n",
       "\n",
       "  molecular_formula  rotatable_bond_count   tpsa  xlogp  \n",
       "1            C3H8O3                     2   60.7   -1.8  \n",
       "2        C10H12N4O5                     2  129.0   -2.1  \n",
       "3          C9H11NO2                     3   63.3   -1.5  \n",
       "4          C6H13NO2                     3   63.3   -1.5  \n",
       "5        C11H12N2O2                     3   79.1   -1.1  "
      ]
     },
     "execution_count": 16,
     "metadata": {},
     "output_type": "execute_result"
    }
   ],
   "source": [
    "df_std1.head(5)"
   ]
  },
  {
   "cell_type": "markdown",
   "metadata": {},
   "source": [
    "# Data preparation"
   ]
  },
  {
   "cell_type": "code",
   "execution_count": 17,
   "metadata": {
    "collapsed": false
   },
   "outputs": [
    {
     "name": "stdout",
     "output_type": "stream",
     "text": [
      "Number of metabolites (training): 46\n",
      "Number of metabolites (testing): 16\n"
     ]
    }
   ],
   "source": [
    "features = [u'complexity', u'exact_mass', u'h_bond_acceptor_count',\n",
    "            u'h_bond_donor_count', u'heavy_atom_count',\n",
    "            u'rotatable_bond_count', u'tpsa', u'xlogp']\n",
    "\n",
    "X_train, X_test, y_train, y_test = cross_validation.train_test_split(\n",
    "    df_std1, df_std1[['Dil_1_1']], test_size=0.25)\n",
    "\n",
    "print(\"Number of metabolites (training):\", len(X_train))\n",
    "print(\"Number of metabolites (testing):\", len(X_test))"
   ]
  },
  {
   "cell_type": "code",
   "execution_count": 18,
   "metadata": {
    "collapsed": false
   },
   "outputs": [
    {
     "data": {
      "text/html": [
       "<div>\n",
       "<table border=\"1\" class=\"dataframe\">\n",
       "  <thead>\n",
       "    <tr style=\"text-align: right;\">\n",
       "      <th></th>\n",
       "      <th>complexity</th>\n",
       "      <th>exact_mass</th>\n",
       "      <th>h_bond_acceptor_count</th>\n",
       "      <th>h_bond_donor_count</th>\n",
       "      <th>heavy_atom_count</th>\n",
       "      <th>rotatable_bond_count</th>\n",
       "      <th>tpsa</th>\n",
       "      <th>xlogp</th>\n",
       "    </tr>\n",
       "  </thead>\n",
       "  <tbody>\n",
       "    <tr>\n",
       "      <th>62</th>\n",
       "      <td>144.0</td>\n",
       "      <td>152.047344</td>\n",
       "      <td>3</td>\n",
       "      <td>2</td>\n",
       "      <td>11</td>\n",
       "      <td>2</td>\n",
       "      <td>57.5</td>\n",
       "      <td>0.9</td>\n",
       "    </tr>\n",
       "    <tr>\n",
       "      <th>42</th>\n",
       "      <td>545.0</td>\n",
       "      <td>354.056195</td>\n",
       "      <td>5</td>\n",
       "      <td>2</td>\n",
       "      <td>25</td>\n",
       "      <td>2</td>\n",
       "      <td>92.2</td>\n",
       "      <td>3.0</td>\n",
       "    </tr>\n",
       "    <tr>\n",
       "      <th>20</th>\n",
       "      <td>93.3</td>\n",
       "      <td>119.058243</td>\n",
       "      <td>4</td>\n",
       "      <td>3</td>\n",
       "      <td>8</td>\n",
       "      <td>2</td>\n",
       "      <td>83.6</td>\n",
       "      <td>-2.9</td>\n",
       "    </tr>\n",
       "    <tr>\n",
       "      <th>53</th>\n",
       "      <td>531.0</td>\n",
       "      <td>323.051851</td>\n",
       "      <td>8</td>\n",
       "      <td>5</td>\n",
       "      <td>21</td>\n",
       "      <td>4</td>\n",
       "      <td>175.0</td>\n",
       "      <td>-3.4</td>\n",
       "    </tr>\n",
       "    <tr>\n",
       "      <th>9</th>\n",
       "      <td>225.0</td>\n",
       "      <td>151.049410</td>\n",
       "      <td>2</td>\n",
       "      <td>3</td>\n",
       "      <td>11</td>\n",
       "      <td>0</td>\n",
       "      <td>96.2</td>\n",
       "      <td>-1.0</td>\n",
       "    </tr>\n",
       "  </tbody>\n",
       "</table>\n",
       "</div>"
      ],
      "text/plain": [
       "    complexity  exact_mass  h_bond_acceptor_count  h_bond_donor_count  \\\n",
       "62       144.0  152.047344                      3                   2   \n",
       "42       545.0  354.056195                      5                   2   \n",
       "20        93.3  119.058243                      4                   3   \n",
       "53       531.0  323.051851                      8                   5   \n",
       "9        225.0  151.049410                      2                   3   \n",
       "\n",
       "    heavy_atom_count  rotatable_bond_count   tpsa  xlogp  \n",
       "62                11                     2   57.5    0.9  \n",
       "42                25                     2   92.2    3.0  \n",
       "20                 8                     2   83.6   -2.9  \n",
       "53                21                     4  175.0   -3.4  \n",
       "9                 11                     0   96.2   -1.0  "
      ]
     },
     "execution_count": 18,
     "metadata": {},
     "output_type": "execute_result"
    }
   ],
   "source": [
    "X_train[features].head()"
   ]
  },
  {
   "cell_type": "markdown",
   "metadata": {},
   "source": [
    "# PCA"
   ]
  },
  {
   "cell_type": "code",
   "execution_count": 19,
   "metadata": {
    "collapsed": false
   },
   "outputs": [
    {
     "data": {
      "image/png": "[encoded data removed]",
      "text/plain": [
       "<matplotlib.figure.Figure at 0x10d60a090>"
      ]
     },
     "metadata": {},
     "output_type": "display_data"
    }
   ],
   "source": [
    "pca = PCA(n_components=3, whiten=True)\n",
    "\n",
    "pca.fit(X_train[features])\n",
    "\n",
    "fig, ax = plt.subplots()\n",
    "\n",
    "plt.scatter(pca.components_[0], pca.components_[1])\n",
    "colors = sns.hls_palette(len(features), l=.3, s=.8)\n",
    "\n",
    "for x, y, label, c in zip(pca.components_[0], pca.components_[1], features, colors):\n",
    "    ann = ax.annotate(label, (x, y), color=c)\n",
    "\n",
    "plt.grid(True)\n",
    "plt.show()"
   ]
  },
  {
   "cell_type": "code",
   "execution_count": 20,
   "metadata": {
    "collapsed": true
   },
   "outputs": [],
   "source": [
    "# features = [u'complexity', u'tpsa', u'xlogp']"
   ]
  },
  {
   "cell_type": "markdown",
   "metadata": {},
   "source": [
    "# Fit Gaussian Process"
   ]
  },
  {
   "cell_type": "code",
   "execution_count": 21,
   "metadata": {
    "collapsed": false
   },
   "outputs": [],
   "source": [
    "model = GPy.models.GPRegression(X_train[features], y_train)\n",
    "\n",
    "model.optimize()"
   ]
  },
  {
   "cell_type": "code",
   "execution_count": 22,
   "metadata": {
    "collapsed": false
   },
   "outputs": [
    {
     "data": {
      "text/html": [
       "\n",
       "<b>Model</b>: GP regression<br>\n",
       "<b>Log-likelihood</b>: -108.952939264<br>\n",
       "<b>Number of Parameters</b>: 3<br>\n",
       "<br><b>Parameters</b>:\n",
       "<table>\n",
       "<tr>\n",
       "  <td><b>GP_regression.</b>\n",
       "  <td><b>Value</b></td>\n",
       "  <td><b>Constraint</b></td>\n",
       "  <td><b>Prior</b></td>\n",
       "  <td><b>Tied to</b></td>\n",
       "<tr><td>rbf.variance           </td><td align=\"right\">3.34029782313</td><td>   +ve    </td><td>     </td><td>       </td></tr>\n",
       "<tr><td>rbf.lengthscale        </td><td align=\"right\"> 1.0000128902</td><td>   +ve    </td><td>     </td><td>       </td></tr>\n",
       "<tr><td>Gaussian_noise.variance</td><td align=\"right\"> 3.3402974552</td><td>   +ve    </td><td>     </td><td>       </td></tr>\n",
       "</table>"
      ],
      "text/plain": [
       "<GPy.models.gp_regression.GPRegression at 0x10df4a910>"
      ]
     },
     "metadata": {},
     "output_type": "display_data"
    }
   ],
   "source": [
    "from IPython.display import display\n",
    "display(model)"
   ]
  },
  {
   "cell_type": "markdown",
   "metadata": {},
   "source": [
    "# Make predictions\n",
    "\n",
    "We are making predictions on the same data we used for training, which doesn't seem correct"
   ]
  },
  {
   "cell_type": "code",
   "execution_count": 23,
   "metadata": {
    "collapsed": false
   },
   "outputs": [],
   "source": [
    "mu, var = model.predict(X_test[features].as_matrix())"
   ]
  },
  {
   "cell_type": "code",
   "execution_count": 24,
   "metadata": {
    "collapsed": false,
    "scrolled": false
   },
   "outputs": [
    {
     "data": {
      "text/html": [
       "<div>\n",
       "<table border=\"1\" class=\"dataframe\">\n",
       "  <thead>\n",
       "    <tr style=\"text-align: right;\">\n",
       "      <th></th>\n",
       "      <th>Name</th>\n",
       "      <th>Dil_1_1</th>\n",
       "      <th>Prediction</th>\n",
       "    </tr>\n",
       "  </thead>\n",
       "  <tbody>\n",
       "    <tr>\n",
       "      <th>8</th>\n",
       "      <td>L-Methionine</td>\n",
       "      <td>-2.508376</td>\n",
       "      <td>-5.160875</td>\n",
       "    </tr>\n",
       "    <tr>\n",
       "      <th>24</th>\n",
       "      <td>beta-Alanine</td>\n",
       "      <td>-4.041766</td>\n",
       "      <td>-5.160875</td>\n",
       "    </tr>\n",
       "    <tr>\n",
       "      <th>34</th>\n",
       "      <td>D-Glucosamine</td>\n",
       "      <td>-5.488390</td>\n",
       "      <td>-5.160875</td>\n",
       "    </tr>\n",
       "    <tr>\n",
       "      <th>2</th>\n",
       "      <td>Inosine</td>\n",
       "      <td>-3.916621</td>\n",
       "      <td>-5.160875</td>\n",
       "    </tr>\n",
       "    <tr>\n",
       "      <th>18</th>\n",
       "      <td>Creatinine</td>\n",
       "      <td>-0.885195</td>\n",
       "      <td>-5.160875</td>\n",
       "    </tr>\n",
       "    <tr>\n",
       "      <th>45</th>\n",
       "      <td>Uridine</td>\n",
       "      <td>-7.671607</td>\n",
       "      <td>-5.160875</td>\n",
       "    </tr>\n",
       "    <tr>\n",
       "      <th>33</th>\n",
       "      <td>L-Cystine</td>\n",
       "      <td>-7.480022</td>\n",
       "      <td>-5.160875</td>\n",
       "    </tr>\n",
       "    <tr>\n",
       "      <th>22</th>\n",
       "      <td>N-Acetyl-D-glucosamine</td>\n",
       "      <td>-4.111983</td>\n",
       "      <td>-5.160875</td>\n",
       "    </tr>\n",
       "    <tr>\n",
       "      <th>32</th>\n",
       "      <td>sn-glycero-3-Phosphocholine</td>\n",
       "      <td>-1.413259</td>\n",
       "      <td>-5.160875</td>\n",
       "    </tr>\n",
       "    <tr>\n",
       "      <th>43</th>\n",
       "      <td>Phenylhydrazine</td>\n",
       "      <td>-7.440500</td>\n",
       "      <td>-5.160875</td>\n",
       "    </tr>\n",
       "    <tr>\n",
       "      <th>1</th>\n",
       "      <td>Glycerol</td>\n",
       "      <td>-7.394659</td>\n",
       "      <td>-5.160875</td>\n",
       "    </tr>\n",
       "    <tr>\n",
       "      <th>47</th>\n",
       "      <td>L-Rhamnose</td>\n",
       "      <td>-8.957020</td>\n",
       "      <td>-5.160875</td>\n",
       "    </tr>\n",
       "    <tr>\n",
       "      <th>27</th>\n",
       "      <td>L-Serine</td>\n",
       "      <td>-6.098944</td>\n",
       "      <td>-5.160875</td>\n",
       "    </tr>\n",
       "    <tr>\n",
       "      <th>59</th>\n",
       "      <td>methylglyoxal</td>\n",
       "      <td>-10.743198</td>\n",
       "      <td>-5.160875</td>\n",
       "    </tr>\n",
       "    <tr>\n",
       "      <th>58</th>\n",
       "      <td>riboflavin</td>\n",
       "      <td>-6.249462</td>\n",
       "      <td>-5.160875</td>\n",
       "    </tr>\n",
       "    <tr>\n",
       "      <th>17</th>\n",
       "      <td>trans-4-Hydroxy-L-proline</td>\n",
       "      <td>-2.629617</td>\n",
       "      <td>-5.160875</td>\n",
       "    </tr>\n",
       "  </tbody>\n",
       "</table>\n",
       "</div>"
      ],
      "text/plain": [
       "                           Name    Dil_1_1  Prediction\n",
       "8                  L-Methionine  -2.508376   -5.160875\n",
       "24                 beta-Alanine  -4.041766   -5.160875\n",
       "34                D-Glucosamine  -5.488390   -5.160875\n",
       "2                       Inosine  -3.916621   -5.160875\n",
       "18                   Creatinine  -0.885195   -5.160875\n",
       "45                      Uridine  -7.671607   -5.160875\n",
       "33                    L-Cystine  -7.480022   -5.160875\n",
       "22       N-Acetyl-D-glucosamine  -4.111983   -5.160875\n",
       "32  sn-glycero-3-Phosphocholine  -1.413259   -5.160875\n",
       "43              Phenylhydrazine  -7.440500   -5.160875\n",
       "1                      Glycerol  -7.394659   -5.160875\n",
       "47                   L-Rhamnose  -8.957020   -5.160875\n",
       "27                     L-Serine  -6.098944   -5.160875\n",
       "59                methylglyoxal -10.743198   -5.160875\n",
       "58                   riboflavin  -6.249462   -5.160875\n",
       "17    trans-4-Hydroxy-L-proline  -2.629617   -5.160875"
      ]
     },
     "execution_count": 24,
     "metadata": {},
     "output_type": "execute_result"
    }
   ],
   "source": [
    "data = pd.concat([X_test, DataFrame(mu, columns=['Prediction'], index=X_test.index)], axis=1)\n",
    "\n",
    "data[['Name', 'Dil_1_1', 'Prediction']]"
   ]
  },
  {
   "cell_type": "markdown",
   "metadata": {},
   "source": [
    "# Comparison of model metrics"
   ]
  },
  {
   "cell_type": "code",
   "execution_count": 25,
   "metadata": {
    "collapsed": false
   },
   "outputs": [],
   "source": [
    "y_true = data['Dil_1_1']\n",
    "y_pred_new = data['Prediction']"
   ]
  },
  {
   "cell_type": "code",
   "execution_count": 26,
   "metadata": {
    "collapsed": false
   },
   "outputs": [
    {
     "data": {
      "image/png": "[encoded data removed]",
      "text/plain": [
       "<matplotlib.figure.Figure at 0x10dfc8510>"
      ]
     },
     "metadata": {},
     "output_type": "display_data"
    }
   ],
   "source": [
    "figsize(8, 8)\n",
    "plt.xlabel('Measured')\n",
    "plt.ylabel('New Predicted')\n",
    "plt.scatter(y_true, y_pred_new)\n",
    "plt.errorbar(y_true, y_pred_new, yerr=np.sqrt(var), fmt='o')\n",
    "plt.plot([0, 1], [0, 1], 'r--', linewidth=.3)\n",
    "plt.grid(True)\n",
    "plt.title('New Model $R^2$={:.4f}'.format(r2_score(y_true, y_pred_new)))\n",
    "\n",
    "plt.show()"
   ]
  }
 ],
 "metadata": {
  "kernelspec": {
   "display_name": "Python 2",
   "language": "python",
   "name": "python2"
  },
  "language_info": {
   "codemirror_mode": {
    "name": "ipython",
    "version": 2
   },
   "file_extension": ".py",
   "mimetype": "text/x-python",
   "name": "python",
   "nbconvert_exporter": "python",
   "pygments_lexer": "ipython2",
   "version": "2.7.10"
  }
 },
 "nbformat": 4,
 "nbformat_minor": 0
}
