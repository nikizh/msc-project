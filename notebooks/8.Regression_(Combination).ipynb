{
 "cells": [
  {
   "cell_type": "markdown",
   "metadata": {},
   "source": [
    "# Gaussian Process using Tanimoto kernel"
   ]
  },
  {
   "cell_type": "code",
   "execution_count": 1,
   "metadata": {
    "collapsed": false
   },
   "outputs": [],
   "source": [
    "from __future__ import division\n",
    "from __future__ import print_function\n",
    "import os\n",
    "import numpy as np\n",
    "import pandas as pd\n",
    "import seaborn as sns\n",
    "import matplotlib.pyplot as plt\n",
    "from rdkit import Chem\n",
    "from pandas import Series, DataFrame\n",
    "from sklearn.metrics import r2_score\n",
    "from GPz.model import GPR\n",
    "from GPz.kern import RBF, Tanimoto, MinMaxTanimoto, Pharmacore, CombinationKern\n",
    "from sklearn import cross_validation\n",
    "from scipy.stats import norm\n",
    "from IPython.core.display import display\n",
    "from IPython.core.pylabtools import figsize\n",
    "\n",
    "SAVE_FIG = True\n",
    "\n",
    "if SAVE_FIG:\n",
    "    from matplotlib import rcParams  \n",
    "    rcParams['axes.labelsize'] = 9  \n",
    "    rcParams['xtick.labelsize'] = 9  \n",
    "    rcParams['ytick.labelsize'] = 9  \n",
    "    rcParams['legend.fontsize'] = 9 \n",
    "    default_fig_w = 8\n",
    "    default_fig_h = 5\n",
    "else:\n",
    "    default_fig_w = 16\n",
    "    default_fig_h = 10\n",
    "\n",
    "%matplotlib inline\n",
    "figsize(default_fig_w, default_fig_h)"
   ]
  },
  {
   "cell_type": "markdown",
   "metadata": {},
   "source": [
    "# Load and adjust data"
   ]
  },
  {
   "cell_type": "code",
   "execution_count": 2,
   "metadata": {
    "collapsed": false
   },
   "outputs": [],
   "source": [
    "df_train = pd.read_csv('../data/TableS2_training_hmdb.csv', keep_default_na=False)\n",
    "df_test = pd.read_csv('../data/TableS3_training_hmdb.csv', keep_default_na=False)\n",
    "\n",
    "features = [\n",
    "    u'JCHEM_ACIDIC_PKA',\n",
    "    u'JCHEM_LOGP',\n",
    "    u'JCHEM_POLARIZABILITY',\n",
    "    u'JCHEM_POLAR_SURFACE_AREA',\n",
    "]\n",
    "\n",
    "columns = ['Name', 'Short Name', 'InChI', 'RRF_Measured', 'RRF_Predicted'] + features\n",
    "\n",
    "df_train = df_train[df_train['Annotation'] == '']\n",
    "df_train = df_train[columns]\n",
    "df_test = df_test[columns]"
   ]
  },
  {
   "cell_type": "code",
   "execution_count": 3,
   "metadata": {
    "collapsed": false
   },
   "outputs": [],
   "source": [
    "for df in [df_train, df_test]:\n",
    "    df['RRF_Measured'] = df['RRF_Measured'] * 1e-2\n",
    "    df['RRF_Predicted'] = df['RRF_Predicted'] * 1e-2\n",
    "    df['mol'] = df['InChI'].apply(lambda x: Chem.MolFromInchi(x))"
   ]
  },
  {
   "cell_type": "code",
   "execution_count": 4,
   "metadata": {
    "collapsed": false
   },
   "outputs": [],
   "source": [
    "def execute_gp(X_train, y_train, X_test, ls=1, var=1, nvar=1, k_alpha=1):\n",
    "    kern_a = RBF(ls, var, labels=features)\n",
    "    kern_b = MinMaxTanimoto(X_train, X_test, label='mol', alpha=1e-5, temp_dir='../data/')\n",
    "    kernel = CombinationKern(kern_a, kern_b, alpha=k_alpha, func=np.add)\n",
    "    gpr = GPR(X_train, y_train, kernel=kernel)\n",
    "    gpr.noise_variance = nvar\n",
    "    \n",
    "    mu, var = gpr.predict(X_test)\n",
    "    \n",
    "    return mu, var\n",
    "\n",
    "def plot_results(y_test, mu, s, title='New Model'):\n",
    "    r2 = r2_score(y_test, mu)\n",
    "\n",
    "    plt.xlabel('Measured')\n",
    "    plt.ylabel('New Predicted')\n",
    "    plt.scatter(y_test, mu)\n",
    "    \n",
    "    ylim = plt.ylim()\n",
    "    plt.errorbar(y_test, mu, yerr=s, fmt='o', elinewidth=1, capthick=1, capsize=3, lolims=False, uplims=False)\n",
    "    plt.ylim(*ylim)\n",
    "    \n",
    "    xlim = plt.xlim()\n",
    "    plt.plot([xlim[0], xlim[1]], [xlim[0], xlim[1]], 'r--', linewidth=.3)\n",
    "    plt.xlim(*xlim)\n",
    "    \n",
    "    plt.grid(True)\n",
    "    plt.title(title + ' $R^2$={:.4f}'.format(r2))"
   ]
  },
  {
   "cell_type": "code",
   "execution_count": 5,
   "metadata": {
    "collapsed": false
   },
   "outputs": [
    {
     "data": {
      "text/html": [
       "\n",
       "<b>Model</b>: GP regression<br>\n",
       "<b>Log-likelihood</b>: 101.900954219<br>\n",
       "<b>Number of Parameters</b>: 3<br>\n",
       "<br><b>Parameters</b>:\n",
       "<table>\n",
       "<tr>\n",
       "  <td><b>GP_regression.</b>\n",
       "  <td><b>Value</b></td>\n",
       "  <td><b>Constraint</b></td>\n",
       "  <td><b>Prior</b></td>\n",
       "  <td><b>Tied to</b></td>\n",
       "<tr><td>rbf.variance           </td><td align=\"right\"> 0.00244228283342</td><td>   +ve    </td><td>     </td><td>       </td></tr>\n",
       "<tr><td>rbf.lengthscale        </td><td align=\"right\">    29.5802668019</td><td>   +ve    </td><td>     </td><td>       </td></tr>\n",
       "<tr><td>Gaussian_noise.variance</td><td align=\"right\">4.45898364627e-05</td><td>   +ve    </td><td>     </td><td>       </td></tr>\n",
       "</table>"
      ],
      "text/plain": [
       "<GPy.models.gp_regression.GPRegression at 0x110fe3710>"
      ]
     },
     "metadata": {},
     "output_type": "display_data"
    }
   ],
   "source": [
    "import GPy\n",
    "\n",
    "gkern = GPy.kern.RBF(len(features), lengthscale=1, variance=1) \n",
    "model = GPy.models.GPRegression(df_train[features], df_train['RRF_Measured'].reshape(-1,1), normalizer=True, kernel=gkern)\n",
    "model.optimize()\n",
    "\n",
    "display(model)\n",
    "\n",
    "gpy_mu, gpy_var = model.predict(np.array(df_test[features]))\n",
    "gpy_s = np.sqrt(gpy_var)\n",
    "\n",
    "gpy_mu_train, gpy_var_train = model.predict(np.array(df_train[features]))\n",
    "gpy_s_train = np.sqrt(gpy_var_train)"
   ]
  },
  {
   "cell_type": "code",
   "execution_count": 6,
   "metadata": {
    "collapsed": false,
    "scrolled": false
   },
   "outputs": [
    {
     "name": "stdout",
     "output_type": "stream",
     "text": [
      "Test Log-likelihood: 34.890\n",
      "Train Log-likelihood: 125.677\n"
     ]
    }
   ],
   "source": [
    "mu, var = execute_gp(df_train, df_train['RRF_Measured'], df_test, ls=gkern.lengthscale, var=gkern.variance, nvar=model.likelihood.variance, k_alpha=1)\n",
    "s = np.sqrt(var)\n",
    "\n",
    "likelihoods = [norm.logpdf(t[0], loc=t[1], scale=t[2]) for t in zip(df_test['RRF_Measured'], mu, s)]\n",
    "print(\"Test Log-likelihood: {:.3f}\".format(np.sum(likelihoods)))\n",
    "\n",
    "train_mu, train_var = execute_gp(df_train, df_train['RRF_Measured'], df_train, ls=gkern.lengthscale, var=gkern.variance, nvar=model.likelihood.variance, k_alpha=1)\n",
    "train_s = np.sqrt(train_var)\n",
    "\n",
    "likelihoods = [norm.logpdf(t[0], loc=t[1], scale=t[2]) for t in zip(df_train['RRF_Measured'], train_mu, train_s)]\n",
    "print(\"Train Log-likelihood: {:.3f}\".format(np.sum(likelihoods)))"
   ]
  },
  {
   "cell_type": "markdown",
   "metadata": {
    "collapsed": true
   },
   "source": [
    "# Cross Validation"
   ]
  },
  {
   "cell_type": "code",
   "execution_count": 7,
   "metadata": {
    "collapsed": false
   },
   "outputs": [],
   "source": [
    "def cv(ls, var, nvar):\n",
    "    k_fold = cross_validation.KFold(len(df_train), n_folds=5)\n",
    "\n",
    "    grid_results = []\n",
    "    alphas = np.linspace(0.0001, 1.0, num=100)\n",
    "\n",
    "    for i, (train_fold, test_fold) in enumerate(k_fold):\n",
    "        X_train_fold = df_train.iloc[train_fold]\n",
    "        y_train_fold = df_train.iloc[train_fold]['RRF_Measured']\n",
    "        X_test_fold = df_train.iloc[test_fold]\n",
    "        y_test_fold = df_train.iloc[test_fold]['RRF_Measured']\n",
    "\n",
    "        for p_a in alphas:\n",
    "            mu, s = execute_gp(X_train_fold, y_train_fold, X_test_fold, ls, var, nvar, p_a)\n",
    "            log_likelihood = np.sum([norm.logpdf(t[0], loc=t[1], scale=t[2]) for t in zip(y_test_fold, mu, s)])\n",
    "            grid_results.append((p_a, log_likelihood))\n",
    "    \n",
    "    # Find the best parameter\n",
    "    df = DataFrame(grid_results, columns=['Alpha', 'LogLikelihood'])\n",
    "    best = df.groupby(['Alpha']).agg({'LogLikelihood' : np.sum}).sort(['LogLikelihood'], ascending=False)\n",
    "    display(best.head(10))\n",
    "    \n",
    "    return df, best.iloc[0].name"
   ]
  },
  {
   "cell_type": "code",
   "execution_count": 8,
   "metadata": {
    "collapsed": false
   },
   "outputs": [
    {
     "data": {
      "text/html": [
       "<div>\n",
       "<table border=\"1\" class=\"dataframe\">\n",
       "  <thead>\n",
       "    <tr style=\"text-align: right;\">\n",
       "      <th></th>\n",
       "      <th>LogLikelihood</th>\n",
       "    </tr>\n",
       "    <tr>\n",
       "      <th>Alpha</th>\n",
       "      <th></th>\n",
       "    </tr>\n",
       "  </thead>\n",
       "  <tbody>\n",
       "    <tr>\n",
       "      <th>0.1920</th>\n",
       "      <td>-37555.841961</td>\n",
       "    </tr>\n",
       "    <tr>\n",
       "      <th>0.1819</th>\n",
       "      <td>-37559.004328</td>\n",
       "    </tr>\n",
       "    <tr>\n",
       "      <th>0.2021</th>\n",
       "      <td>-37564.456686</td>\n",
       "    </tr>\n",
       "    <tr>\n",
       "      <th>0.1718</th>\n",
       "      <td>-37574.341074</td>\n",
       "    </tr>\n",
       "    <tr>\n",
       "      <th>0.2122</th>\n",
       "      <td>-37584.526467</td>\n",
       "    </tr>\n",
       "    <tr>\n",
       "      <th>0.1617</th>\n",
       "      <td>-37602.339412</td>\n",
       "    </tr>\n",
       "    <tr>\n",
       "      <th>0.2223</th>\n",
       "      <td>-37615.793249</td>\n",
       "    </tr>\n",
       "    <tr>\n",
       "      <th>0.1516</th>\n",
       "      <td>-37643.595790</td>\n",
       "    </tr>\n",
       "    <tr>\n",
       "      <th>0.2324</th>\n",
       "      <td>-37658.054205</td>\n",
       "    </tr>\n",
       "    <tr>\n",
       "      <th>0.1415</th>\n",
       "      <td>-37698.841679</td>\n",
       "    </tr>\n",
       "  </tbody>\n",
       "</table>\n",
       "</div>"
      ],
      "text/plain": [
       "        LogLikelihood\n",
       "Alpha                \n",
       "0.1920  -37555.841961\n",
       "0.1819  -37559.004328\n",
       "0.2021  -37564.456686\n",
       "0.1718  -37574.341074\n",
       "0.2122  -37584.526467\n",
       "0.1617  -37602.339412\n",
       "0.2223  -37615.793249\n",
       "0.1516  -37643.595790\n",
       "0.2324  -37658.054205\n",
       "0.1415  -37698.841679"
      ]
     },
     "metadata": {},
     "output_type": "display_data"
    }
   ],
   "source": [
    "df, alpha = cv(gkern.lengthscale, gkern.variance, model.likelihood.variance)"
   ]
  },
  {
   "cell_type": "code",
   "execution_count": 9,
   "metadata": {
    "collapsed": false,
    "scrolled": false
   },
   "outputs": [
    {
     "data": {
      "image/png": "[encoded data removed]",
      "text/plain": [
       "<matplotlib.figure.Figure at 0x110944190>"
      ]
     },
     "metadata": {},
     "output_type": "display_data"
    }
   ],
   "source": [
    "perf = df.groupby(['Alpha']).agg({'LogLikelihood' : np.mean})\n",
    "\n",
    "figsize(1.2 * default_fig_w, 0.7 * default_fig_h)\n",
    "plt.plot(perf.index, perf['LogLikelihood'])\n",
    "plt.axvline(perf[perf['LogLikelihood'] == perf['LogLikelihood'].max()].iloc[0].name, color='g')\n",
    "\n",
    "plt.title('Cross-validation scores')\n",
    "plt.xlabel('$\\\\alpha_{k}$')\n",
    "plt.tight_layout(pad=0.1)\n",
    "\n",
    "if SAVE_FIG:\n",
    "    plt.savefig('../figures/combined_rbf_minmax_alpha.pdf')\n",
    "    \n",
    "plt.show()"
   ]
  },
  {
   "cell_type": "code",
   "execution_count": 10,
   "metadata": {
    "collapsed": false
   },
   "outputs": [
    {
     "name": "stdout",
     "output_type": "stream",
     "text": [
      "Test Log-likelihood: 32.536\n"
     ]
    },
    {
     "data": {
      "image/png": "[encoded data removed]",
      "text/plain": [
       "<matplotlib.figure.Figure at 0x111033e90>"
      ]
     },
     "metadata": {},
     "output_type": "display_data"
    }
   ],
   "source": [
    "mu, var = execute_gp(df_train, df_train['RRF_Measured'], df_test, \n",
    "                     ls=gkern.lengthscale, \n",
    "                     var=gkern.variance, \n",
    "                     nvar=model.likelihood.variance, \n",
    "                     k_alpha=alpha)\n",
    "s = np.sqrt(var)\n",
    "\n",
    "likelihoods = [norm.logpdf(t[0], loc=t[1], scale=t[2]) for t in zip(df_test['RRF_Measured'], mu, s)]\n",
    "print(\"Test Log-likelihood: {:.3f}\".format(np.sum(likelihoods)))\n",
    "\n",
    "figsize(1.4 * default_fig_w, 1.2 * default_fig_h)\n",
    "lim = [-0.02, 0.1]\n",
    "\n",
    "ax = plt.subplot(1, 2, 1)\n",
    "plt.xlim(lim)\n",
    "plt.ylim(lim)\n",
    "plot_results(df_test['RRF_Measured'], mu, s, title='Test')    \n",
    "for x, y, label in zip(df_test['RRF_Measured'], mu, df_test['Short Name']):\n",
    "    ann = ax.annotate(label, (x + 0.002, y), alpha=0.8)\n",
    "\n",
    "\n",
    "train_mu, train_var = execute_gp(df_train, df_train['RRF_Measured'], df_train, \n",
    "                     ls=gkern.lengthscale, \n",
    "                     var=gkern.variance, \n",
    "                     nvar=model.likelihood.variance, \n",
    "                     k_alpha=alpha)\n",
    "train_s = np.sqrt(train_var)\n",
    "\n",
    "plt.subplot(1, 2, 2)\n",
    "plt.xlim(lim)\n",
    "plt.ylim(lim)\n",
    "plot_results(df_train['RRF_Measured'], train_mu, train_s, title='Training')\n",
    "\n",
    "plt.tight_layout(pad=0.1)\n",
    "\n",
    "if SAVE_FIG:\n",
    "    plt.savefig('../figures/combined_rbf_minmax.pdf')\n",
    "\n",
    "plt.show()"
   ]
  }
 ],
 "metadata": {
  "kernelspec": {
   "display_name": "Python 2",
   "language": "python",
   "name": "python2"
  },
  "language_info": {
   "codemirror_mode": {
    "name": "ipython",
    "version": 2
   },
   "file_extension": ".py",
   "mimetype": "text/x-python",
   "name": "python",
   "nbconvert_exporter": "python",
   "pygments_lexer": "ipython2",
   "version": "2.7.10"
  }
 },
 "nbformat": 4,
 "nbformat_minor": 0
}
