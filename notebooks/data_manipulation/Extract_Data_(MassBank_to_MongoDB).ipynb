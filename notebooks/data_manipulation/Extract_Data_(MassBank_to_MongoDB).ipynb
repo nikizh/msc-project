{
 "cells": [
  {
   "cell_type": "markdown",
   "metadata": {},
   "source": [
    "# Extract data from MassBank to MongoDB"
   ]
  },
  {
   "cell_type": "markdown",
   "metadata": {},
   "source": [
    "For more information about MassBank see http://www.massbank.jp"
   ]
  },
  {
   "cell_type": "code",
   "execution_count": 29,
   "metadata": {
    "collapsed": false
   },
   "outputs": [],
   "source": [
    "from __future__ import print_function\n",
    "from __future__ import division\n",
    "import os\n",
    "import json\n",
    "import codecs\n",
    "from pymongo import MongoClient\n",
    "from pymongo.errors import DuplicateKeyError\n",
    "from rdkit import Chem\n",
    "from IPython.html.widgets import FloatText\n",
    "from IPython.display import display"
   ]
  },
  {
   "cell_type": "code",
   "execution_count": 30,
   "metadata": {
    "collapsed": false
   },
   "outputs": [],
   "source": [
    "RECREATE = True\n",
    "\n",
    "REPOSITORY_PATH = '../../data/dl/record/'\n",
    "\n",
    "MONGODB_ADDRESS = 'localhost'\n",
    "MONGODB_PORT = 27017\n",
    "\n",
    "DB_NAME = 'mass-bank'\n",
    "COLLECTION_NAME = 'spectrums'"
   ]
  },
  {
   "cell_type": "markdown",
   "metadata": {},
   "source": [
    "## Setup MongoDB Client"
   ]
  },
  {
   "cell_type": "code",
   "execution_count": 31,
   "metadata": {
    "collapsed": false
   },
   "outputs": [
    {
     "data": {
      "text/plain": [
       "u'CH$LINK_INCHIKEY_1'"
      ]
     },
     "execution_count": 31,
     "metadata": {},
     "output_type": "execute_result"
    }
   ],
   "source": [
    "client = MongoClient(host=MONGODB_ADDRESS, port=MONGODB_PORT)\n",
    "\n",
    "db = client[DB_NAME]\n",
    "\n",
    "if RECREATE:\n",
    "    db.drop_collection(COLLECTION_NAME)\n",
    "\n",
    "collection = db[COLLECTION_NAME]\n",
    "\n",
    "collection.create_index('ACCESSION', unique=True)\n",
    "collection.create_index('CH$LINK_INCHIKEY')"
   ]
  },
  {
   "cell_type": "code",
   "execution_count": 32,
   "metadata": {
    "collapsed": false
   },
   "outputs": [],
   "source": [
    "def mass_spectrometry_parser(info, value):\n",
    "    split = value.strip().split(' ', 1)\n",
    "    key = split[0]\n",
    "    new_key = 'AC$MASS_SPECTROMETRY_' + key\n",
    "    \n",
    "    if key in ['MS_TYPE', 'ION_MODE', 'COLLISION_ENERGY']:\n",
    "        info[new_key] = split[1]\n",
    "\n",
    "rules = {\n",
    "    'ACCESSION': ('M', 'U', 'S', None),\n",
    "    'RECORD_TITLE': ('M', 'U', 'S', None),\n",
    "    'DATE': ('M', 'U', 'S', None),\n",
    "    'AUTHORS': ('M', 'U', 'S', None),\n",
    "    'LICENSE': ('M', 'U', 'S', None),\n",
    "    'CH$NAME': ('M', 'I', 'S', None),\n",
    "    'CH$COMPOUND_CLASS': ('M', 'U', 'S', None),\n",
    "    'CH$FORMULA': ('M', 'U', 'S', None),\n",
    "    'CH$EXACT_MASS': ('M', 'U', 'S', None),\n",
    "    'CH$SMILES': ('M', 'U', 'S', None),\n",
    "    'CH$IUPAC': ('M', 'U', 'S', None),\n",
    "    'AC$INSTRUMENT': ('M', 'U', 'S', None),\n",
    "    'AC$INSTRUMENT_TYPE': ('M', 'U', 'S', None),\n",
    "    'AC$MASS_SPECTROMETRY': ('M', 'U', 'S', mass_spectrometry_parser),\n",
    "    'PK$NUM_PEAK': ('M', 'U', 'S', None),\n",
    "    'PK$PEAK': ('M', 'U', 'M', None),\n",
    "}"
   ]
  },
  {
   "cell_type": "code",
   "execution_count": 33,
   "metadata": {
    "collapsed": true
   },
   "outputs": [],
   "source": [
    "def execute_rule(rule, info, key, value):    \n",
    "    if rule[1] == 'I':\n",
    "        # No support for custom parser for itterative values\n",
    "        if not info.has_key(key):\n",
    "            info[key] = []\n",
    "        info[key].append(value.strip())\n",
    "    else:  \n",
    "        if rule[3]:\n",
    "            rule[3](info, value)\n",
    "        else:\n",
    "            info[key] = value.strip()"
   ]
  },
  {
   "cell_type": "code",
   "execution_count": 34,
   "metadata": {
    "collapsed": false
   },
   "outputs": [],
   "source": [
    "def parse_file(file_path):\n",
    "    \n",
    "    info = {}\n",
    "\n",
    "    with codecs.open(file_path, 'r') as fh:    \n",
    "        parsing_multiline = False\n",
    "        multiline_value = ''\n",
    "        multiline_key = ''\n",
    "        multiline_rule = None\n",
    "\n",
    "        for line in fh.readlines():\n",
    "            if line.startswith('  ') and not parsing_multiline:\n",
    "                continue\n",
    "\n",
    "            if parsing_multiline:\n",
    "                if line.startswith('  '):\n",
    "                    multiline_value += line.lstrip()\n",
    "                    continue\n",
    "                else:\n",
    "                    # commit the value and process the next\n",
    "                    parsing_multiline = False\n",
    "                    execute_rule(multiline_rule, info, multiline_key, multiline_value)\n",
    "                    multiline_key = ''\n",
    "                    multiline_value = ''\n",
    "                    multiline_rule = None\n",
    "\n",
    "            if line.startswith('//'):\n",
    "                break\n",
    "\n",
    "            split = line.split(': ', 1)\n",
    "\n",
    "            if len(split) != 2:\n",
    "                continue\n",
    "            \n",
    "            key = split[0]\n",
    "            value = split[1]\n",
    "            rule = rules.get(key)\n",
    "\n",
    "            if rule:\n",
    "                #Multilines\n",
    "                if rule[2] == 'M':\n",
    "                    multiline_key = key\n",
    "                    multiline_rule = rule\n",
    "                    multiline_value += value\n",
    "                    parsing_multiline = True\n",
    "                else:\n",
    "                    execute_rule(rule, info, key, value)\n",
    "\n",
    "    # Add INCHI Key\n",
    "    if info['CH$IUPAC'] != 'N/A':\n",
    "        info['CH$LINK_INCHIKEY'] = 'InChIKey=' + Chem.InchiToInchiKey(info['CH$IUPAC'])\n",
    "\n",
    "    return info"
   ]
  },
  {
   "cell_type": "markdown",
   "metadata": {},
   "source": [
    "## Get all txt files from the MassBank repository"
   ]
  },
  {
   "cell_type": "code",
   "execution_count": 35,
   "metadata": {
    "collapsed": false,
    "scrolled": false
   },
   "outputs": [],
   "source": [
    "all_files = []\n",
    "\n",
    "for (root, dirs, files) in os.walk(REPOSITORY_PATH):\n",
    "    # Skip the SVN hidden dir\n",
    "    if '.svn' in dirs:\n",
    "        dirs.remove('.svn')\n",
    "    \n",
    "    for f in [f for f in files if f.endswith('.txt')]:\n",
    "        full_path = os.path.join(root, f)\n",
    "        all_files.append(full_path)"
   ]
  },
  {
   "cell_type": "code",
   "execution_count": 36,
   "metadata": {
    "collapsed": false
   },
   "outputs": [
    {
     "name": "stdout",
     "output_type": "stream",
     "text": [
      "{\n",
      "    \"AC$INSTRUMENT\": \"Bruker maXis Impact\", \n",
      "    \"AC$INSTRUMENT_TYPE\": \"LC-ESI-QTOF\", \n",
      "    \"AC$MASS_SPECTROMETRY_COLLISION_ENERGY\": \"Ramp 21.1-31.6 eV\", \n",
      "    \"AC$MASS_SPECTROMETRY_ION_MODE\": \"POSITIVE\", \n",
      "    \"AC$MASS_SPECTROMETRY_MS_TYPE\": \"MS2\", \n",
      "    \"ACCESSION\": \"AU100601\", \n",
      "    \"AUTHORS\": \"Nikiforos Alygizakis, Anna Bletsou, Nikolaos Thomaidis, University of Athens\", \n",
      "    \"CH$COMPOUND_CLASS\": \"N/A; Environmental Standard\", \n",
      "    \"CH$EXACT_MASS\": \"284.0135\", \n",
      "    \"CH$FORMULA\": \"C10H9ClN4O2S\", \n",
      "    \"CH$IUPAC\": \"InChI=1S/C10H9ClN4O2S/c11-9-5-13-6-10(14-9)15-18(16,17)8-3-1-7(12)2-4-8/h1-6H,12H2,(H,14,15)\", \n",
      "    \"CH$LINK_INCHIKEY\": \"InChIKey=QKLPUVXBJHRFQZ-UHFFFAOYSA-N\", \n",
      "    \"CH$NAME\": [\n",
      "        \"Sulfaclozine\", \n",
      "        \"4-amino-N-(6-chloropyrazin-2-yl)benzenesulfonamide\"\n",
      "    ], \n",
      "    \"CH$SMILES\": \"c1cc(ccc1N)S(=O)(=O)Nc2cncc(n2)Cl\", \n",
      "    \"DATE\": \"2015.07.05\", \n",
      "    \"LICENSE\": \"CC BY-SA\", \n",
      "    \"PK$NUM_PEAK\": \"27\", \n",
      "    \"PK$PEAK\": \"m/z int. rel.int.\\r\\n53.0389 592 5\\r\\n54.0333 564 5\\r\\n55.0178 520 5\\r\\n60.0552 540 5\\r\\n65.0382 3804 38\\r\\n66.0423 504 5\\r\\n68.049 7924 79\\r\\n78.0333 724 7\\r\\n79.0177 1052 10\\r\\n92.0498 7664 76\\r\\n93.0532 728 7\\r\\n96.0443 620 6\\r\\n108.0457 12112 121\\r\\n109.0483 1176 11\\r\\n110.0609 4880 48\\r\\n120.0562 3080 30\\r\\n130.0172 5628 56\\r\\n132.0138 1508 15\\r\\n156.0118 99504 999\\r\\n157.015 8840 88\\r\\n158.008 3872 38\\r\\n174.0228 748 7\\r\\n184.0757 616 6\\r\\n191.9647 588 5\\r\\n219.0438 720 7\\r\\n285.0221 3676 36\\r\\n287.0184 836 8\", \n",
      "    \"RECORD_TITLE\": \"Sulfaclozine; LC-ESI-QTOF; MS2; CE: 21.1-31.6 eV; R=35000; [M+H]+\"\n",
      "}\n"
     ]
    }
   ],
   "source": [
    "# Preview a samples\n",
    "if all_files:\n",
    "    print(json.dumps(parse_file(all_files[0]), indent=4, sort_keys=True))"
   ]
  },
  {
   "cell_type": "markdown",
   "metadata": {},
   "source": [
    "## Parse all files and add MS2 spectrums to the collection"
   ]
  },
  {
   "cell_type": "code",
   "execution_count": 37,
   "metadata": {
    "collapsed": false
   },
   "outputs": [],
   "source": [
    "# Progress Bar\n",
    "progress = FloatText()\n",
    "display(progress)\n",
    "\n",
    "num_files = len(all_files)\n",
    "\n",
    "for i, f in enumerate(all_files):\n",
    "    try:\n",
    "        info = parse_file(f)\n",
    "        \n",
    "        # Report progress\n",
    "        progress.value = 100.0 * ((i+1) / num_files)\n",
    "        \n",
    "        if info['AC$MASS_SPECTROMETRY_MS_TYPE'] != 'MS2':\n",
    "            continue\n",
    "    except:\n",
    "        print(\"Could not parse\", f)\n",
    "        raise\n",
    "\n",
    "    try:\n",
    "        collection.insert_one(info)\n",
    "    except DuplicateKeyError:\n",
    "        pass\n",
    "    except:\n",
    "        print(f)\n",
    "        raise"
   ]
  }
 ],
 "metadata": {
  "kernelspec": {
   "display_name": "Python 2",
   "language": "python",
   "name": "python2"
  },
  "language_info": {
   "codemirror_mode": {
    "name": "ipython",
    "version": 2
   },
   "file_extension": ".py",
   "mimetype": "text/x-python",
   "name": "python",
   "nbconvert_exporter": "python",
   "pygments_lexer": "ipython2",
   "version": "2.7.10"
  }
 },
 "nbformat": 4,
 "nbformat_minor": 0
}
