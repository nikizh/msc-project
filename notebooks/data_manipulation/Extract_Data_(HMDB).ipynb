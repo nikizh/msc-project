{
 "cells": [
  {
   "cell_type": "markdown",
   "metadata": {},
   "source": [
    "# Extract data from HMDB (The Human Metabolome Database)"
   ]
  },
  {
   "cell_type": "markdown",
   "metadata": {},
   "source": [
    "http://www.hmdb.ca/downloads"
   ]
  },
  {
   "cell_type": "code",
   "execution_count": 19,
   "metadata": {
    "collapsed": true
   },
   "outputs": [],
   "source": [
    "from __future__ import print_function\n",
    "import urllib\n",
    "import gzip\n",
    "import io\n",
    "import os\n",
    "import pandas as pd\n",
    "from rdkit import Chem\n",
    "from pandas import DataFrame\n",
    "from zipfile import ZipFile\n",
    "\n",
    "FORCE_DOWNLOAD = False\n",
    "COMPRESS = True"
   ]
  },
  {
   "cell_type": "code",
   "execution_count": 20,
   "metadata": {
    "collapsed": true
   },
   "outputs": [],
   "source": [
    "structures_url = 'http://www.hmdb.ca/downloads/structures.zip'"
   ]
  },
  {
   "cell_type": "code",
   "execution_count": 21,
   "metadata": {
    "collapsed": false
   },
   "outputs": [],
   "source": [
    "structures_file = '../../data/dl/hmdb_structures.zip'\n",
    "\n",
    "if not os.path.exists(structures_file) or FORCE_DOWNLOAD:\n",
    "    urllib.urlretrieve(structures_url, '../../data/dl/hmdb_structures.zip')"
   ]
  },
  {
   "cell_type": "code",
   "execution_count": 22,
   "metadata": {
    "collapsed": true
   },
   "outputs": [],
   "source": [
    "columns = ['GENERIC_NAME', 'CHEMICAL_FORMULA', 'INCHI_KEY', 'EXACT_MASS',\n",
    "           'ALOGPS_LOGP', 'ALOGPS_LOGS', 'ALOGPS_SOLUBILITY', 'MOLECULAR_WEIGHT', 'SMILES',\n",
    "           'HMDB_ID', 'INCHI_IDENTIFIER',\n",
    "           'JCHEM_ACCEPTOR_COUNT', 'JCHEM_ACIDIC_PKA', 'JCHEM_BASIC_PKA', 'JCHEM_DONOR_COUNT', 'JCHEM_LOGP',\n",
    "           'JCHEM_PHYSIOLOGICAL_CHARGE', 'JCHEM_POLARIZABILITY', 'JCHEM_POLAR_SURFACE_AREA', 'JCHEM_REFRACTIVITY',\n",
    "           'JCHEM_ROTATABLE_BOND_COUNT',\n",
    "           'IUPAC_NAME', 'TRADITIONAL_IUPAC_NAME', 'SYNONYMS']"
   ]
  },
  {
   "cell_type": "code",
   "execution_count": 23,
   "metadata": {
    "collapsed": false
   },
   "outputs": [],
   "source": [
    "with ZipFile(structures_file, 'r') as zh:\n",
    "    zh.extract('structures.sdf', path='../data/dl/')"
   ]
  },
  {
   "cell_type": "code",
   "execution_count": 31,
   "metadata": {
    "collapsed": true
   },
   "outputs": [],
   "source": [
    "sdf_file = '../../data/dl/structures.sdf'\n",
    "molecules = Chem.SDMolSupplier(sdf_file)\n",
    "data = []"
   ]
  },
  {
   "cell_type": "code",
   "execution_count": 25,
   "metadata": {
    "collapsed": true
   },
   "outputs": [],
   "source": [
    "for mol in molecules:\n",
    "    if mol and isinstance(mol, Chem.Mol):\n",
    "        info = {}\n",
    "\n",
    "        for prop in columns:\n",
    "            if mol.HasProp(prop):\n",
    "                info[prop] = mol.GetProp(prop)\n",
    "\n",
    "        data.append(info)"
   ]
  },
  {
   "cell_type": "code",
   "execution_count": 26,
   "metadata": {
    "collapsed": false
   },
   "outputs": [
    {
     "data": {
      "text/html": [
       "<div>\n",
       "<table border=\"1\" class=\"dataframe\">\n",
       "  <thead>\n",
       "    <tr style=\"text-align: right;\">\n",
       "      <th></th>\n",
       "      <th>GENERIC_NAME</th>\n",
       "      <th>CHEMICAL_FORMULA</th>\n",
       "      <th>INCHI_KEY</th>\n",
       "      <th>EXACT_MASS</th>\n",
       "      <th>ALOGPS_LOGP</th>\n",
       "      <th>ALOGPS_LOGS</th>\n",
       "      <th>ALOGPS_SOLUBILITY</th>\n",
       "      <th>MOLECULAR_WEIGHT</th>\n",
       "      <th>SMILES</th>\n",
       "      <th>HMDB_ID</th>\n",
       "      <th>...</th>\n",
       "      <th>JCHEM_DONOR_COUNT</th>\n",
       "      <th>JCHEM_LOGP</th>\n",
       "      <th>JCHEM_PHYSIOLOGICAL_CHARGE</th>\n",
       "      <th>JCHEM_POLARIZABILITY</th>\n",
       "      <th>JCHEM_POLAR_SURFACE_AREA</th>\n",
       "      <th>JCHEM_REFRACTIVITY</th>\n",
       "      <th>JCHEM_ROTATABLE_BOND_COUNT</th>\n",
       "      <th>IUPAC_NAME</th>\n",
       "      <th>TRADITIONAL_IUPAC_NAME</th>\n",
       "      <th>SYNONYMS</th>\n",
       "    </tr>\n",
       "  </thead>\n",
       "  <tbody>\n",
       "    <tr>\n",
       "      <th>0</th>\n",
       "      <td>1-Methylhistidine</td>\n",
       "      <td>C7H11N3O2</td>\n",
       "      <td>InChIKey=BRMWTNUJHUMWMS-LURJTMIESA-N</td>\n",
       "      <td>169.085126611</td>\n",
       "      <td>-3</td>\n",
       "      <td>-1.4</td>\n",
       "      <td>6.93 g/L</td>\n",
       "      <td>169.1811</td>\n",
       "      <td>CN1C=NC(C[C@H](N)C(O)=O)=C1</td>\n",
       "      <td>HMDB00001</td>\n",
       "      <td>...</td>\n",
       "      <td>2</td>\n",
       "      <td>-3.1</td>\n",
       "      <td>0</td>\n",
       "      <td>16.95</td>\n",
       "      <td>81.14</td>\n",
       "      <td>42.39</td>\n",
       "      <td>3</td>\n",
       "      <td>(2S)-2-amino-3-(1-methyl-1H-imidazol-4-yl)prop...</td>\n",
       "      <td>1 methylhistidine</td>\n",
       "      <td>1 Methylhistidine;1-Methyl histidine;1-Methyl-...</td>\n",
       "    </tr>\n",
       "    <tr>\n",
       "      <th>1</th>\n",
       "      <td>1,3-Diaminopropane</td>\n",
       "      <td>C3H10N2</td>\n",
       "      <td>InChIKey=XFNJVJPLKCPIBV-UHFFFAOYSA-N</td>\n",
       "      <td>74.08439833</td>\n",
       "      <td>-1.4</td>\n",
       "      <td>0.77</td>\n",
       "      <td>437 g/L</td>\n",
       "      <td>74.1249</td>\n",
       "      <td>NCCCN</td>\n",
       "      <td>HMDB00002</td>\n",
       "      <td>...</td>\n",
       "      <td>2</td>\n",
       "      <td>-1.4</td>\n",
       "      <td>2</td>\n",
       "      <td>9.06</td>\n",
       "      <td>52.04</td>\n",
       "      <td>22.73</td>\n",
       "      <td>2</td>\n",
       "      <td>propane-1,3-diamine</td>\n",
       "      <td>1,3-diaminopropane</td>\n",
       "      <td>1,3-Diamino-N-propane;1,3-Propanediamine;1,3-P...</td>\n",
       "    </tr>\n",
       "    <tr>\n",
       "      <th>2</th>\n",
       "      <td>2-Ketobutyric acid</td>\n",
       "      <td>C4H6O3</td>\n",
       "      <td>InChIKey=TYEYBOSBBBHJIV-UHFFFAOYSA-N</td>\n",
       "      <td>102.031694058</td>\n",
       "      <td>0.07</td>\n",
       "      <td>-0.11</td>\n",
       "      <td>79.2 g/L</td>\n",
       "      <td>102.0886</td>\n",
       "      <td>CCC(=O)C(O)=O</td>\n",
       "      <td>HMDB00005</td>\n",
       "      <td>...</td>\n",
       "      <td>1</td>\n",
       "      <td>0.77</td>\n",
       "      <td>-1</td>\n",
       "      <td>9.21</td>\n",
       "      <td>54.37</td>\n",
       "      <td>22.62</td>\n",
       "      <td>2</td>\n",
       "      <td>2-oxobutanoic acid</td>\n",
       "      <td>2-oxobutanoic acid</td>\n",
       "      <td>2-Ketobutanoate;2-Ketobutanoic acid;2-Ketobuty...</td>\n",
       "    </tr>\n",
       "  </tbody>\n",
       "</table>\n",
       "<p>3 rows × 24 columns</p>\n",
       "</div>"
      ],
      "text/plain": [
       "         GENERIC_NAME CHEMICAL_FORMULA                             INCHI_KEY  \\\n",
       "0   1-Methylhistidine        C7H11N3O2  InChIKey=BRMWTNUJHUMWMS-LURJTMIESA-N   \n",
       "1  1,3-Diaminopropane          C3H10N2  InChIKey=XFNJVJPLKCPIBV-UHFFFAOYSA-N   \n",
       "2  2-Ketobutyric acid           C4H6O3  InChIKey=TYEYBOSBBBHJIV-UHFFFAOYSA-N   \n",
       "\n",
       "      EXACT_MASS ALOGPS_LOGP ALOGPS_LOGS ALOGPS_SOLUBILITY MOLECULAR_WEIGHT  \\\n",
       "0  169.085126611          -3        -1.4          6.93 g/L         169.1811   \n",
       "1    74.08439833        -1.4        0.77           437 g/L          74.1249   \n",
       "2  102.031694058        0.07       -0.11          79.2 g/L         102.0886   \n",
       "\n",
       "                        SMILES    HMDB_ID  \\\n",
       "0  CN1C=NC(C[C@H](N)C(O)=O)=C1  HMDB00001   \n",
       "1                        NCCCN  HMDB00002   \n",
       "2                CCC(=O)C(O)=O  HMDB00005   \n",
       "\n",
       "                         ...                         JCHEM_DONOR_COUNT  \\\n",
       "0                        ...                                         2   \n",
       "1                        ...                                         2   \n",
       "2                        ...                                         1   \n",
       "\n",
       "  JCHEM_LOGP JCHEM_PHYSIOLOGICAL_CHARGE JCHEM_POLARIZABILITY  \\\n",
       "0       -3.1                          0                16.95   \n",
       "1       -1.4                          2                 9.06   \n",
       "2       0.77                         -1                 9.21   \n",
       "\n",
       "  JCHEM_POLAR_SURFACE_AREA JCHEM_REFRACTIVITY JCHEM_ROTATABLE_BOND_COUNT  \\\n",
       "0                    81.14              42.39                          3   \n",
       "1                    52.04              22.73                          2   \n",
       "2                    54.37              22.62                          2   \n",
       "\n",
       "                                          IUPAC_NAME TRADITIONAL_IUPAC_NAME  \\\n",
       "0  (2S)-2-amino-3-(1-methyl-1H-imidazol-4-yl)prop...      1 methylhistidine   \n",
       "1                                propane-1,3-diamine     1,3-diaminopropane   \n",
       "2                                 2-oxobutanoic acid     2-oxobutanoic acid   \n",
       "\n",
       "                                            SYNONYMS  \n",
       "0  1 Methylhistidine;1-Methyl histidine;1-Methyl-...  \n",
       "1  1,3-Diamino-N-propane;1,3-Propanediamine;1,3-P...  \n",
       "2  2-Ketobutanoate;2-Ketobutanoic acid;2-Ketobuty...  \n",
       "\n",
       "[3 rows x 24 columns]"
      ]
     },
     "execution_count": 26,
     "metadata": {},
     "output_type": "execute_result"
    }
   ],
   "source": [
    "# Create DataFrame\n",
    "df = DataFrame(data)\n",
    "\n",
    "# Reorder columns\n",
    "df = df[columns]\n",
    "\n",
    "# Preview\n",
    "df.head(3)"
   ]
  },
  {
   "cell_type": "code",
   "execution_count": 29,
   "metadata": {
    "collapsed": false
   },
   "outputs": [],
   "source": [
    "# Save\n",
    "if COMPRESS:\n",
    "    with gzip.open('../../data/hmdb.csv.gz', 'w') as gzf:\n",
    "        df.to_csv(gzf, encoding='utf-8', index=False)\n",
    "else:\n",
    "    df.to_csv('../../data/hmdb.csv', encoding='utf-8', index=False)"
   ]
  },
  {
   "cell_type": "code",
   "execution_count": 32,
   "metadata": {
    "collapsed": false
   },
   "outputs": [],
   "source": [
    "# Remove the sdf file\n",
    "os.remove(sdf_file)"
   ]
  }
 ],
 "metadata": {
  "kernelspec": {
   "display_name": "Python 2",
   "language": "python",
   "name": "python2"
  },
  "language_info": {
   "codemirror_mode": {
    "name": "ipython",
    "version": 2
   },
   "file_extension": ".py",
   "mimetype": "text/x-python",
   "name": "python",
   "nbconvert_exporter": "python",
   "pygments_lexer": "ipython2",
   "version": "2.7.10"
  }
 },
 "nbformat": 4,
 "nbformat_minor": 0
}
