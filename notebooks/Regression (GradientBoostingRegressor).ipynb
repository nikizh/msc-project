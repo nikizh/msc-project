{
 "cells": [
  {
   "cell_type": "code",
   "execution_count": 12,
   "metadata": {
    "collapsed": false
   },
   "outputs": [],
   "source": [
    "from __future__ import print_function\n",
    "import numpy as np\n",
    "import pandas as pd\n",
    "import seaborn as sns\n",
    "import matplotlib.pyplot as plt\n",
    "from pandas import Series, DataFrame\n",
    "from sklearn.decomposition import PCA\n",
    "from sklearn.metrics import explained_variance_score\n",
    "from sklearn.metrics import mean_absolute_error\n",
    "from sklearn.metrics import r2_score\n",
    "from IPython.core.pylabtools import figsize\n",
    "\n",
    "%matplotlib inline\n",
    "figsize(15, 10)"
   ]
  },
  {
   "cell_type": "markdown",
   "metadata": {},
   "source": [
    "# Load and adjust the data"
   ]
  },
  {
   "cell_type": "code",
   "execution_count": 13,
   "metadata": {
    "collapsed": false
   },
   "outputs": [],
   "source": [
    "df_train = pd.read_csv('TableS2_training.csv', keep_default_na=False)\n",
    "df_TS3 = pd.read_csv('TableS3_training.csv', keep_default_na=False)\n",
    "\n",
    "df_TS3['RRF_Measured'] = df_TS3['RRF_Measured'] * 1e-2\n",
    "df_TS3['RRF_Predicted'] = df_TS3['RRF_Predicted'] * 1e-2\n",
    "\n",
    "df_train['RRF_Measured'] = df_train['RRF_Measured'] * 1e-2\n",
    "df_train['RRF_Predicted'] = df_train['RRF_Predicted'] * 1e-2"
   ]
  },
  {
   "cell_type": "markdown",
   "metadata": {},
   "source": [
    "# Data preparation\n",
    "- Exclude certain metabolites\n",
    "- Select training and testing data"
   ]
  },
  {
   "cell_type": "code",
   "execution_count": 14,
   "metadata": {
    "collapsed": false
   },
   "outputs": [
    {
     "name": "stdout",
     "output_type": "stream",
     "text": [
      "Number of metabolites (training): 36\n",
      "Number of metabolites (testing): 10\n"
     ]
    }
   ],
   "source": [
    "features = ['MV', 'logD', 'abs_mob']\n",
    "\n",
    "# Training Data\n",
    "X_train = df_train[features]\n",
    "X_train = X_train[df_train['Annotation'] == '']\n",
    "\n",
    "y_train = df_train[['RRF_Measured']]\n",
    "y_train = y_train[df_train['Annotation'] == '']\n",
    "\n",
    "# Testing Data\n",
    "X_test = df_TS3[features]\n",
    "y_test = df_TS3[['RRF_Measured']]\n",
    "\n",
    "print(\"Number of metabolites (training):\", len(X_train))\n",
    "print(\"Number of metabolites (testing):\", len(X_test))"
   ]
  },
  {
   "cell_type": "markdown",
   "metadata": {},
   "source": [
    "# Fit GradientBoostingRegressor"
   ]
  },
  {
   "cell_type": "code",
   "execution_count": 15,
   "metadata": {
    "collapsed": false
   },
   "outputs": [
    {
     "data": {
      "text/plain": [
       "GradientBoostingRegressor(alpha=0.9, init=None, learning_rate=0.1, loss='ls',\n",
       "             max_depth=3, max_features=None, max_leaf_nodes=None,\n",
       "             min_samples_leaf=1, min_samples_split=2,\n",
       "             min_weight_fraction_leaf=0.0, n_estimators=100,\n",
       "             random_state=None, subsample=1.0, verbose=0, warm_start=False)"
      ]
     },
     "execution_count": 15,
     "metadata": {},
     "output_type": "execute_result"
    }
   ],
   "source": [
    "from sklearn import ensemble\n",
    "from sklearn import svm\n",
    "\n",
    "gbr = ensemble.GradientBoostingRegressor()\n",
    "gbr.fit(X_train, np.ravel(y_train))"
   ]
  },
  {
   "cell_type": "markdown",
   "metadata": {},
   "source": [
    "# Make predictions"
   ]
  },
  {
   "cell_type": "code",
   "execution_count": 16,
   "metadata": {
    "collapsed": false
   },
   "outputs": [],
   "source": [
    "predictions = Series(np.ravel(gbr.predict(X_test)), name='Predictions')"
   ]
  },
  {
   "cell_type": "code",
   "execution_count": 17,
   "metadata": {
    "collapsed": false,
    "scrolled": true
   },
   "outputs": [
    {
     "data": {
      "text/html": [
       "<div>\n",
       "<table border=\"1\" class=\"dataframe\">\n",
       "  <thead>\n",
       "    <tr style=\"text-align: right;\">\n",
       "      <th></th>\n",
       "      <th>Name</th>\n",
       "      <th>RRF_Measured</th>\n",
       "      <th>Predictions</th>\n",
       "      <th>RRF_Predicted</th>\n",
       "    </tr>\n",
       "  </thead>\n",
       "  <tbody>\n",
       "    <tr>\n",
       "      <th>0</th>\n",
       "      <td>L-Ornithine</td>\n",
       "      <td>0.00281</td>\n",
       "      <td>0.007981</td>\n",
       "      <td>0.00631</td>\n",
       "    </tr>\n",
       "    <tr>\n",
       "      <th>1</th>\n",
       "      <td>N-Methyl-Aspartic acid</td>\n",
       "      <td>0.00842</td>\n",
       "      <td>0.007830</td>\n",
       "      <td>0.00667</td>\n",
       "    </tr>\n",
       "    <tr>\n",
       "      <th>2</th>\n",
       "      <td>3-Methyl-L-Histidine</td>\n",
       "      <td>0.01400</td>\n",
       "      <td>0.020619</td>\n",
       "      <td>0.02280</td>\n",
       "    </tr>\n",
       "    <tr>\n",
       "      <th>3</th>\n",
       "      <td>L-Theanine</td>\n",
       "      <td>0.02320</td>\n",
       "      <td>0.017754</td>\n",
       "      <td>0.02190</td>\n",
       "    </tr>\n",
       "    <tr>\n",
       "      <th>4</th>\n",
       "      <td>L-Citrulline</td>\n",
       "      <td>0.01160</td>\n",
       "      <td>0.019207</td>\n",
       "      <td>0.01600</td>\n",
       "    </tr>\n",
       "    <tr>\n",
       "      <th>5</th>\n",
       "      <td>O-Propionyl-L-Carnitine</td>\n",
       "      <td>0.05230</td>\n",
       "      <td>0.050273</td>\n",
       "      <td>0.05740</td>\n",
       "    </tr>\n",
       "    <tr>\n",
       "      <th>6</th>\n",
       "      <td>L-Carnosine</td>\n",
       "      <td>0.01910</td>\n",
       "      <td>0.025681</td>\n",
       "      <td>0.03030</td>\n",
       "    </tr>\n",
       "    <tr>\n",
       "      <th>7</th>\n",
       "      <td>O-Butyryl-L-Carnitine</td>\n",
       "      <td>0.06660</td>\n",
       "      <td>0.075742</td>\n",
       "      <td>0.06030</td>\n",
       "    </tr>\n",
       "    <tr>\n",
       "      <th>8</th>\n",
       "      <td>1-Methyl-Adenosine</td>\n",
       "      <td>0.05240</td>\n",
       "      <td>0.063147</td>\n",
       "      <td>0.05110</td>\n",
       "    </tr>\n",
       "    <tr>\n",
       "      <th>9</th>\n",
       "      <td>O-Octoyl-L-Carnitine</td>\n",
       "      <td>0.07780</td>\n",
       "      <td>0.077239</td>\n",
       "      <td>0.09750</td>\n",
       "    </tr>\n",
       "  </tbody>\n",
       "</table>\n",
       "</div>"
      ],
      "text/plain": [
       "                      Name  RRF_Measured  Predictions  RRF_Predicted\n",
       "0              L-Ornithine       0.00281     0.007981        0.00631\n",
       "1   N-Methyl-Aspartic acid       0.00842     0.007830        0.00667\n",
       "2    3-Methyl-L-Histidine        0.01400     0.020619        0.02280\n",
       "3              L-Theanine        0.02320     0.017754        0.02190\n",
       "4             L-Citrulline       0.01160     0.019207        0.01600\n",
       "5  O-Propionyl-L-Carnitine       0.05230     0.050273        0.05740\n",
       "6             L-Carnosine        0.01910     0.025681        0.03030\n",
       "7   O-Butyryl-L-Carnitine        0.06660     0.075742        0.06030\n",
       "8       1-Methyl-Adenosine       0.05240     0.063147        0.05110\n",
       "9     O-Octoyl-L-Carnitine       0.07780     0.077239        0.09750"
      ]
     },
     "execution_count": 17,
     "metadata": {},
     "output_type": "execute_result"
    }
   ],
   "source": [
    "data = pd.concat([df_TS3, predictions], axis=1)\n",
    "\n",
    "data[['Name', 'RRF_Measured', 'Predictions', 'RRF_Predicted']]"
   ]
  },
  {
   "cell_type": "markdown",
   "metadata": {},
   "source": [
    "# Comparison of model metrics on the Test data"
   ]
  },
  {
   "cell_type": "code",
   "execution_count": 18,
   "metadata": {
    "collapsed": false
   },
   "outputs": [],
   "source": [
    "y_true = data['RRF_Measured']\n",
    "y_pred = data['RRF_Predicted']\n",
    "y_pred_new = data['Predictions']"
   ]
  },
  {
   "cell_type": "code",
   "execution_count": 19,
   "metadata": {
    "collapsed": false
   },
   "outputs": [
    {
     "data": {
      "image/png": "[encoded data removed]",
      "text/plain": [
       "<matplotlib.figure.Figure at 0x10fd993d0>"
      ]
     },
     "metadata": {},
     "output_type": "display_data"
    }
   ],
   "source": [
    "figsize(15, 7)\n",
    "plt.subplot(1, 2, 1)\n",
    "plt.xlabel('Measured')\n",
    "plt.ylabel('RRF_Predicted')\n",
    "plt.scatter(y_true, y_pred)\n",
    "plt.plot([0, 0.1], [0, 0.1], 'r--', linewidth=.3)\n",
    "plt.grid(True)\n",
    "plt.title('Paper Model $R^2$={:.4f}'.format(r2_score(y_true, y_pred)))\n",
    "\n",
    "plt.subplot(1, 2, 2)\n",
    "plt.xlabel('Measured')\n",
    "plt.ylabel('New Predicted')\n",
    "plt.scatter(y_true, y_pred_new)\n",
    "plt.plot([0, 0.1], [0, 0.1], 'r--', linewidth=.3)\n",
    "plt.grid(True)\n",
    "plt.title('New Model $R^2$={:.4f}'.format(r2_score(y_true, y_pred_new)))\n",
    "\n",
    "plt.show()"
   ]
  },
  {
   "cell_type": "markdown",
   "metadata": {},
   "source": [
    "## Metrics of the model reported in the paper"
   ]
  },
  {
   "cell_type": "code",
   "execution_count": 20,
   "metadata": {
    "collapsed": false
   },
   "outputs": [
    {
     "name": "stdout",
     "output_type": "stream",
     "text": [
      "explained_variance 0.920425066704\n",
      "mean_absolute_error 0.006335\n",
      "r2_score 0.893256890472\n"
     ]
    }
   ],
   "source": [
    "print(\"explained_variance\", explained_variance_score(y_true, y_pred))\n",
    "print(\"mean_absolute_error\", mean_absolute_error(y_true, y_pred))\n",
    "print(\"r2_score\", r2_score(y_true, y_pred))"
   ]
  },
  {
   "cell_type": "markdown",
   "metadata": {},
   "source": [
    "## Metrics of our model"
   ]
  },
  {
   "cell_type": "code",
   "execution_count": 21,
   "metadata": {
    "collapsed": false
   },
   "outputs": [
    {
     "name": "stdout",
     "output_type": "stream",
     "text": [
      "explained_variance 0.959049366933\n",
      "mean_absolute_error 0.00544908237181\n",
      "r2_score 0.937737646848\n"
     ]
    }
   ],
   "source": [
    "print(\"explained_variance\", explained_variance_score(y_true, y_pred_new))\n",
    "print(\"mean_absolute_error\", mean_absolute_error(y_true, y_pred_new))\n",
    "print(\"r2_score\", r2_score(y_true, y_pred_new))"
   ]
  },
  {
   "cell_type": "markdown",
   "metadata": {},
   "source": [
    "## Feature importance"
   ]
  },
  {
   "cell_type": "code",
   "execution_count": 22,
   "metadata": {
    "collapsed": false
   },
   "outputs": [
    {
     "data": {
      "image/png": "[encoded data removed]",
      "text/plain": [
       "<matplotlib.figure.Figure at 0x10f9dec50>"
      ]
     },
     "metadata": {},
     "output_type": "display_data"
    }
   ],
   "source": [
    "feature_importance = gbr.feature_importances_\n",
    "# make importances relative to max importance\n",
    "feature_importance = 100.0 * (feature_importance / feature_importance.max())\n",
    "sorted_idx = np.argsort(feature_importance)\n",
    "pos = np.arange(sorted_idx.shape[0]) + .5\n",
    "plt.subplot(1, 2, 2)\n",
    "plt.barh(pos, feature_importance[sorted_idx], align='center')\n",
    "plt.yticks(pos, X_train.columns.values[sorted_idx])\n",
    "plt.xlabel('Relative Importance')\n",
    "plt.title('Variable Importance')\n",
    "plt.show()"
   ]
  }
 ],
 "metadata": {
  "kernelspec": {
   "display_name": "Python 2",
   "language": "python",
   "name": "python2"
  },
  "language_info": {
   "codemirror_mode": {
    "name": "ipython",
    "version": 2
   },
   "file_extension": ".py",
   "mimetype": "text/x-python",
   "name": "python",
   "nbconvert_exporter": "python",
   "pygments_lexer": "ipython2",
   "version": "2.7.10"
  }
 },
 "nbformat": 4,
 "nbformat_minor": 0
}
