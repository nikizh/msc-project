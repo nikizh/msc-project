{
 "cells": [
  {
   "cell_type": "code",
   "execution_count": 2,
   "metadata": {
    "collapsed": false
   },
   "outputs": [],
   "source": [
    "from __future__ import print_function\n",
    "import numpy as np\n",
    "import pandas as pd\n",
    "import matplotlib.pyplot as plt\n",
    "import seaborn as sns\n",
    "import GPy\n",
    "from pandas import Series, DataFrame\n",
    "from scipy.stats import norm\n",
    "from sklearn.metrics import mean_squared_error\n",
    "from sklearn.metrics import r2_score\n",
    "from scipy.stats import norm\n",
    "from IPython.core.pylabtools import figsize\n",
    "from IPython.display import display\n",
    "\n",
    "SAVE_FIG = True\n",
    "\n",
    "if SAVE_FIG:\n",
    "    from matplotlib import rcParams  \n",
    "    rcParams['axes.labelsize'] = 9  \n",
    "    rcParams['xtick.labelsize'] = 9  \n",
    "    rcParams['ytick.labelsize'] = 9  \n",
    "    rcParams['legend.fontsize'] = 9 \n",
    "    default_fig_w = 8\n",
    "    default_fig_h = 5\n",
    "else:\n",
    "    default_fig_w = 16\n",
    "    default_fig_h = 10\n",
    "\n",
    "%matplotlib inline\n",
    "figsize(default_fig_w, default_fig_h)"
   ]
  },
  {
   "cell_type": "markdown",
   "metadata": {},
   "source": [
    "# Load and adjust the data"
   ]
  },
  {
   "cell_type": "code",
   "execution_count": 3,
   "metadata": {
    "collapsed": false
   },
   "outputs": [],
   "source": [
    "df_train = pd.read_csv('../data/TableS2_training_hmdb.csv', keep_default_na=False)\n",
    "df_train['RRF_Measured'] = df_train['RRF_Measured'] * 1e-2\n",
    "df_train['RRF_Predicted'] = df_train['RRF_Predicted'] * 1e-2\n",
    "\n",
    "df_test = pd.read_csv('../data/TableS3_training_hmdb.csv', keep_default_na=False)\n",
    "df_test['RRF_Measured'] = df_test['RRF_Measured'] * 1e-2\n",
    "df_test['RRF_Predicted'] = df_test['RRF_Predicted'] * 1e-2\n",
    "\n",
    "features = [\n",
    "    'JCHEM_ACIDIC_PKA',\n",
    "    'JCHEM_LOGP',\n",
    "    'JCHEM_POLARIZABILITY',\n",
    "    'JCHEM_POLAR_SURFACE_AREA',\n",
    "]\n",
    "\n",
    "target = ['RRF_Measured']"
   ]
  },
  {
   "cell_type": "markdown",
   "metadata": {},
   "source": [
    "# Data preparation\n",
    "- Exclude certain metabolites\n",
    "- Select training and testing data"
   ]
  },
  {
   "cell_type": "code",
   "execution_count": 4,
   "metadata": {
    "collapsed": false
   },
   "outputs": [
    {
     "name": "stdout",
     "output_type": "stream",
     "text": [
      "Number of metabolites (training): 34\n",
      "Number of metabolites (testing): 10\n"
     ]
    }
   ],
   "source": [
    "# Training Data\n",
    "X_train = df_train[features]\n",
    "X_train = X_train[df_train['Annotation'] == '']\n",
    "\n",
    "y_train = df_train[target]\n",
    "y_train = y_train[df_train['Annotation'] == '']\n",
    "\n",
    "# Testing Data\n",
    "X_test = df_test[features]\n",
    "\n",
    "y_test = df_test[target]\n",
    "\n",
    "print(\"Number of metabolites (training):\", len(X_train))\n",
    "print(\"Number of metabolites (testing):\", len(X_test))"
   ]
  },
  {
   "cell_type": "markdown",
   "metadata": {},
   "source": [
    "# Fit Gaussian Process"
   ]
  },
  {
   "cell_type": "code",
   "execution_count": 5,
   "metadata": {
    "collapsed": false
   },
   "outputs": [
    {
     "data": {
      "text/html": [
       "\n",
       "<b>Model</b>: GP regression<br>\n",
       "<b>Log-likelihood</b>: 101.900954219<br>\n",
       "<b>Number of Parameters</b>: 3<br>\n",
       "<br><b>Parameters</b>:\n",
       "<table>\n",
       "<tr>\n",
       "  <td><b>GP_regression.</b>\n",
       "  <td><b>Value</b></td>\n",
       "  <td><b>Constraint</b></td>\n",
       "  <td><b>Prior</b></td>\n",
       "  <td><b>Tied to</b></td>\n",
       "<tr><td>rbf.variance           </td><td align=\"right\"> 0.00244228283342</td><td>   +ve    </td><td>     </td><td>       </td></tr>\n",
       "<tr><td>rbf.lengthscale        </td><td align=\"right\">    29.5802668019</td><td>   +ve    </td><td>     </td><td>       </td></tr>\n",
       "<tr><td>Gaussian_noise.variance</td><td align=\"right\">4.45898364627e-05</td><td>   +ve    </td><td>     </td><td>       </td></tr>\n",
       "</table>"
      ],
      "text/plain": [
       "<GPy.models.gp_regression.GPRegression at 0x107891790>"
      ]
     },
     "metadata": {},
     "output_type": "display_data"
    }
   ],
   "source": [
    "model = GPy.models.GPRegression(X_train, y_train, normalizer=True)\n",
    "model.optimize()\n",
    "\n",
    "display(model)"
   ]
  },
  {
   "cell_type": "markdown",
   "metadata": {},
   "source": [
    "# Make predictions"
   ]
  },
  {
   "cell_type": "code",
   "execution_count": 17,
   "metadata": {
    "collapsed": false
   },
   "outputs": [
    {
     "name": "stdout",
     "output_type": "stream",
     "text": [
      "Test Log-likelihood 34.8901990295\n"
     ]
    }
   ],
   "source": [
    "mu, var = model.predict(X_test.as_matrix())\n",
    "s = np.sqrt(var)\n",
    "\n",
    "likelihood = np.sum([norm.logpdf(t[0], loc=t[1], scale=t[2]) for t in zip(y_test[target].values, mu.flatten(), s.flatten())])\n",
    "print('Test Log-likelihood', likelihood)"
   ]
  },
  {
   "cell_type": "code",
   "execution_count": null,
   "metadata": {
    "collapsed": false,
    "scrolled": false
   },
   "outputs": [],
   "source": [
    "data_test = pd.concat(\n",
    "    [\n",
    "        df_test, \n",
    "        DataFrame({'RRF_Predicted_New': mu.flatten(), 'RRF_Predicted_Std_New': s.flatten()}),\n",
    "    ], axis=1)\n",
    "\n",
    "data_test[['Name', 'RRF_Measured', 'RRF_Predicted', 'RRF_Predicted_New']]"
   ]
  },
  {
   "cell_type": "markdown",
   "metadata": {},
   "source": [
    "# Comparison of model metrics"
   ]
  },
  {
   "cell_type": "code",
   "execution_count": null,
   "metadata": {
    "collapsed": false
   },
   "outputs": [],
   "source": [
    "y_true = data_test['RRF_Measured']\n",
    "y_pred = data_test['RRF_Predicted']\n",
    "y_pred_new = data_test['RRF_Predicted_New']"
   ]
  },
  {
   "cell_type": "code",
   "execution_count": null,
   "metadata": {
    "collapsed": false
   },
   "outputs": [],
   "source": [
    "figsize(1.2 * default_fig_w, default_fig_h)\n",
    "\n",
    "ax = plt.subplot(1, 2, 1)\n",
    "plt.xlabel('RRF Measured')\n",
    "plt.ylabel('RRF Predicted (Reported)')\n",
    "plt.scatter(y_true, y_pred)\n",
    "plt.errorbar(y_true, y_pred, fmt='o', elinewidth=1, capthick=1, capsize=3, mew=0)\n",
    "\n",
    "xlim = plt.xlim()\n",
    "plt.plot([xlim[0], xlim[1]], [xlim[0], xlim[1]], 'r--', linewidth=.3)\n",
    "plt.xlim(*xlim)\n",
    "\n",
    "for x, y, label in zip(y_true, y_pred, df_test.ix[X_test.index]['Short Name']):\n",
    "    ann = ax.annotate(label, (x + 0.002, y), alpha=0.8)\n",
    "\n",
    "ylim = plt.ylim()\n",
    "\n",
    "plt.title('Reported Linear Model (Chalcraft et al.) $R^2$={:.4f}'.format(r2_score(y_true, y_pred)))\n",
    "#---\n",
    "\n",
    "ax = plt.subplot(1, 2, 2)\n",
    "plt.xlabel('RRF Measured')\n",
    "plt.ylabel('RRF Predicted (New)')\n",
    "plt.scatter(y_true, y_pred_new)\n",
    "plt.errorbar(y_true, y_pred_new, yerr=np.sqrt(var), fmt='o', elinewidth=1, capthick=1, capsize=3)\n",
    "\n",
    "plt.plot([xlim[0], xlim[1]], [xlim[0], xlim[1]], 'r--', linewidth=.3)\n",
    "plt.xlim(*xlim)\n",
    "plt.ylim(*ylim)\n",
    "\n",
    "for x, y, label in zip(y_true, y_pred_new, df_test.ix[X_test.index]['Short Name']):\n",
    "    ann = ax.annotate(label, (x + 0.002, y), alpha=0.8)\n",
    "\n",
    "plt.grid(True)\n",
    "plt.title('GPR Model $R^2$={:.4f}'.format(r2_score(y_true, y_pred_new)))\n",
    "\n",
    "plt.tight_layout(pad=0.1)\n",
    "\n",
    "if SAVE_FIG:\n",
    "    plt.savefig('../figures/hmdb_linear_and_gp_regression.pdf')\n",
    "\n",
    "plt.show()"
   ]
  },
  {
   "cell_type": "markdown",
   "metadata": {},
   "source": [
    "## Metrics of the model reported in the paper"
   ]
  },
  {
   "cell_type": "code",
   "execution_count": null,
   "metadata": {
    "collapsed": false
   },
   "outputs": [],
   "source": [
    "print(\"mean_squared_error\", mean_squared_error(y_true, y_pred))\n",
    "print(\"r2_score\", r2_score(y_true, y_pred))"
   ]
  },
  {
   "cell_type": "markdown",
   "metadata": {},
   "source": [
    "## Metrics of our new models"
   ]
  },
  {
   "cell_type": "code",
   "execution_count": null,
   "metadata": {
    "collapsed": false
   },
   "outputs": [],
   "source": [
    "print(\"mean_squared_error\", mean_squared_error(y_true, y_pred_new))\n",
    "print(\"r2_score\", r2_score(y_true, y_pred_new))\n",
    "print(\"Log Likeliehood\", np.sum([norm.logpdf(t[0], loc=t[1], scale=t[2]) for t in zip(y_true, y_pred_new, data_test['RRF_Predicted_Std_New'])]))"
   ]
  }
 ],
 "metadata": {
  "kernelspec": {
   "display_name": "Python 2",
   "language": "python",
   "name": "python2"
  },
  "language_info": {
   "codemirror_mode": {
    "name": "ipython",
    "version": 2
   },
   "file_extension": ".py",
   "mimetype": "text/x-python",
   "name": "python",
   "nbconvert_exporter": "python",
   "pygments_lexer": "ipython2",
   "version": "2.7.10"
  }
 },
 "nbformat": 4,
 "nbformat_minor": 0
}
