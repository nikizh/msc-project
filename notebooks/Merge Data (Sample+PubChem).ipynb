{
 "cells": [
  {
   "cell_type": "code",
   "execution_count": 25,
   "metadata": {
    "collapsed": true
   },
   "outputs": [],
   "source": [
    "from __future__ import print_function\n",
    "import numpy as np\n",
    "import pandas as pd\n",
    "import seaborn as sns\n",
    "import matplotlib.pyplot as plt\n",
    "import pubchempy\n",
    "from pandas import Series, DataFrame\n",
    "from rdkit import Chem\n",
    "from IPython.core.pylabtools import figsize\n",
    "\n",
    "%matplotlib inline\n",
    "figsize(16, 8)"
   ]
  },
  {
   "cell_type": "markdown",
   "metadata": {},
   "source": [
    "# Load Data and compute InChI Keys"
   ]
  },
  {
   "cell_type": "code",
   "execution_count": 26,
   "metadata": {
    "collapsed": false
   },
   "outputs": [],
   "source": [
    "df_train = pd.read_csv('../data/TableS2_training.csv', keep_default_na=False)\n",
    "\n",
    "# Calculate InChI Key\n",
    "df_train['InChI_Key'] = df_train['InChI'].apply(lambda x: Chem.inchi.InchiToInchiKey(x))"
   ]
  },
  {
   "cell_type": "markdown",
   "metadata": {},
   "source": [
    "# Load information for L-Asparagine"
   ]
  },
  {
   "cell_type": "code",
   "execution_count": 27,
   "metadata": {
    "collapsed": false
   },
   "outputs": [
    {
     "data": {
      "text/plain": [
       "Name                        L-Asparagine\n",
       "InChI_Key    DCXYFEDJOCDNAF-REOHCLBHSA-N\n",
       "Name: 11, dtype: object"
      ]
     },
     "execution_count": 27,
     "metadata": {},
     "output_type": "execute_result"
    }
   ],
   "source": [
    "metabolite = df_train.iloc[11]\n",
    "metabolite[['Name', 'InChI_Key']]"
   ]
  },
  {
   "cell_type": "code",
   "execution_count": 28,
   "metadata": {
    "collapsed": true
   },
   "outputs": [],
   "source": [
    "compounds = pubchempy.get_compounds(metabolite['InChI_Key'], 'inchikey')"
   ]
  },
  {
   "cell_type": "code",
   "execution_count": 29,
   "metadata": {
    "collapsed": false
   },
   "outputs": [
    {
     "data": {
      "text/plain": [
       "[Compound(6992089), Compound(6267)]"
      ]
     },
     "execution_count": 29,
     "metadata": {},
     "output_type": "execute_result"
    }
   ],
   "source": [
    "compounds"
   ]
  },
  {
   "cell_type": "code",
   "execution_count": 30,
   "metadata": {
    "collapsed": true
   },
   "outputs": [],
   "source": [
    "def get_mincid_compound(compounds):\n",
    "    \"\"\"Gets the compout with lowest CID\"\"\"\n",
    "    \n",
    "    if compounds:\n",
    "        return compounds[min(enumerate(compounds), key=lambda c: c[1].cid)[0]]\n",
    "    \n",
    "    return None"
   ]
  },
  {
   "cell_type": "code",
   "execution_count": 31,
   "metadata": {
    "collapsed": false
   },
   "outputs": [],
   "source": [
    "min_cid_compound = get_mincid_compound(compounds)"
   ]
  },
  {
   "cell_type": "code",
   "execution_count": 32,
   "metadata": {
    "collapsed": false,
    "scrolled": true
   },
   "outputs": [
    {
     "name": "stdout",
     "output_type": "stream",
     "text": [
      "xLogP -3.4\n",
      "tpsa 106\n"
     ]
    }
   ],
   "source": [
    "print(\"xLogP\", min_cid_compound.xlogp)\n",
    "print(\"tpsa\", min_cid_compound.tpsa)"
   ]
  },
  {
   "cell_type": "markdown",
   "metadata": {},
   "source": [
    "# Get compound properties from PubChem"
   ]
  },
  {
   "cell_type": "code",
   "execution_count": 33,
   "metadata": {
    "collapsed": false
   },
   "outputs": [],
   "source": [
    "def exctract_compound_properties(compound):\n",
    "    info = {\n",
    "        'cid': compound.cid,\n",
    "        'exact_mass': compound.exact_mass,\n",
    "        'complexity': compound.complexity,\n",
    "        'xlogp': compound.xlogp,\n",
    "        'h_bond_acceptor_count': compound.h_bond_acceptor_count,\n",
    "        'h_bond_donor_count': compound.h_bond_donor_count,\n",
    "        'rotatable_bond_count': compound.rotatable_bond_count,\n",
    "        'heavy_atom_count': compound.heavy_atom_count,\n",
    "        'tpsa': compound.tpsa\n",
    "    }\n",
    "    \n",
    "    return info\n",
    "\n",
    "def get_pubchem_properties(inchi_keys):\n",
    "    properties = []\n",
    "\n",
    "    for inchi_key in inchi_keys:\n",
    "        compounds = pubchempy.get_compounds(inchi_key, 'inchikey')\n",
    "        \n",
    "        compound = get_mincid_compound(compounds)\n",
    "\n",
    "        if compound:\n",
    "            print('Loading info for CID({}) - {}'.format(compound.cid, compound.iupac_name))\n",
    "            \n",
    "            info = exctract_compound_properties(compound)\n",
    "            \n",
    "            info['InChI_Key'] = inchi_key\n",
    "\n",
    "            properties.append(info)\n",
    "\n",
    "    return properties"
   ]
  },
  {
   "cell_type": "code",
   "execution_count": 34,
   "metadata": {
    "collapsed": true
   },
   "outputs": [],
   "source": [
    "def merge_and_save(df, properties, csv_output_file):\n",
    "    df_properties = DataFrame(properties)\n",
    "    df_merged = pd.merge(df, df_properties, on='InChI_Key')\n",
    "    df_merged.to_csv(csv_output_file, encoding='utf-8')\n",
    "\n",
    "    return df_merged"
   ]
  },
  {
   "cell_type": "markdown",
   "metadata": {},
   "source": [
    "# Load info for the training data"
   ]
  },
  {
   "cell_type": "code",
   "execution_count": 35,
   "metadata": {
    "collapsed": false,
    "scrolled": false
   },
   "outputs": [
    {
     "name": "stdout",
     "output_type": "stream",
     "text": [
      "Loading info for CID(5950) - (2S)-2-aminopropanoic acid\n",
      "Loading info for CID(239) - 3-aminopropanoic acid\n",
      "Loading info for CID(119) - 4-aminobutanoic acid\n",
      "Loading info for CID(774) - 2-(1H-imidazol-5-yl)ethanamine\n",
      "Loading info for CID(586) - 2-[carbamimidoyl(methyl)amino]acetic acid\n",
      "Loading info for CID(6287) - (2S)-2-amino-3-methylbutanoic acid\n",
      "Loading info for CID(6288) - (2S,3R)-2-amino-3-hydroxybutanoic acid\n",
      "Loading info for CID(936) - pyridine-3-carboxamide\n",
      "Loading info for CID(938) - pyridine-3-carboxylic acid\n",
      "Loading info for CID(6106) - (2S)-2-amino-4-methylpentanoic acid\n",
      "Loading info for CID(6306) - (2S,3S)-2-amino-3-methylpentanoic acid\n",
      "Loading info for CID(6267) - (2S)-2,4-diamino-4-oxobutanoic acid\n",
      "Loading info for CID(5960) - (2S)-2-aminobutanedioic acid\n",
      "Loading info for CID(190) - 7H-purin-6-amine\n",
      "Loading info for CID(778) - 2-amino-4-sulfanylbutanoic acid\n",
      "Loading info for CID(978) - 4-aminobenzoic acid\n",
      "Loading info for CID(5610) - 4-(2-aminoethyl)phenol\n",
      "Loading info for CID(5961) - (2S)-2,5-diamino-5-oxopentanoic acid\n",
      "Loading info for CID(5962) - (2S)-2,6-diaminohexanoic acid\n",
      "Loading info for CID(33032) - (2S)-2-aminopentanedioic acid\n",
      "Loading info for CID(6137) - (2S)-2-amino-4-methylsulfanylbutanoic acid\n",
      "Loading info for CID(764) - 2-amino-3,7-dihydropurin-6-one\n",
      "Loading info for CID(681) - 4-(2-aminoethyl)benzene-1,2-diol\n",
      "Loading info for CID(6274) - (2S)-2-amino-3-(1H-imidazol-5-yl)propanoic acid\n",
      "Loading info for CID(5460362) - (2R)-2-[[(2R)-2-aminopropanoyl]amino]propanoic acid\n",
      "Loading info for CID(1150) - 2-(1H-indol-3-yl)ethanamine\n",
      "Loading info for CID(10917) - (3R)-3-hydroxy-4-(trimethylazaniumyl)butanoate\n",
      "Loading info for CID(6140) - (2S)-2-amino-3-phenylpropanoic acid\n",
      "Loading info for CID(6322) - (2S)-2-amino-5-(diaminomethylideneamino)pentanoic acid\n",
      "Loading info for CID(5202) - 3-(2-aminoethyl)-1H-indol-5-ol\n",
      "Loading info for CID(445282) - (2S)-2-amino-4-methylsulfonylbutanoic acid\n",
      "Loading info for CID(6950577) - (2S)-2-azaniumyl-3-(3-hydroxyphenyl)propanoate\n",
      "Loading info for CID(6950573) - (2S)-2-azaniumyl-3-(2-hydroxyphenyl)propanoate\n",
      "Loading info for CID(6057) - (2S)-2-amino-3-(4-hydroxyphenyl)propanoic acid\n",
      "Loading info for CID(6047) - (2S)-2-amino-3-(3,4-dihydroxyphenyl)propanoic acid\n",
      "Loading info for CID(1) - 3-acetyloxy-4-(trimethylazaniumyl)butanoate\n",
      "Loading info for CID(6305) - (2S)-2-amino-3-(1H-indol-3-yl)propanoic acid\n",
      "Loading info for CID(119226) - 2-amino-3-(3-chloro-4-hydroxyphenyl)propanoic acid\n",
      "Loading info for CID(144) - 2-amino-3-(5-hydroxy-1H-indol-3-yl)propanoic acid\n",
      "Loading info for CID(439258) - (2S)-2-amino-4-[(2R)-2-amino-2-carboxyethyl]sulfanylbutanoic acid\n",
      "Loading info for CID(65124) - None\n",
      "Loading info for CID(2249) - 2-[4-[2-hydroxy-3-(propan-2-ylamino)propoxy]phenyl]acetamide\n",
      "Loading info for CID(60961) - (2R,3R,4S,5R)-2-(6-aminopurin-9-yl)-5-(hydroxymethyl)oxolane-3,4-diol\n",
      "Loading info for CID(4171) - 1-[4-(2-methoxyethyl)phenoxy]-3-(propan-2-ylamino)propan-2-ol\n",
      "Loading info for CID(6802) - 2-amino-9-[(2R,3R,4S,5R)-3,4-dihydroxy-5-(hydroxymethyl)oxolan-2-yl]-3H-purin-6-one\n",
      "Loading info for CID(975) - 2-amino-5-[[3-[[2-[(4-amino-4-carboxybutanoyl)amino]-3-(carboxymethylamino)-3-oxopropyl]disulfanyl]-1-(carboxymethylamino)-1-oxopropan-2-yl]amino]-5-oxopentanoic acid\n",
      "Loading info for CID(3034034) - (R)-[(2S,4S,5R)-5-ethenyl-1-azabicyclo[2.2.2]octan-2-yl]-(6-methoxyquinolin-4-yl)methanol\n",
      "Loading info for CID(54715139) - (4S,4aR,5S,5aR,6S,12aS)-4-(dimethylamino)-3,5,6,10,11,12a-hexahydroxy-6-methyl-1,12-dioxo-4,4a,5,5a-tetrahydrotetracene-2-carboxamide\n"
     ]
    },
    {
     "data": {
      "text/html": [
       "<div>\n",
       "<table border=\"1\" class=\"dataframe\">\n",
       "  <thead>\n",
       "    <tr style=\"text-align: right;\">\n",
       "      <th></th>\n",
       "      <th>Name</th>\n",
       "      <th>Annotation</th>\n",
       "      <th>Short Name</th>\n",
       "      <th>InChI</th>\n",
       "      <th>MH+ Fragment</th>\n",
       "      <th>MH+ Isotope</th>\n",
       "      <th>fragment/isotope</th>\n",
       "      <th>MV</th>\n",
       "      <th>logD</th>\n",
       "      <th>abs_mob</th>\n",
       "      <th>...</th>\n",
       "      <th>InChI_Key</th>\n",
       "      <th>cid</th>\n",
       "      <th>complexity</th>\n",
       "      <th>exact_mass</th>\n",
       "      <th>h_bond_acceptor_count</th>\n",
       "      <th>h_bond_donor_count</th>\n",
       "      <th>heavy_atom_count</th>\n",
       "      <th>rotatable_bond_count</th>\n",
       "      <th>tpsa</th>\n",
       "      <th>xlogp</th>\n",
       "    </tr>\n",
       "  </thead>\n",
       "  <tbody>\n",
       "    <tr>\n",
       "      <th>0</th>\n",
       "      <td>L-Alanine</td>\n",
       "      <td>a</td>\n",
       "      <td>Ala</td>\n",
       "      <td>InChI=1S/C3H7NO2/c1-2(4)3(5)6/h2H,4H2,1H3,(H,5...</td>\n",
       "      <td>90</td>\n",
       "      <td></td>\n",
       "      <td></td>\n",
       "      <td>70.3</td>\n",
       "      <td>-2.79</td>\n",
       "      <td>3.140000</td>\n",
       "      <td>...</td>\n",
       "      <td>QNAYBMKLOCPYGJ-REOHCLBHSA-N</td>\n",
       "      <td>5950</td>\n",
       "      <td>61.8</td>\n",
       "      <td>89.047678</td>\n",
       "      <td>3</td>\n",
       "      <td>2</td>\n",
       "      <td>6</td>\n",
       "      <td>1</td>\n",
       "      <td>63.3</td>\n",
       "      <td>-3.0</td>\n",
       "    </tr>\n",
       "    <tr>\n",
       "      <th>1</th>\n",
       "      <td>β-Alanine</td>\n",
       "      <td>a</td>\n",
       "      <td>β-Ala</td>\n",
       "      <td>InChI=1S/C3H7NO2/c4-2-1-3(5)6/h1-2,4H2,(H,5,6)</td>\n",
       "      <td>90</td>\n",
       "      <td></td>\n",
       "      <td></td>\n",
       "      <td>70.4</td>\n",
       "      <td>-3.01</td>\n",
       "      <td>4.140000</td>\n",
       "      <td>...</td>\n",
       "      <td>UCMIRNVEIXFBKS-UHFFFAOYSA-N</td>\n",
       "      <td>239</td>\n",
       "      <td>52.8</td>\n",
       "      <td>89.047678</td>\n",
       "      <td>3</td>\n",
       "      <td>2</td>\n",
       "      <td>6</td>\n",
       "      <td>2</td>\n",
       "      <td>63.3</td>\n",
       "      <td>-3.0</td>\n",
       "    </tr>\n",
       "    <tr>\n",
       "      <th>2</th>\n",
       "      <td>γ-Aminobutyric acid</td>\n",
       "      <td>a</td>\n",
       "      <td>GABA</td>\n",
       "      <td>InChI=1S/C4H9NO2/c5-3-1-2-4(6)7/h1-3,5H2,(H,6,7)</td>\n",
       "      <td>104</td>\n",
       "      <td></td>\n",
       "      <td></td>\n",
       "      <td>89.2</td>\n",
       "      <td>-3.10</td>\n",
       "      <td>0.000409</td>\n",
       "      <td>...</td>\n",
       "      <td>BTCSSZJGUNDROE-UHFFFAOYSA-N</td>\n",
       "      <td>119</td>\n",
       "      <td>62.7</td>\n",
       "      <td>103.063329</td>\n",
       "      <td>3</td>\n",
       "      <td>2</td>\n",
       "      <td>7</td>\n",
       "      <td>3</td>\n",
       "      <td>63.3</td>\n",
       "      <td>-3.2</td>\n",
       "    </tr>\n",
       "  </tbody>\n",
       "</table>\n",
       "<p>3 rows × 23 columns</p>\n",
       "</div>"
      ],
      "text/plain": [
       "                  Name Annotation Short Name  \\\n",
       "0           L-Alanine           a       Ala    \n",
       "1            β-Alanine          a      β-Ala   \n",
       "2  γ-Aminobutyric acid          a       GABA   \n",
       "\n",
       "                                               InChI  MH+ Fragment  \\\n",
       "0  InChI=1S/C3H7NO2/c1-2(4)3(5)6/h2H,4H2,1H3,(H,5...            90   \n",
       "1     InChI=1S/C3H7NO2/c4-2-1-3(5)6/h1-2,4H2,(H,5,6)            90   \n",
       "2   InChI=1S/C4H9NO2/c5-3-1-2-4(6)7/h1-3,5H2,(H,6,7)           104   \n",
       "\n",
       "  MH+ Isotope fragment/isotope    MV  logD   abs_mob  ...    \\\n",
       "0                               70.3 -2.79  3.140000  ...     \n",
       "1                               70.4 -3.01  4.140000  ...     \n",
       "2                               89.2 -3.10  0.000409  ...     \n",
       "\n",
       "                     InChI_Key   cid  complexity  exact_mass  \\\n",
       "0  QNAYBMKLOCPYGJ-REOHCLBHSA-N  5950        61.8   89.047678   \n",
       "1  UCMIRNVEIXFBKS-UHFFFAOYSA-N   239        52.8   89.047678   \n",
       "2  BTCSSZJGUNDROE-UHFFFAOYSA-N   119        62.7  103.063329   \n",
       "\n",
       "   h_bond_acceptor_count  h_bond_donor_count  heavy_atom_count  \\\n",
       "0                      3                   2                 6   \n",
       "1                      3                   2                 6   \n",
       "2                      3                   2                 7   \n",
       "\n",
       "   rotatable_bond_count  tpsa  xlogp  \n",
       "0                     1  63.3   -3.0  \n",
       "1                     2  63.3   -3.0  \n",
       "2                     3  63.3   -3.2  \n",
       "\n",
       "[3 rows x 23 columns]"
      ]
     },
     "execution_count": 35,
     "metadata": {},
     "output_type": "execute_result"
    }
   ],
   "source": [
    "# Get properties from PubChem for the training set\n",
    "train_properties = get_pubchem_properties(df_train['InChI_Key'])\n",
    "df = merge_and_save(df_train, train_properties, '../data/TableS2_training_pubchem.csv')\n",
    "\n",
    "df.head(3)"
   ]
  },
  {
   "cell_type": "markdown",
   "metadata": {},
   "source": [
    "# Load info for the test data"
   ]
  },
  {
   "cell_type": "code",
   "execution_count": 36,
   "metadata": {
    "collapsed": false
   },
   "outputs": [],
   "source": [
    "df_test = pd.read_csv('../data/TableS3_training.csv', keep_default_na=False)\n",
    "\n",
    "# Calculate InChI Key\n",
    "df_test['InChI_Key'] = df_test['InChI'].apply(lambda x: Chem.inchi.InchiToInchiKey(x))"
   ]
  },
  {
   "cell_type": "code",
   "execution_count": 37,
   "metadata": {
    "collapsed": false
   },
   "outputs": [
    {
     "name": "stdout",
     "output_type": "stream",
     "text": [
      "Loading info for CID(6262) - (2S)-2,5-diaminopentanoic acid\n",
      "Loading info for CID(22880) - (2R)-2-(methylamino)butanedioic acid\n",
      "Loading info for CID(64969) - (2S)-2-amino-3-(3-methylimidazol-4-yl)propanoic acid\n",
      "Loading info for CID(439378) - (2S)-2-amino-5-(ethylamino)-5-oxopentanoic acid\n",
      "Loading info for CID(9750) - (2S)-2-amino-5-(carbamoylamino)pentanoic acid\n",
      "Loading info for CID(188824) - (3R)-3-propanoyloxy-4-(trimethylazaniumyl)butanoate\n",
      "Loading info for CID(439224) - (2S)-2-(3-aminopropanoylamino)-3-(1H-imidazol-5-yl)propanoic acid\n",
      "Loading info for CID(439829) - 3-butanoyloxy-4-(trimethylazaniumyl)butanoate\n",
      "Loading info for CID(27476) - (2R,3S,4R,5R)-2-(hydroxymethyl)-5-(6-imino-1-methylpurin-9-yl)oxolane-3,4-diol\n",
      "Loading info for CID(11953814) - (3R)-3-octanoyloxy-4-(trimethylazaniumyl)butanoate\n"
     ]
    },
    {
     "data": {
      "text/html": [
       "<div>\n",
       "<table border=\"1\" class=\"dataframe\">\n",
       "  <thead>\n",
       "    <tr style=\"text-align: right;\">\n",
       "      <th></th>\n",
       "      <th>Name</th>\n",
       "      <th>Short Name</th>\n",
       "      <th>InChI</th>\n",
       "      <th>MH+</th>\n",
       "      <th>MV</th>\n",
       "      <th>logD</th>\n",
       "      <th>abs_mob</th>\n",
       "      <th>zeff</th>\n",
       "      <th>RRF_Measured</th>\n",
       "      <th>RRF_Predicted</th>\n",
       "      <th>InChI_Key</th>\n",
       "      <th>cid</th>\n",
       "      <th>complexity</th>\n",
       "      <th>exact_mass</th>\n",
       "      <th>h_bond_acceptor_count</th>\n",
       "      <th>h_bond_donor_count</th>\n",
       "      <th>heavy_atom_count</th>\n",
       "      <th>rotatable_bond_count</th>\n",
       "      <th>tpsa</th>\n",
       "      <th>xlogp</th>\n",
       "    </tr>\n",
       "  </thead>\n",
       "  <tbody>\n",
       "    <tr>\n",
       "      <th>0</th>\n",
       "      <td>L-Ornithine</td>\n",
       "      <td>Orn</td>\n",
       "      <td>InChI=1S/C5H12N2O2/c6-3-1-2-4(7)5(8)9/h4H,1-3,...</td>\n",
       "      <td>133</td>\n",
       "      <td>113</td>\n",
       "      <td>-4.22</td>\n",
       "      <td>0.000686</td>\n",
       "      <td>1.82</td>\n",
       "      <td>0.281</td>\n",
       "      <td>0.631</td>\n",
       "      <td>AHLPHDHHMVZTML-BYPYZUCNSA-N</td>\n",
       "      <td>6262</td>\n",
       "      <td>95</td>\n",
       "      <td>132.089878</td>\n",
       "      <td>4</td>\n",
       "      <td>3</td>\n",
       "      <td>9</td>\n",
       "      <td>4</td>\n",
       "      <td>89.3</td>\n",
       "      <td>-4.4</td>\n",
       "    </tr>\n",
       "    <tr>\n",
       "      <th>1</th>\n",
       "      <td>N-Methyl-Aspartic acid</td>\n",
       "      <td>MeAsp</td>\n",
       "      <td>InChI=1S/C5H9NO4/c1-6-3(5(9)10)2-4(7)8/h3,6H,2...</td>\n",
       "      <td>148</td>\n",
       "      <td>114</td>\n",
       "      <td>-2.58</td>\n",
       "      <td>0.000348</td>\n",
       "      <td>0.71</td>\n",
       "      <td>0.842</td>\n",
       "      <td>0.667</td>\n",
       "      <td>HOKKHZGPKSLGJE-GSVOUGTGSA-N</td>\n",
       "      <td>22880</td>\n",
       "      <td>145</td>\n",
       "      <td>147.053158</td>\n",
       "      <td>5</td>\n",
       "      <td>3</td>\n",
       "      <td>10</td>\n",
       "      <td>4</td>\n",
       "      <td>86.6</td>\n",
       "      <td>-3.4</td>\n",
       "    </tr>\n",
       "    <tr>\n",
       "      <th>2</th>\n",
       "      <td>3-Methyl-L-Histidine</td>\n",
       "      <td>MeHis</td>\n",
       "      <td>InChI=1S/C7H11N3O2/c1-10-4-9-3-5(10)2-6(8)7(11...</td>\n",
       "      <td>170</td>\n",
       "      <td>144</td>\n",
       "      <td>-2.94</td>\n",
       "      <td>0.000620</td>\n",
       "      <td>1.49</td>\n",
       "      <td>1.400</td>\n",
       "      <td>2.280</td>\n",
       "      <td>JDHILDINMRGULE-LURJTMIESA-N</td>\n",
       "      <td>64969</td>\n",
       "      <td>174</td>\n",
       "      <td>169.085127</td>\n",
       "      <td>4</td>\n",
       "      <td>2</td>\n",
       "      <td>12</td>\n",
       "      <td>3</td>\n",
       "      <td>81.1</td>\n",
       "      <td>-3.3</td>\n",
       "    </tr>\n",
       "  </tbody>\n",
       "</table>\n",
       "</div>"
      ],
      "text/plain": [
       "                     Name Short Name  \\\n",
       "0             L-Ornithine        Orn   \n",
       "1  N-Methyl-Aspartic acid      MeAsp   \n",
       "2   3-Methyl-L-Histidine       MeHis   \n",
       "\n",
       "                                               InChI  MH+   MV  logD  \\\n",
       "0  InChI=1S/C5H12N2O2/c6-3-1-2-4(7)5(8)9/h4H,1-3,...  133  113 -4.22   \n",
       "1  InChI=1S/C5H9NO4/c1-6-3(5(9)10)2-4(7)8/h3,6H,2...  148  114 -2.58   \n",
       "2  InChI=1S/C7H11N3O2/c1-10-4-9-3-5(10)2-6(8)7(11...  170  144 -2.94   \n",
       "\n",
       "    abs_mob  zeff  RRF_Measured  RRF_Predicted                    InChI_Key  \\\n",
       "0  0.000686  1.82         0.281          0.631  AHLPHDHHMVZTML-BYPYZUCNSA-N   \n",
       "1  0.000348  0.71         0.842          0.667  HOKKHZGPKSLGJE-GSVOUGTGSA-N   \n",
       "2  0.000620  1.49         1.400          2.280  JDHILDINMRGULE-LURJTMIESA-N   \n",
       "\n",
       "     cid  complexity  exact_mass  h_bond_acceptor_count  h_bond_donor_count  \\\n",
       "0   6262          95  132.089878                      4                   3   \n",
       "1  22880         145  147.053158                      5                   3   \n",
       "2  64969         174  169.085127                      4                   2   \n",
       "\n",
       "   heavy_atom_count  rotatable_bond_count  tpsa  xlogp  \n",
       "0                 9                     4  89.3   -4.4  \n",
       "1                10                     4  86.6   -3.4  \n",
       "2                12                     3  81.1   -3.3  "
      ]
     },
     "execution_count": 37,
     "metadata": {},
     "output_type": "execute_result"
    }
   ],
   "source": [
    "# Get properties from PubChem for the test set\n",
    "test_properties = get_pubchem_properties(df_test['InChI_Key'])\n",
    "df = merge_and_save(df_test, test_properties, '../data/TableS3_training_pubchem.csv')\n",
    "\n",
    "df.head(3)"
   ]
  }
 ],
 "metadata": {
  "kernelspec": {
   "display_name": "Python 2",
   "language": "python",
   "name": "python2"
  },
  "language_info": {
   "codemirror_mode": {
    "name": "ipython",
    "version": 2
   },
   "file_extension": ".py",
   "mimetype": "text/x-python",
   "name": "python",
   "nbconvert_exporter": "python",
   "pygments_lexer": "ipython2",
   "version": "2.7.10"
  }
 },
 "nbformat": 4,
 "nbformat_minor": 0
}
