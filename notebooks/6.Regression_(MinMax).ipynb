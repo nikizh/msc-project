{
 "cells": [
  {
   "cell_type": "markdown",
   "metadata": {},
   "source": [
    "# Gaussian Process using Tanimoto and MinMax Tanimoto kernel"
   ]
  },
  {
   "cell_type": "code",
   "execution_count": 7,
   "metadata": {
    "collapsed": false
   },
   "outputs": [],
   "source": [
    "from __future__ import division\n",
    "from __future__ import print_function\n",
    "import os\n",
    "import numpy as np\n",
    "import pandas as pd\n",
    "import seaborn as sns\n",
    "import matplotlib.pyplot as plt\n",
    "from rdkit import Chem\n",
    "from pandas import Series, DataFrame\n",
    "from sklearn.metrics import r2_score\n",
    "from sklearn import cross_validation\n",
    "from GPz.model import GPR\n",
    "from GPz.kern import Tanimoto, MinMaxTanimoto, Pharmacore\n",
    "from scipy.stats import norm\n",
    "from IPython.core.pylabtools import figsize\n",
    "from IPython.core.display import display\n",
    "\n",
    "SAVE_FIG = True\n",
    "\n",
    "if SAVE_FIG:\n",
    "    from matplotlib import rcParams  \n",
    "    rcParams['axes.labelsize'] = 9\n",
    "    rcParams['xtick.labelsize'] = 9  \n",
    "    rcParams['ytick.labelsize'] = 9  \n",
    "    rcParams['legend.fontsize'] = 9 \n",
    "    default_fig_w = 8\n",
    "    default_fig_h = 5\n",
    "else:\n",
    "    default_fig_w = 16\n",
    "    default_fig_h = 10\n",
    "\n",
    "%matplotlib inline\n",
    "figsize(default_fig_w, default_fig_h)"
   ]
  },
  {
   "cell_type": "markdown",
   "metadata": {},
   "source": [
    "# Load and adjust data"
   ]
  },
  {
   "cell_type": "code",
   "execution_count": 8,
   "metadata": {
    "collapsed": false
   },
   "outputs": [],
   "source": [
    "df_train = pd.read_csv('../data/TableS2_training_pubchem.csv', keep_default_na=False)\n",
    "df_test = pd.read_csv('../data/TableS3_training_pubchem.csv', keep_default_na=False)\n",
    "\n",
    "columns = ['Name', 'Short Name', 'InChI', 'RRF_Measured', 'RRF_Predicted']\n",
    "df_train = df_train[df_train['Annotation'] == '']\n",
    "df_train = df_train[columns]\n",
    "df_test = df_test[columns]"
   ]
  },
  {
   "cell_type": "code",
   "execution_count": 9,
   "metadata": {
    "collapsed": false
   },
   "outputs": [],
   "source": [
    "for df in [df_train, df_test]:\n",
    "    df['RRF_Measured'] = df['RRF_Measured'] * 1e-2\n",
    "    df['RRF_Predicted'] = df['RRF_Predicted'] * 1e-2\n",
    "    df['mol'] = df['InChI'].apply(lambda x: Chem.MolFromInchi(x))"
   ]
  },
  {
   "cell_type": "code",
   "execution_count": 10,
   "metadata": {
    "collapsed": false
   },
   "outputs": [],
   "source": [
    "def execute_gp(X_train, y_train, X_test, n_var, kern_type):\n",
    "    if kern_type == 'MinMaxTanimoto':\n",
    "        kern = MinMaxTanimoto\n",
    "    elif kern_type == 'Tanimoto':\n",
    "        kern = Tanimoto\n",
    "    else:\n",
    "        raise ValueError('kern_type')\n",
    "    \n",
    "    kernel = kern(X_train, X_test, label='mol', alpha=1e-5, temp_dir='../data/')\n",
    "    gpr = GPR(X_train, y_train, kernel=kernel)\n",
    "    gpr.noise_variance = n_var\n",
    "    \n",
    "    mu, var = gpr.predict(X_test)\n",
    "    s = np.sqrt(var)\n",
    "    \n",
    "    return mu, s\n",
    "\n",
    "def plot_results(y_test, mu, s, title):\n",
    "    plt.xlabel('Measured (log)')\n",
    "    plt.ylabel('Predicted (log)')\n",
    "    plt.scatter(y_test, mu)\n",
    "    \n",
    "    #ylim = plt.ylim()\n",
    "    plt.errorbar(y_test, mu, yerr=s, fmt='o', elinewidth=1, capthick=1, capsize=3, lolims=False, uplims=False)\n",
    "    plt.ylim([-0.01, 0.12])\n",
    "    \n",
    "    xlim = plt.xlim()\n",
    "    plt.plot([xlim[0], xlim[1]], [xlim[0], xlim[1]], 'r--', linewidth=.3)\n",
    "    plt.xlim(*xlim)\n",
    "    \n",
    "    plt.grid(True)\n",
    "    plt.title(title)"
   ]
  },
  {
   "cell_type": "code",
   "execution_count": 11,
   "metadata": {
    "collapsed": false
   },
   "outputs": [],
   "source": [
    "def cv(arr_nvar, kern_type, name):\n",
    "    k_fold = cross_validation.KFold(len(df_train), n_folds=5)\n",
    "\n",
    "    grid_results = []\n",
    "\n",
    "    for i, (train_fold, test_fold) in enumerate(k_fold):\n",
    "        X_train_fold = df_train.iloc[train_fold]\n",
    "        y_train_fold = df_train.iloc[train_fold]['RRF_Measured']\n",
    "        X_test_fold = df_train.iloc[test_fold]\n",
    "        y_test_fold = df_train.iloc[test_fold]['RRF_Measured']\n",
    "\n",
    "        for p_nvar in arr_nvar:\n",
    "            mu, s = execute_gp(X_train_fold, y_train_fold, X_test_fold, p_nvar, kern_type)\n",
    "            log_likelihood = np.sum([norm.logpdf(t[0], loc=t[1], scale=t[2]) for t in zip(y_test_fold, mu, s)])\n",
    "            grid_results.append((p_nvar, log_likelihood))\n",
    "    \n",
    "    # Find the best parameter\n",
    "    df = DataFrame(grid_results, columns=['Param', 'LogLikelihood'])\n",
    "    best = df.groupby(['Param']).agg({'LogLikelihood' : np.mean}).sort(['LogLikelihood'], ascending=False)\n",
    "    display(best.head(5))\n",
    "    \n",
    "    # Fit and plot\n",
    "    n_var = best.iloc[0].name\n",
    "    print(n_var)\n",
    "\n",
    "    mu, s = execute_gp(df_train, df_train['RRF_Measured'], df_test, n_var, kern_type)\n",
    "    \n",
    "    train_mu, train_s = execute_gp(df_train, df_train['RRF_Measured'], df_train, n_var, kern_type)\n",
    "\n",
    "    figsize(1.45 * default_fig_w, default_fig_h)\n",
    "\n",
    "    ax = plt.subplot(1, 2, 1)\n",
    "    r2 = r2_score(df_test['RRF_Measured'], mu)\n",
    "    likelihood = np.sum([norm.logpdf(t[0], loc=t[1], scale=t[2]) for t in zip(df_test['RRF_Measured'], mu, s)])\n",
    "    print('Test Log-likelihood', likelihood)\n",
    "    plot_results(df_test['RRF_Measured'], mu, s, title='Test - $R^2$ = {:.3f}'.format(r2))\n",
    "    for x, y, label in zip(df_test['RRF_Measured'], mu, df_test['Short Name']):\n",
    "        ann = ax.annotate(label, (x + 0.002, y), alpha=0.8)\n",
    "    \n",
    "    \n",
    "    plt.subplot(1, 2, 2)\n",
    "    r2 = r2_score(df_train['RRF_Measured'], train_mu)\n",
    "    likelihood = np.sum([norm.logpdf(t[0], loc=t[1], scale=t[2]) for t in zip(df_train['RRF_Measured'], train_mu, train_s)])\n",
    "    print('Training Log-likelihood', likelihood)\n",
    "    plot_results(df_train['RRF_Measured'], train_mu, train_s, title='Training - $R^2$ = {:.3f}'.format(r2))\n",
    "\n",
    "    plt.tight_layout(pad=0.1)\n",
    "\n",
    "    if SAVE_FIG:\n",
    "        plt.savefig('../figures/' + name + '.pdf')\n",
    "\n",
    "    plt.show()"
   ]
  },
  {
   "cell_type": "markdown",
   "metadata": {},
   "source": [
    "# MinMax Tanimoto"
   ]
  },
  {
   "cell_type": "code",
   "execution_count": 12,
   "metadata": {
    "collapsed": false
   },
   "outputs": [
    {
     "data": {
      "text/html": [
       "<div>\n",
       "<table border=\"1\" class=\"dataframe\">\n",
       "  <thead>\n",
       "    <tr style=\"text-align: right;\">\n",
       "      <th></th>\n",
       "      <th>LogLikelihood</th>\n",
       "    </tr>\n",
       "    <tr>\n",
       "      <th>Param</th>\n",
       "      <th></th>\n",
       "    </tr>\n",
       "  </thead>\n",
       "  <tbody>\n",
       "    <tr>\n",
       "      <th>0.00001</th>\n",
       "      <td>23.686689</td>\n",
       "    </tr>\n",
       "    <tr>\n",
       "      <th>0.10000</th>\n",
       "      <td>1.626962</td>\n",
       "    </tr>\n",
       "    <tr>\n",
       "      <th>1.00000</th>\n",
       "      <td>-6.621255</td>\n",
       "    </tr>\n",
       "  </tbody>\n",
       "</table>\n",
       "</div>"
      ],
      "text/plain": [
       "         LogLikelihood\n",
       "Param                 \n",
       "0.00001      23.686689\n",
       "0.10000       1.626962\n",
       "1.00000      -6.621255"
      ]
     },
     "metadata": {},
     "output_type": "display_data"
    },
    {
     "name": "stdout",
     "output_type": "stream",
     "text": [
      "1e-05\n",
      "Test Log-likelihood 33.3379439956\n",
      "Training Log-likelihood 161.960389796\n"
     ]
    },
    {
     "data": {
      "image/png": "[encoded data removed]",
      "text/plain": [
       "<matplotlib.figure.Figure at 0x117a84050>"
      ]
     },
     "metadata": {},
     "output_type": "display_data"
    }
   ],
   "source": [
    "arr_nvar = [1e-5, 0.1, 1]\n",
    "cv(arr_nvar, 'MinMaxTanimoto', 'gp_minmax')"
   ]
  },
  {
   "cell_type": "markdown",
   "metadata": {},
   "source": [
    "# Tanimoto"
   ]
  },
  {
   "cell_type": "code",
   "execution_count": 13,
   "metadata": {
    "collapsed": false,
    "scrolled": false
   },
   "outputs": [
    {
     "data": {
      "text/html": [
       "<div>\n",
       "<table border=\"1\" class=\"dataframe\">\n",
       "  <thead>\n",
       "    <tr style=\"text-align: right;\">\n",
       "      <th></th>\n",
       "      <th>LogLikelihood</th>\n",
       "    </tr>\n",
       "    <tr>\n",
       "      <th>Param</th>\n",
       "      <th></th>\n",
       "    </tr>\n",
       "  </thead>\n",
       "  <tbody>\n",
       "    <tr>\n",
       "      <th>0.000008</th>\n",
       "      <td>21.210864</td>\n",
       "    </tr>\n",
       "    <tr>\n",
       "      <th>0.000129</th>\n",
       "      <td>20.317310</td>\n",
       "    </tr>\n",
       "    <tr>\n",
       "      <th>0.002154</th>\n",
       "      <td>14.660311</td>\n",
       "    </tr>\n",
       "    <tr>\n",
       "      <th>0.035938</th>\n",
       "      <td>5.283932</td>\n",
       "    </tr>\n",
       "    <tr>\n",
       "      <th>0.599484</th>\n",
       "      <td>-4.778989</td>\n",
       "    </tr>\n",
       "  </tbody>\n",
       "</table>\n",
       "</div>"
      ],
      "text/plain": [
       "          LogLikelihood\n",
       "Param                  \n",
       "0.000008      21.210864\n",
       "0.000129      20.317310\n",
       "0.002154      14.660311\n",
       "0.035938       5.283932\n",
       "0.599484      -4.778989"
      ]
     },
     "metadata": {},
     "output_type": "display_data"
    },
    {
     "name": "stdout",
     "output_type": "stream",
     "text": [
      "7.74263682681e-06\n",
      "Test Log-likelihood -1.6970634698\n",
      "Training Log-likelihood 157.407110651\n"
     ]
    },
    {
     "data": {
      "image/png": "[encoded data removed]",
      "text/plain": [
       "<matplotlib.figure.Figure at 0x117a26d10>"
      ]
     },
     "metadata": {},
     "output_type": "display_data"
    }
   ],
   "source": [
    "arr_nvar = np.logspace(-10, 1, num=10)\n",
    "cv(arr_nvar, 'Tanimoto', 'gp_tanimoto')"
   ]
  }
 ],
 "metadata": {
  "kernelspec": {
   "display_name": "Python 2",
   "language": "python",
   "name": "python2"
  },
  "language_info": {
   "codemirror_mode": {
    "name": "ipython",
    "version": 2
   },
   "file_extension": ".py",
   "mimetype": "text/x-python",
   "name": "python",
   "nbconvert_exporter": "python",
   "pygments_lexer": "ipython2",
   "version": "2.7.10"
  }
 },
 "nbformat": 4,
 "nbformat_minor": 0
}
