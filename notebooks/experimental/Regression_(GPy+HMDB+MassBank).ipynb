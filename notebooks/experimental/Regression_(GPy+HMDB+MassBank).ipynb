{
 "cells": [
  {
   "cell_type": "code",
   "execution_count": 1,
   "metadata": {
    "collapsed": false
   },
   "outputs": [],
   "source": [
    "from __future__ import print_function\n",
    "from __future__ import division\n",
    "import numpy as np\n",
    "import pandas as pd\n",
    "import seaborn as sns\n",
    "import matplotlib.pyplot as plt\n",
    "import GPy\n",
    "from pandas import Series, DataFrame\n",
    "from sklearn.decomposition import PCA\n",
    "from sklearn.metrics import explained_variance_score\n",
    "from sklearn.metrics import mean_absolute_error\n",
    "from sklearn.metrics import mean_squared_error\n",
    "from sklearn.metrics import r2_score\n",
    "from StringIO import StringIO\n",
    "from pymongo import MongoClient\n",
    "from IPython.core.pylabtools import figsize\n",
    "\n",
    "%matplotlib inline\n",
    "figsize(15, 10)"
   ]
  },
  {
   "cell_type": "code",
   "execution_count": 2,
   "metadata": {
    "collapsed": false
   },
   "outputs": [],
   "source": [
    "MONGODB_ADDRESS = 'localhost'\n",
    "MONGODB_PORT = 27017\n",
    "DB_NAME = 'mass-bank'\n",
    "COLLECTION_NAME = 'spectrums'\n",
    "\n",
    "client = MongoClient(host=MONGODB_ADDRESS, port=MONGODB_PORT)\n",
    "\n",
    "db = client[DB_NAME]\n",
    "collection = db[COLLECTION_NAME]"
   ]
  },
  {
   "cell_type": "markdown",
   "metadata": {},
   "source": [
    "# Load and adjust the data"
   ]
  },
  {
   "cell_type": "code",
   "execution_count": 3,
   "metadata": {
    "collapsed": false
   },
   "outputs": [],
   "source": [
    "df_train = pd.read_csv('../../data/TableS2_training_hmdb.csv', keep_default_na=False)\n",
    "\n",
    "df_train = df_train[df_train['Annotation'] == '']\n",
    "df_train['TYPE'] = 'TRAIN'\n",
    "df_train['RRF_Measured'] = df_train['RRF_Measured'] * 1e-2\n",
    "df_train['RRF_Predicted'] = df_train['RRF_Predicted'] * 1e-2\n",
    "\n",
    "df_test = pd.read_csv('../../data/TableS3_training_hmdb.csv', keep_default_na=False)\n",
    "\n",
    "df_test['TYPE'] = 'TEST'\n",
    "df_test['RRF_Measured'] = df_test['RRF_Measured'] * 1e-2\n",
    "df_test['RRF_Predicted'] = df_test['RRF_Predicted'] * 1e-2"
   ]
  },
  {
   "cell_type": "code",
   "execution_count": 4,
   "metadata": {
    "collapsed": false
   },
   "outputs": [],
   "source": [
    "# DataFrame(df_train.columns, columns=['Column'])"
   ]
  },
  {
   "cell_type": "markdown",
   "metadata": {},
   "source": [
    "## Merge Train and Test"
   ]
  },
  {
   "cell_type": "code",
   "execution_count": 5,
   "metadata": {
    "collapsed": false
   },
   "outputs": [
    {
     "name": "stdout",
     "output_type": "stream",
     "text": [
      "Train + Test Count 44\n"
     ]
    }
   ],
   "source": [
    "df = pd.concat([df_train, df_test])\n",
    "print(\"Train + Test Count\", len(df))"
   ]
  },
  {
   "cell_type": "markdown",
   "metadata": {},
   "source": [
    "# Find all spectrums for the compounds in merged dataset"
   ]
  },
  {
   "cell_type": "code",
   "execution_count": 6,
   "metadata": {
    "collapsed": false
   },
   "outputs": [
    {
     "data": {
      "text/html": [
       "<div>\n",
       "<table border=\"1\" class=\"dataframe\">\n",
       "  <thead>\n",
       "    <tr style=\"text-align: right;\">\n",
       "      <th></th>\n",
       "      <th>AC$INSTRUMENT</th>\n",
       "      <th>AC$INSTRUMENT_TYPE</th>\n",
       "      <th>AC$MASS_SPECTROMETRY_COLLISION_ENERGY</th>\n",
       "      <th>AC$MASS_SPECTROMETRY_ION_MODE</th>\n",
       "      <th>AC$MASS_SPECTROMETRY_MS_TYPE</th>\n",
       "      <th>ACCESSION</th>\n",
       "      <th>AUTHORS</th>\n",
       "      <th>CH$COMPOUND_CLASS</th>\n",
       "      <th>CH$EXACT_MASS</th>\n",
       "      <th>CH$FORMULA</th>\n",
       "      <th>CH$IUPAC</th>\n",
       "      <th>CH$LINK_INCHIKEY</th>\n",
       "      <th>CH$NAME</th>\n",
       "      <th>CH$SMILES</th>\n",
       "      <th>DATE</th>\n",
       "      <th>LICENSE</th>\n",
       "      <th>PK$NUM_PEAK</th>\n",
       "      <th>PK$PEAK</th>\n",
       "      <th>RECORD_TITLE</th>\n",
       "      <th>_id</th>\n",
       "    </tr>\n",
       "  </thead>\n",
       "  <tbody>\n",
       "    <tr>\n",
       "      <th>0</th>\n",
       "      <td>API3000, Applied Biosystems</td>\n",
       "      <td>LC-ESI-QQ</td>\n",
       "      <td>10 V</td>\n",
       "      <td>POSITIVE</td>\n",
       "      <td>MS2</td>\n",
       "      <td>KO003128</td>\n",
       "      <td>Kakazu Y, Horai H, Institute for Advanced Bios...</td>\n",
       "      <td>N/A</td>\n",
       "      <td>111.07965</td>\n",
       "      <td>C5H9N3</td>\n",
       "      <td>InChI=1S/C5H9N3/c6-2-1-5-3-7-4-8-5/h3-4H,1-2,6...</td>\n",
       "      <td>InChIKey=NTYJJOPFIAHURM-UHFFFAOYSA-N</td>\n",
       "      <td>[Histamine, 2-(4-Imidazolyl)ethylamine, 1H-Imi...</td>\n",
       "      <td>NCCc(c1)ncn1</td>\n",
       "      <td>2011.05.10 (Created 2007.07.07)</td>\n",
       "      <td>CC BY-NC-SA</td>\n",
       "      <td>8</td>\n",
       "      <td>m/z int. rel.int.\\r\\n40.200 34653.5 1\\r\\n76.00...</td>\n",
       "      <td>Histamine; LC-ESI-QQ; MS2; CE:10 V; [M+H]+</td>\n",
       "      <td>55c0ddfee990fb44f56d6f91</td>\n",
       "    </tr>\n",
       "    <tr>\n",
       "      <th>1</th>\n",
       "      <td>API3000, Applied Biosystems</td>\n",
       "      <td>LC-ESI-QQ</td>\n",
       "      <td>20 V</td>\n",
       "      <td>POSITIVE</td>\n",
       "      <td>MS2</td>\n",
       "      <td>KO003129</td>\n",
       "      <td>Kakazu Y, Horai H, Institute for Advanced Bios...</td>\n",
       "      <td>N/A</td>\n",
       "      <td>111.07965</td>\n",
       "      <td>C5H9N3</td>\n",
       "      <td>InChI=1S/C5H9N3/c6-2-1-5-3-7-4-8-5/h3-4H,1-2,6...</td>\n",
       "      <td>InChIKey=NTYJJOPFIAHURM-UHFFFAOYSA-N</td>\n",
       "      <td>[Histamine, 2-(4-Imidazolyl)ethylamine, 1H-Imi...</td>\n",
       "      <td>NCCc(c1)ncn1</td>\n",
       "      <td>2011.05.10 (Created 2007.07.07)</td>\n",
       "      <td>CC BY-NC-SA</td>\n",
       "      <td>11</td>\n",
       "      <td>m/z int. rel.int.\\r\\n41.300 19802.0 1\\r\\n67.20...</td>\n",
       "      <td>Histamine; LC-ESI-QQ; MS2; CE:20 V; [M+H]+</td>\n",
       "      <td>55c0ddfee990fb44f56d6f92</td>\n",
       "    </tr>\n",
       "  </tbody>\n",
       "</table>\n",
       "</div>"
      ],
      "text/plain": [
       "                 AC$INSTRUMENT AC$INSTRUMENT_TYPE  \\\n",
       "0  API3000, Applied Biosystems          LC-ESI-QQ   \n",
       "1  API3000, Applied Biosystems          LC-ESI-QQ   \n",
       "\n",
       "  AC$MASS_SPECTROMETRY_COLLISION_ENERGY AC$MASS_SPECTROMETRY_ION_MODE  \\\n",
       "0                                  10 V                      POSITIVE   \n",
       "1                                  20 V                      POSITIVE   \n",
       "\n",
       "  AC$MASS_SPECTROMETRY_MS_TYPE ACCESSION  \\\n",
       "0                          MS2  KO003128   \n",
       "1                          MS2  KO003129   \n",
       "\n",
       "                                             AUTHORS CH$COMPOUND_CLASS  \\\n",
       "0  Kakazu Y, Horai H, Institute for Advanced Bios...               N/A   \n",
       "1  Kakazu Y, Horai H, Institute for Advanced Bios...               N/A   \n",
       "\n",
       "  CH$EXACT_MASS CH$FORMULA                                           CH$IUPAC  \\\n",
       "0     111.07965     C5H9N3  InChI=1S/C5H9N3/c6-2-1-5-3-7-4-8-5/h3-4H,1-2,6...   \n",
       "1     111.07965     C5H9N3  InChI=1S/C5H9N3/c6-2-1-5-3-7-4-8-5/h3-4H,1-2,6...   \n",
       "\n",
       "                       CH$LINK_INCHIKEY  \\\n",
       "0  InChIKey=NTYJJOPFIAHURM-UHFFFAOYSA-N   \n",
       "1  InChIKey=NTYJJOPFIAHURM-UHFFFAOYSA-N   \n",
       "\n",
       "                                             CH$NAME     CH$SMILES  \\\n",
       "0  [Histamine, 2-(4-Imidazolyl)ethylamine, 1H-Imi...  NCCc(c1)ncn1   \n",
       "1  [Histamine, 2-(4-Imidazolyl)ethylamine, 1H-Imi...  NCCc(c1)ncn1   \n",
       "\n",
       "                              DATE      LICENSE PK$NUM_PEAK  \\\n",
       "0  2011.05.10 (Created 2007.07.07)  CC BY-NC-SA           8   \n",
       "1  2011.05.10 (Created 2007.07.07)  CC BY-NC-SA          11   \n",
       "\n",
       "                                             PK$PEAK  \\\n",
       "0  m/z int. rel.int.\\r\\n40.200 34653.5 1\\r\\n76.00...   \n",
       "1  m/z int. rel.int.\\r\\n41.300 19802.0 1\\r\\n67.20...   \n",
       "\n",
       "                                 RECORD_TITLE                       _id  \n",
       "0  Histamine; LC-ESI-QQ; MS2; CE:10 V; [M+H]+  55c0ddfee990fb44f56d6f91  \n",
       "1  Histamine; LC-ESI-QQ; MS2; CE:20 V; [M+H]+  55c0ddfee990fb44f56d6f92  "
      ]
     },
     "execution_count": 6,
     "metadata": {},
     "output_type": "execute_result"
    }
   ],
   "source": [
    "spectums = []\n",
    "\n",
    "for index, row_data in df.iterrows():\n",
    "    currsor = collection.find({'CH$LINK_INCHIKEY': row_data['InChI_Key']})\n",
    "    \n",
    "    for item in currsor:\n",
    "        spectums.append(item)\n",
    "        \n",
    "spectrums = DataFrame(spectums)\n",
    "\n",
    "# Preview\n",
    "spectrums.head(2)"
   ]
  },
  {
   "cell_type": "markdown",
   "metadata": {},
   "source": [
    "## Find suitable spectrum data"
   ]
  },
  {
   "cell_type": "code",
   "execution_count": 7,
   "metadata": {
    "collapsed": false
   },
   "outputs": [
    {
     "data": {
      "text/html": [
       "<div>\n",
       "<table border=\"1\" class=\"dataframe\">\n",
       "  <thead>\n",
       "    <tr style=\"text-align: right;\">\n",
       "      <th></th>\n",
       "      <th></th>\n",
       "      <th></th>\n",
       "      <th>CH$LINK_INCHIKEY</th>\n",
       "    </tr>\n",
       "    <tr>\n",
       "      <th>AC$INSTRUMENT</th>\n",
       "      <th>AC$MASS_SPECTROMETRY_COLLISION_ENERGY</th>\n",
       "      <th>AC$MASS_SPECTROMETRY_ION_MODE</th>\n",
       "      <th></th>\n",
       "    </tr>\n",
       "  </thead>\n",
       "  <tbody>\n",
       "    <tr>\n",
       "      <th rowspan=\"5\" valign=\"top\">API3000, Applied Biosystems</th>\n",
       "      <th>10 V</th>\n",
       "      <th>POSITIVE</th>\n",
       "      <td>28</td>\n",
       "    </tr>\n",
       "    <tr>\n",
       "      <th>20 V</th>\n",
       "      <th>POSITIVE</th>\n",
       "      <td>28</td>\n",
       "    </tr>\n",
       "    <tr>\n",
       "      <th>30 V</th>\n",
       "      <th>POSITIVE</th>\n",
       "      <td>28</td>\n",
       "    </tr>\n",
       "    <tr>\n",
       "      <th>40 V</th>\n",
       "      <th>POSITIVE</th>\n",
       "      <td>28</td>\n",
       "    </tr>\n",
       "    <tr>\n",
       "      <th>50 V</th>\n",
       "      <th>POSITIVE</th>\n",
       "      <td>28</td>\n",
       "    </tr>\n",
       "    <tr>\n",
       "      <th>UPLC Q-Tof Premier, Waters</th>\n",
       "      <th>Ramp 5-60 V</th>\n",
       "      <th>POSITIVE</th>\n",
       "      <td>26</td>\n",
       "    </tr>\n",
       "  </tbody>\n",
       "</table>\n",
       "</div>"
      ],
      "text/plain": [
       "                                                                                                 CH$LINK_INCHIKEY\n",
       "AC$INSTRUMENT               AC$MASS_SPECTROMETRY_COLLISION_ENERGY AC$MASS_SPECTROMETRY_ION_MODE                  \n",
       "API3000, Applied Biosystems 10 V                                  POSITIVE                                     28\n",
       "                            20 V                                  POSITIVE                                     28\n",
       "                            30 V                                  POSITIVE                                     28\n",
       "                            40 V                                  POSITIVE                                     28\n",
       "                            50 V                                  POSITIVE                                     28\n",
       "UPLC Q-Tof Premier, Waters  Ramp 5-60 V                           POSITIVE                                     26"
      ]
     },
     "execution_count": 7,
     "metadata": {},
     "output_type": "execute_result"
    }
   ],
   "source": [
    "group_by = spectrums[['AC$INSTRUMENT', 'AC$MASS_SPECTROMETRY_COLLISION_ENERGY', 'AC$MASS_SPECTROMETRY_ION_MODE', 'CH$LINK_INCHIKEY', '_id']].groupby(['AC$INSTRUMENT', 'AC$MASS_SPECTROMETRY_COLLISION_ENERGY', 'AC$MASS_SPECTROMETRY_ION_MODE'])\n",
    "unique_spec_count = group_by.agg({'CH$LINK_INCHIKEY': pd.Series.nunique})\n",
    "\n",
    "unique_spec_count[unique_spec_count['CH$LINK_INCHIKEY'] > 20]"
   ]
  },
  {
   "cell_type": "markdown",
   "metadata": {},
   "source": [
    "## Filter based on instrument, collision energy and ion mode"
   ]
  },
  {
   "cell_type": "code",
   "execution_count": 8,
   "metadata": {
    "collapsed": false,
    "scrolled": false
   },
   "outputs": [],
   "source": [
    "INSTRUMENT = 'API3000, Applied Biosystems'\n",
    "COLLISION_ENERGY = '40 V'\n",
    "ION_MODE = 'POSITIVE'\n",
    "\n",
    "condition = (\n",
    "    (spectrums['AC$INSTRUMENT'] == INSTRUMENT) &\n",
    "    (spectrums['AC$MASS_SPECTROMETRY_COLLISION_ENERGY'] == COLLISION_ENERGY) &\n",
    "    (spectrums['AC$MASS_SPECTROMETRY_ION_MODE'] == ION_MODE)\n",
    ")\n",
    "\n",
    "filtered = spectrums[condition].copy()\n",
    "# filtered[]\n",
    "duplicates = filtered[filtered.duplicated(subset=['CH$LINK_INCHIKEY'])]\n",
    "\n",
    "# Remove duplicates\n",
    "if len(duplicates) > 0:\n",
    "    filtered.drop(duplicates.index, inplace=True)\n",
    "\n",
    "# filtered[filtered['CH$LINK_INCHIKEY'] == 'InChIKey=VYFYYTLLBUKUHU-UHFFFAOYSA-N']\n",
    "# filtered.head(2)"
   ]
  },
  {
   "cell_type": "markdown",
   "metadata": {},
   "source": [
    "## Merge the two datasets (existing train+test and spectrums)"
   ]
  },
  {
   "cell_type": "code",
   "execution_count": 9,
   "metadata": {
    "collapsed": false,
    "scrolled": false
   },
   "outputs": [
    {
     "name": "stdout",
     "output_type": "stream",
     "text": [
      "Compounds Count 28\n",
      "Train 23\n",
      "Test 5\n"
     ]
    }
   ],
   "source": [
    "merged = df.merge(filtered, how='inner', left_on='InChI_Key', right_on='CH$LINK_INCHIKEY')\n",
    "\n",
    "print('Compounds Count', len(merged))\n",
    "print('Train', len(merged[merged['TYPE'] == 'TRAIN']))\n",
    "print('Test', len(merged[merged['TYPE'] == 'TEST']))"
   ]
  },
  {
   "cell_type": "markdown",
   "metadata": {},
   "source": [
    "### Preview (dataframe)"
   ]
  },
  {
   "cell_type": "code",
   "execution_count": 10,
   "metadata": {
    "collapsed": false,
    "scrolled": true
   },
   "outputs": [
    {
     "data": {
      "text/html": [
       "<div>\n",
       "<table border=\"1\" class=\"dataframe\">\n",
       "  <thead>\n",
       "    <tr style=\"text-align: right;\">\n",
       "      <th></th>\n",
       "      <th>Name</th>\n",
       "      <th>Short Name</th>\n",
       "      <th>TYPE</th>\n",
       "      <th>RRF_Measured</th>\n",
       "      <th>RRF_Predicted</th>\n",
       "      <th>PK$PEAK</th>\n",
       "    </tr>\n",
       "  </thead>\n",
       "  <tbody>\n",
       "    <tr>\n",
       "      <th>0</th>\n",
       "      <td>Histamine</td>\n",
       "      <td>HisN</td>\n",
       "      <td>TRAIN</td>\n",
       "      <td>0.00111</td>\n",
       "      <td>0.00615</td>\n",
       "      <td>m/z int. rel.int.\\r\\n11.100 24752.5 2\\r\\n39.10...</td>\n",
       "    </tr>\n",
       "    <tr>\n",
       "      <th>1</th>\n",
       "      <td>L-Valine</td>\n",
       "      <td>Val</td>\n",
       "      <td>TRAIN</td>\n",
       "      <td>0.00188</td>\n",
       "      <td>0.00263</td>\n",
       "      <td>m/z int. rel.int.\\r\\n15.500 29703.0 7\\r\\n39.20...</td>\n",
       "    </tr>\n",
       "    <tr>\n",
       "      <th>2</th>\n",
       "      <td>Nicotinamide</td>\n",
       "      <td>NAm</td>\n",
       "      <td>TRAIN</td>\n",
       "      <td>0.00322</td>\n",
       "      <td>0.00755</td>\n",
       "      <td>m/z int. rel.int.\\r\\n38.400 84158.5 3\\r\\n44.00...</td>\n",
       "    </tr>\n",
       "    <tr>\n",
       "      <th>3</th>\n",
       "      <td>Nicotinic acid</td>\n",
       "      <td>NA</td>\n",
       "      <td>TRAIN</td>\n",
       "      <td>0.00250</td>\n",
       "      <td>0.00543</td>\n",
       "      <td>m/z int. rel.int.\\r\\n45.100 193069.5 708\\r\\n78...</td>\n",
       "    </tr>\n",
       "    <tr>\n",
       "      <th>4</th>\n",
       "      <td>L-Leucine</td>\n",
       "      <td>Leu</td>\n",
       "      <td>TRAIN</td>\n",
       "      <td>0.01610</td>\n",
       "      <td>0.01250</td>\n",
       "      <td>m/z int. rel.int.\\r\\n39.100 49505.0 19\\r\\n41.2...</td>\n",
       "    </tr>\n",
       "  </tbody>\n",
       "</table>\n",
       "</div>"
      ],
      "text/plain": [
       "             Name Short Name   TYPE  RRF_Measured  RRF_Predicted  \\\n",
       "0       Histamine       HisN  TRAIN       0.00111        0.00615   \n",
       "1        L-Valine        Val  TRAIN       0.00188        0.00263   \n",
       "2    Nicotinamide        NAm  TRAIN       0.00322        0.00755   \n",
       "3  Nicotinic acid         NA  TRAIN       0.00250        0.00543   \n",
       "4       L-Leucine        Leu  TRAIN       0.01610        0.01250   \n",
       "\n",
       "                                             PK$PEAK  \n",
       "0  m/z int. rel.int.\\r\\n11.100 24752.5 2\\r\\n39.10...  \n",
       "1  m/z int. rel.int.\\r\\n15.500 29703.0 7\\r\\n39.20...  \n",
       "2  m/z int. rel.int.\\r\\n38.400 84158.5 3\\r\\n44.00...  \n",
       "3  m/z int. rel.int.\\r\\n45.100 193069.5 708\\r\\n78...  \n",
       "4  m/z int. rel.int.\\r\\n39.100 49505.0 19\\r\\n41.2...  "
      ]
     },
     "execution_count": 10,
     "metadata": {},
     "output_type": "execute_result"
    }
   ],
   "source": [
    "columns = ['Name', 'Short Name', 'TYPE', 'RRF_Measured', 'RRF_Predicted', 'PK$PEAK']\n",
    "merged[columns].head()"
   ]
  },
  {
   "cell_type": "markdown",
   "metadata": {},
   "source": [
    "### Create sparse vectors from the peak data"
   ]
  },
  {
   "cell_type": "code",
   "execution_count": 11,
   "metadata": {
    "collapsed": false
   },
   "outputs": [],
   "source": [
    "from scipy import sparse\n",
    "\n",
    "def peak_to_vec(peak_str):\n",
    "    df = pd.read_csv(StringIO(peak_str), sep=' ')\n",
    "    df['m/z'] = df['m/z'].apply(np.round)\n",
    "    df = df[['m/z', 'int.']].groupby(['m/z']).sum()\n",
    "    df['rel.int.'] = (df['int.'] / df['int.'].max())\n",
    "    # df['rel.int.'] = 999.0 * (df['int.'] / df['int.'].max())\n",
    "    # df['rel.int.'] = df['rel.int.'].apply(round)\n",
    "    \n",
    "    vec = {int(k):v['rel.int.'] for (k,v) in df.iterrows()}\n",
    "    \n",
    "    return vec\n",
    "\n",
    "def vec_to_sparse(vec, max_):   \n",
    "    data = np.array(vec.values())\n",
    "    indices = np.array(vec.keys())\n",
    "    indptr = np.array([0] + [len(vec)])\n",
    "    mtx = sparse.csr_matrix((data, indices, indptr), shape=(1, max_ + 1))\n",
    "    \n",
    "    return np.ravel(mtx.todense())\n",
    "\n",
    "merged['PEAK_VEC'] = merged['PK$PEAK'].apply(peak_to_vec)\n",
    "\n",
    "max_mz = 0\n",
    "\n",
    "for i, row in merged.iterrows():\n",
    "    vec = row['PEAK_VEC']\n",
    "    max_in = max(vec.iteritems(), key=lambda x: x[0])\n",
    "    max_mz = max(max_mz, max_in[0])\n",
    "\n",
    "merged['PEAK_VEC_SPARSE'] = merged['PEAK_VEC'].apply(lambda v: vec_to_sparse(v, max_mz))"
   ]
  },
  {
   "cell_type": "markdown",
   "metadata": {},
   "source": [
    "### Preview (sparse vector)"
   ]
  },
  {
   "cell_type": "code",
   "execution_count": 12,
   "metadata": {
    "collapsed": false
   },
   "outputs": [
    {
     "data": {
      "text/plain": [
       "array([ 0.        ,  0.        ,  0.        ,  0.        ,  0.        ,\n",
       "        0.        ,  0.        ,  0.        ,  0.        ,  0.        ,\n",
       "        0.        ,  0.00221729,  0.        ,  0.        ,  0.        ,\n",
       "        0.        ,  0.        ,  0.        ,  0.        ,  0.        ,\n",
       "        0.        ,  0.        ,  0.        ,  0.        ,  0.        ,\n",
       "        0.        ,  0.        ,  0.        ,  0.        ,  0.        ,\n",
       "        0.        ,  0.        ,  0.        ,  0.        ,  0.        ,\n",
       "        0.        ,  0.        ,  0.        ,  0.        ,  0.01552106,\n",
       "        0.        ,  0.26740576,  0.03325942,  0.        ,  0.        ,\n",
       "        0.        ,  0.        ,  0.        ,  0.        ,  0.        ,\n",
       "        0.        ,  0.        ,  0.        ,  0.        ,  0.09844789,\n",
       "        0.03636364,  0.05809313,  0.        ,  0.        ,  0.        ,\n",
       "        0.        ,  0.        ,  0.00221729,  0.        ,  0.        ,\n",
       "        0.        ,  0.        ,  0.17028825,  1.        ,  0.01197339,\n",
       "        0.        ,  0.        ,  0.        ,  0.        ,  0.        ,\n",
       "        0.        ,  0.        ,  0.        ,  0.02305987,  0.        ,\n",
       "        0.01019956,  0.29844789,  0.2172949 ,  0.17073171,  0.        ,\n",
       "        0.        ,  0.00221729,  0.        ,  0.        ,  0.        ,\n",
       "        0.        ,  0.        ,  0.        ,  0.00266075,  0.        ,\n",
       "        0.61374723,  0.        ,  0.        ,  0.        ,  0.        ,\n",
       "        0.        ,  0.        ,  0.        ,  0.        ,  0.        ,\n",
       "        0.        ,  0.        ,  0.        ,  0.        ,  0.        ,\n",
       "        0.        ,  0.        ,  0.        ,  0.        ,  0.        ,\n",
       "        0.        ,  0.        ,  0.        ,  0.        ,  0.        ,\n",
       "        0.        ,  0.        ,  0.        ,  0.        ,  0.        ,\n",
       "        0.        ,  0.        ,  0.        ,  0.        ,  0.        ,\n",
       "        0.        ,  0.        ,  0.        ,  0.        ,  0.        ,\n",
       "        0.        ,  0.        ,  0.        ,  0.        ,  0.        ,\n",
       "        0.        ,  0.        ,  0.        ,  0.        ,  0.        ,\n",
       "        0.        ,  0.        ,  0.        ,  0.        ,  0.        ,\n",
       "        0.        ,  0.        ,  0.        ,  0.        ,  0.        ,\n",
       "        0.        ,  0.        ,  0.        ,  0.        ,  0.        ,\n",
       "        0.        ,  0.        ,  0.        ,  0.        ,  0.        ,\n",
       "        0.        ,  0.        ,  0.        ,  0.        ,  0.        ,\n",
       "        0.        ,  0.        ,  0.        ,  0.        ,  0.        ,\n",
       "        0.        ,  0.        ,  0.        ,  0.        ,  0.        ,\n",
       "        0.        ,  0.        ,  0.        ,  0.        ,  0.        ,\n",
       "        0.        ,  0.        ,  0.        ,  0.        ,  0.        ,\n",
       "        0.        ,  0.        ,  0.        ,  0.        ,  0.        ,\n",
       "        0.        ,  0.        ,  0.        ,  0.        ,  0.        ,\n",
       "        0.        ,  0.        ,  0.        ,  0.        ,  0.        ,\n",
       "        0.        ,  0.        ,  0.        ,  0.        ,  0.        ,\n",
       "        0.        ,  0.        ,  0.        ,  0.        ,  0.        ,\n",
       "        0.        ,  0.        ,  0.        ,  0.        ,  0.        ,\n",
       "        0.        ,  0.        ,  0.        ,  0.        ,  0.        ,\n",
       "        0.        ,  0.        ,  0.        ,  0.        ,  0.        ,\n",
       "        0.        ,  0.        ,  0.        ,  0.        ,  0.        ,\n",
       "        0.        ,  0.        ,  0.        ,  0.        ,  0.        ,\n",
       "        0.        ,  0.        ,  0.        ,  0.        ,  0.        ,\n",
       "        0.        ,  0.        ,  0.        ,  0.        ,  0.        ,\n",
       "        0.        ,  0.        ,  0.        ,  0.        ,  0.        ,\n",
       "        0.        ,  0.        ,  0.        ,  0.        ,  0.        ,\n",
       "        0.        ,  0.        ,  0.        ,  0.        ,  0.        ,\n",
       "        0.        ,  0.        ,  0.        ,  0.        ,  0.        ,\n",
       "        0.        ,  0.        ,  0.        ,  0.        ,  0.        ,\n",
       "        0.        ,  0.        ,  0.        ,  0.        ,  0.        ,\n",
       "        0.        ,  0.        ,  0.        ,  0.        ,  0.        ,\n",
       "        0.        ,  0.        ,  0.        ,  0.        ,  0.        ,\n",
       "        0.        ,  0.        ,  0.        ,  0.        ,  0.        ,\n",
       "        0.        ,  0.        ,  0.        ,  0.        ,  0.        ,\n",
       "        0.        ,  0.        ,  0.        ,  0.        ,  0.        ,\n",
       "        0.        ,  0.        ,  0.        ,  0.        ,  0.        ,\n",
       "        0.        ,  0.        ,  0.        ,  0.        ,  0.        ,\n",
       "        0.        ,  0.        ,  0.        ,  0.        ,  0.        ,\n",
       "        0.        ,  0.        ,  0.        ,  0.        ,  0.        ,\n",
       "        0.        ,  0.        ,  0.        ,  0.        ,  0.        ,\n",
       "        0.        ,  0.        ,  0.        ,  0.        ,  0.        ,\n",
       "        0.        ,  0.        ,  0.        ,  0.        ,  0.        ,\n",
       "        0.        ,  0.        ,  0.        ,  0.        ,  0.        ,\n",
       "        0.        ,  0.        ,  0.        ,  0.        ,  0.        ,\n",
       "        0.        ,  0.        ,  0.        ,  0.        ,  0.        ,\n",
       "        0.        ,  0.        ,  0.        ,  0.        ,  0.        ,\n",
       "        0.        ,  0.        ,  0.        ,  0.        ,  0.        ,\n",
       "        0.        ,  0.        ,  0.        ,  0.        ,  0.        ,\n",
       "        0.        ,  0.        ,  0.        ,  0.        ,  0.        ,\n",
       "        0.        ,  0.        ,  0.        ,  0.        ,  0.        ,\n",
       "        0.        ,  0.        ,  0.        ,  0.        ,  0.        ,\n",
       "        0.        ,  0.        ,  0.        ,  0.        ,  0.        ,\n",
       "        0.        ,  0.        ,  0.        ,  0.        ,  0.        ,\n",
       "        0.        ,  0.        ,  0.        ,  0.        ,  0.        ,\n",
       "        0.        ,  0.        ,  0.        ,  0.        ,  0.        ,\n",
       "        0.        ,  0.        ,  0.        ,  0.        ,  0.        ,\n",
       "        0.        ,  0.        ,  0.        ,  0.        ,  0.        ,\n",
       "        0.        ,  0.        ,  0.        ,  0.        ,  0.        ,\n",
       "        0.        ,  0.        ,  0.        ,  0.        ,  0.        ,\n",
       "        0.        ,  0.        ,  0.        ,  0.        ,  0.        ,\n",
       "        0.        ,  0.        ,  0.        ,  0.        ,  0.        ,\n",
       "        0.        ,  0.        ,  0.        ,  0.        ,  0.        ,\n",
       "        0.        ,  0.        ,  0.        ,  0.        ,  0.        ,\n",
       "        0.        ,  0.        ,  0.        ,  0.        ,  0.        ,\n",
       "        0.        ,  0.        ,  0.        ,  0.        ,  0.        ,\n",
       "        0.        ,  0.        ,  0.        ,  0.        ,  0.        ,\n",
       "        0.        ,  0.        ,  0.        ,  0.        ,  0.        ,\n",
       "        0.        ,  0.        ,  0.        ,  0.        ,  0.        ,\n",
       "        0.        ,  0.        ,  0.        ,  0.        ,  0.        ,\n",
       "        0.        ,  0.        ,  0.        ,  0.        ,  0.        ,\n",
       "        0.        ,  0.        ,  0.        ,  0.        ,  0.        ,\n",
       "        0.        ,  0.        ,  0.        ,  0.        ,  0.        ,\n",
       "        0.        ,  0.        ,  0.        ,  0.        ,  0.        ,\n",
       "        0.        ,  0.        ,  0.        ,  0.        ,  0.        ,\n",
       "        0.        ,  0.        ,  0.        ,  0.        ,  0.        ,\n",
       "        0.        ,  0.        ,  0.        ,  0.        ,  0.        ,\n",
       "        0.        ,  0.        ,  0.        ,  0.        ,  0.        ,\n",
       "        0.        ,  0.        ,  0.        ,  0.        ,  0.        ,\n",
       "        0.        ,  0.        ,  0.        ,  0.        ,  0.        ,\n",
       "        0.        ,  0.        ,  0.        ,  0.        ,  0.        ,\n",
       "        0.        ,  0.        ,  0.        ,  0.        ,  0.        ,\n",
       "        0.        ,  0.        ,  0.        ,  0.        ,  0.        ,\n",
       "        0.        ,  0.        ,  0.        ,  0.        ,  0.        ,\n",
       "        0.        ,  0.        ,  0.        ,  0.        ,  0.        ,\n",
       "        0.        ,  0.        ,  0.        ,  0.        ,  0.        ,\n",
       "        0.        ,  0.        ,  0.        ,  0.        ,  0.        ,\n",
       "        0.        ,  0.        ,  0.        ,  0.        ,  0.        ,\n",
       "        0.        ,  0.        ,  0.        ,  0.        ,  0.        ,\n",
       "        0.        ,  0.        ,  0.        ,  0.        ,  0.        ,\n",
       "        0.        ,  0.        ,  0.        ,  0.        ,  0.        ,\n",
       "        0.        ,  0.        ,  0.        ,  0.        ,  0.        ,\n",
       "        0.        ,  0.        ,  0.        ,  0.        ,  0.        ,\n",
       "        0.        ,  0.        ,  0.        ,  0.        ,  0.        ,\n",
       "        0.        ,  0.        ,  0.        ,  0.        ,  0.        ,\n",
       "        0.        ,  0.        ,  0.        ,  0.        ,  0.        ,\n",
       "        0.        ,  0.        ,  0.        ,  0.        ,  0.        ,\n",
       "        0.        ,  0.        ,  0.        ,  0.        ,  0.        ,\n",
       "        0.        ,  0.        ,  0.        ,  0.        ,  0.        ,\n",
       "        0.        ,  0.        ,  0.        ,  0.        ,  0.        ,\n",
       "        0.        ,  0.        ,  0.        ,  0.        ,  0.        ,\n",
       "        0.        ,  0.        ,  0.        ,  0.        ,  0.        ,\n",
       "        0.        ,  0.        ,  0.        ,  0.        ,  0.        ,\n",
       "        0.        ,  0.        ,  0.        ,  0.        ,  0.        ,\n",
       "        0.        ,  0.        ,  0.        ,  0.        ,  0.        ,\n",
       "        0.        ,  0.        ,  0.        ,  0.        ,  0.        ,\n",
       "        0.        ,  0.        ,  0.        ,  0.        ,  0.        ,\n",
       "        0.        ,  0.        ,  0.        ,  0.        ,  0.        ,\n",
       "        0.        ,  0.        ,  0.        ,  0.        ,  0.        ,\n",
       "        0.        ,  0.        ,  0.        ,  0.        ,  0.        ,\n",
       "        0.        ,  0.        ,  0.        ,  0.        ,  0.        ,\n",
       "        0.        ,  0.        ,  0.        ,  0.        ,  0.        ,\n",
       "        0.        ,  0.        ,  0.        ,  0.        ,  0.        ,\n",
       "        0.        ,  0.        ,  0.        ,  0.        ,  0.        ,\n",
       "        0.        ,  0.        ,  0.        ,  0.        ,  0.        ,\n",
       "        0.        ,  0.        ,  0.        ,  0.        ,  0.        ,\n",
       "        0.        ,  0.        ,  0.        ,  0.        ,  0.        ,\n",
       "        0.        ,  0.        ,  0.        ,  0.        ,  0.        ,\n",
       "        0.        ,  0.        ,  0.        ,  0.        ,  0.        ,\n",
       "        0.        ,  0.        ,  0.        ,  0.        ,  0.        ,\n",
       "        0.        ,  0.        ,  0.        ,  0.        ,  0.        ,\n",
       "        0.        ,  0.        ,  0.        ,  0.        ,  0.        ,\n",
       "        0.        ,  0.        ,  0.        ,  0.        ,  0.        ,\n",
       "        0.        ,  0.        ,  0.        ,  0.        ,  0.        ,\n",
       "        0.        ,  0.        ,  0.        ,  0.        ,  0.        ,\n",
       "        0.        ,  0.        ,  0.        ,  0.        ,  0.        ,\n",
       "        0.        ,  0.        ,  0.        ,  0.        ,  0.        ,\n",
       "        0.        ,  0.        ,  0.        ,  0.        ,  0.        ,\n",
       "        0.        ,  0.        ,  0.        ,  0.        ,  0.        ,\n",
       "        0.        ,  0.        ,  0.        ,  0.        ,  0.        ,\n",
       "        0.        ,  0.        ,  0.        ,  0.        ,  0.        ,\n",
       "        0.        ,  0.        ,  0.        ,  0.        ,  0.        ,\n",
       "        0.        ,  0.        ,  0.        ,  0.        ,  0.        ,\n",
       "        0.        ,  0.        ,  0.        ,  0.        ,  0.        ,\n",
       "        0.        ,  0.        ,  0.        ,  0.        ,  0.        ,\n",
       "        0.        ,  0.        ,  0.        ,  0.        ,  0.        ,\n",
       "        0.        ,  0.        ,  0.        ,  0.        ])"
      ]
     },
     "execution_count": 12,
     "metadata": {},
     "output_type": "execute_result"
    }
   ],
   "source": [
    "merged.iloc[0]['PEAK_VEC_SPARSE']"
   ]
  },
  {
   "cell_type": "markdown",
   "metadata": {},
   "source": [
    "# Data preparation"
   ]
  },
  {
   "cell_type": "code",
   "execution_count": 13,
   "metadata": {
    "collapsed": false,
    "scrolled": true
   },
   "outputs": [
    {
     "name": "stdout",
     "output_type": "stream",
     "text": [
      "Number of metabolites (training): 23\n",
      "Number of metabolites (testing): 5\n"
     ]
    }
   ],
   "source": [
    "# Training Data\n",
    "X_train = merged['PEAK_VEC_SPARSE']\n",
    "X_train = X_train[merged['TYPE'] == 'TRAIN']\n",
    "\n",
    "y_train = merged[['RRF_Measured']]\n",
    "y_train = y_train[merged['TYPE'] == 'TRAIN']\n",
    "\n",
    "# Testing Data\n",
    "X_test = merged['PEAK_VEC_SPARSE']\n",
    "X_test = X_test[merged['TYPE'] == 'TEST']\n",
    "\n",
    "y_test = merged[['RRF_Measured']]\n",
    "y_test = y_test[merged['TYPE'] == 'TEST']\n",
    "\n",
    "print(\"Number of metabolites (training):\", len(X_train))\n",
    "print(\"Number of metabolites (testing):\", len(X_test))"
   ]
  },
  {
   "cell_type": "code",
   "execution_count": 14,
   "metadata": {
    "collapsed": false
   },
   "outputs": [
    {
     "name": "stdout",
     "output_type": "stream",
     "text": [
      "Training - shape (23, 809)\n",
      "Test - shape (5, 809)\n"
     ]
    }
   ],
   "source": [
    "stacked_training = np.vstack((X_train.loc[:]))\n",
    "stacked_test = np.vstack((X_test.loc[:]))\n",
    "\n",
    "X_range = np.arange(max_mz + 1)\n",
    "print(\"Training - shape\", stacked_training.shape)\n",
    "print(\"Test - shape\", stacked_test.shape)"
   ]
  },
  {
   "cell_type": "markdown",
   "metadata": {},
   "source": [
    "# Fit Gaussian Process"
   ]
  },
  {
   "cell_type": "code",
   "execution_count": 15,
   "metadata": {
    "collapsed": false
   },
   "outputs": [],
   "source": [
    "model = GPy.models.GPRegression(stacked_training, y_train)\n",
    "model.optimize()"
   ]
  },
  {
   "cell_type": "markdown",
   "metadata": {},
   "source": [
    "###  What the kernel looks like ???"
   ]
  },
  {
   "cell_type": "code",
   "execution_count": 16,
   "metadata": {
    "collapsed": false
   },
   "outputs": [
    {
     "data": {
      "image/png": "[encoded data removed]",
      "text/plain": [
       "<matplotlib.figure.Figure at 0x111f7c350>"
      ]
     },
     "metadata": {},
     "output_type": "display_data"
    }
   ],
   "source": [
    "sns.heatmap(model.kern.K(stacked_training), square=True)\n",
    "plt.show()"
   ]
  },
  {
   "cell_type": "markdown",
   "metadata": {},
   "source": [
    "### Model stats"
   ]
  },
  {
   "cell_type": "code",
   "execution_count": 17,
   "metadata": {
    "collapsed": false,
    "scrolled": true
   },
   "outputs": [
    {
     "data": {
      "text/html": [
       "\n",
       "<b>Model</b>: GP regression<br>\n",
       "<b>Log-likelihood</b>: 71.526828644<br>\n",
       "<b>Number of Parameters</b>: 3<br>\n",
       "<br><b>Parameters</b>:\n",
       "<table>\n",
       "<tr>\n",
       "  <td><b>GP_regression.</b>\n",
       "  <td><b>Value</b></td>\n",
       "  <td><b>Constraint</b></td>\n",
       "  <td><b>Prior</b></td>\n",
       "  <td><b>Tied to</b></td>\n",
       "<tr><td>rbf.variance           </td><td align=\"right\">0.000379841013409</td><td>   +ve    </td><td>     </td><td>       </td></tr>\n",
       "<tr><td>rbf.lengthscale        </td><td align=\"right\">    2.07959468623</td><td>   +ve    </td><td>     </td><td>       </td></tr>\n",
       "<tr><td>Gaussian_noise.variance</td><td align=\"right\"> 1.5373747851e-05</td><td>   +ve    </td><td>     </td><td>       </td></tr>\n",
       "</table>"
      ],
      "text/plain": [
       "<GPy.models.gp_regression.GPRegression at 0x111f56690>"
      ]
     },
     "metadata": {},
     "output_type": "display_data"
    }
   ],
   "source": [
    "from IPython.display import display\n",
    "display(model)"
   ]
  },
  {
   "cell_type": "markdown",
   "metadata": {},
   "source": [
    "# Predictions"
   ]
  },
  {
   "cell_type": "code",
   "execution_count": 18,
   "metadata": {
    "collapsed": false
   },
   "outputs": [],
   "source": [
    "mu, var = model.predict(stacked_test)"
   ]
  },
  {
   "cell_type": "code",
   "execution_count": 19,
   "metadata": {
    "collapsed": false,
    "scrolled": true
   },
   "outputs": [
    {
     "data": {
      "text/html": [
       "<div>\n",
       "<table border=\"1\" class=\"dataframe\">\n",
       "  <thead>\n",
       "    <tr style=\"text-align: right;\">\n",
       "      <th></th>\n",
       "      <th>Name</th>\n",
       "      <th>RRF_Measured</th>\n",
       "      <th>Prediction</th>\n",
       "      <th>RRF_Predicted</th>\n",
       "    </tr>\n",
       "  </thead>\n",
       "  <tbody>\n",
       "    <tr>\n",
       "      <th>23</th>\n",
       "      <td>L-Ornithine</td>\n",
       "      <td>0.00281</td>\n",
       "      <td>0.015558</td>\n",
       "      <td>0.00631</td>\n",
       "    </tr>\n",
       "    <tr>\n",
       "      <th>24</th>\n",
       "      <td>3-Methyl-L-Histidine</td>\n",
       "      <td>0.01400</td>\n",
       "      <td>0.009922</td>\n",
       "      <td>0.02280</td>\n",
       "    </tr>\n",
       "    <tr>\n",
       "      <th>25</th>\n",
       "      <td>L-Citrulline</td>\n",
       "      <td>0.01160</td>\n",
       "      <td>0.015541</td>\n",
       "      <td>0.01600</td>\n",
       "    </tr>\n",
       "    <tr>\n",
       "      <th>26</th>\n",
       "      <td>L-Carnosine</td>\n",
       "      <td>0.01910</td>\n",
       "      <td>0.016917</td>\n",
       "      <td>0.03030</td>\n",
       "    </tr>\n",
       "    <tr>\n",
       "      <th>27</th>\n",
       "      <td>1-Methyl-Adenosine</td>\n",
       "      <td>0.05240</td>\n",
       "      <td>0.015544</td>\n",
       "      <td>0.05110</td>\n",
       "    </tr>\n",
       "  </tbody>\n",
       "</table>\n",
       "</div>"
      ],
      "text/plain": [
       "                     Name  RRF_Measured  Prediction  RRF_Predicted\n",
       "23            L-Ornithine       0.00281    0.015558        0.00631\n",
       "24  3-Methyl-L-Histidine        0.01400    0.009922        0.02280\n",
       "25           L-Citrulline       0.01160    0.015541        0.01600\n",
       "26           L-Carnosine        0.01910    0.016917        0.03030\n",
       "27     1-Methyl-Adenosine       0.05240    0.015544        0.05110"
      ]
     },
     "execution_count": 19,
     "metadata": {},
     "output_type": "execute_result"
    }
   ],
   "source": [
    "data = pd.concat([merged[merged['TYPE'] == 'TEST'], DataFrame(mu, columns=['Prediction'], index=X_test.index)], axis=1)\n",
    "\n",
    "data[['Name', 'RRF_Measured', 'Prediction', 'RRF_Predicted']]"
   ]
  },
  {
   "cell_type": "markdown",
   "metadata": {},
   "source": [
    "# Comparison of model metrics"
   ]
  },
  {
   "cell_type": "code",
   "execution_count": 20,
   "metadata": {
    "collapsed": false
   },
   "outputs": [],
   "source": [
    "y_true = data['RRF_Measured']\n",
    "y_pred = data['RRF_Predicted']\n",
    "y_pred_new = data['Prediction']"
   ]
  },
  {
   "cell_type": "code",
   "execution_count": 21,
   "metadata": {
    "collapsed": false
   },
   "outputs": [
    {
     "data": {
      "image/png": "[encoded data removed]",
      "text/plain": [
       "<matplotlib.figure.Figure at 0x1129adcd0>"
      ]
     },
     "metadata": {},
     "output_type": "display_data"
    }
   ],
   "source": [
    "figsize(15, 7)\n",
    "plt.subplot(1, 2, 1)\n",
    "plt.xlabel('Measured')\n",
    "plt.ylabel('RRF_Predicted')\n",
    "plt.scatter(y_true, y_pred)\n",
    "\n",
    "xlim = plt.xlim()\n",
    "plt.plot([xlim[0], xlim[1]], [xlim[0], xlim[1]], 'r--', linewidth=.3)\n",
    "plt.xlim(*xlim)\n",
    "\n",
    "plt.grid(True)\n",
    "plt.title('Paper Model $R^2$={:.4f}'.format(r2_score(y_true, y_pred)))\n",
    "\n",
    "# ===\n",
    "\n",
    "plt.subplot(1, 2, 2)\n",
    "plt.xlabel('Measured')\n",
    "plt.ylabel('New Predicted')\n",
    "plt.scatter(y_true, y_pred_new)\n",
    "\n",
    "# ylim = plt.ylim()\n",
    "plt.errorbar(y_true, y_pred_new, yerr=np.sqrt(var), fmt='o')\n",
    "# plt.ylim(*ylim)\n",
    "\n",
    "xlim = plt.xlim()\n",
    "plt.plot([xlim[0], xlim[1]], [xlim[0], xlim[1]], 'r--', linewidth=.3)\n",
    "plt.xlim(*xlim)\n",
    "\n",
    "plt.grid(True)\n",
    "plt.title('New Model $R^2$={:.4f}'.format(r2_score(y_true, y_pred_new)))\n",
    "\n",
    "plt.show()"
   ]
  },
  {
   "cell_type": "markdown",
   "metadata": {},
   "source": [
    "## Metrics of the model reported in the paper"
   ]
  },
  {
   "cell_type": "code",
   "execution_count": 22,
   "metadata": {
    "collapsed": false
   },
   "outputs": [
    {
     "name": "stdout",
     "output_type": "stream",
     "text": [
      "explained_variance 0.934829681515\n",
      "mean_absolute_error 0.00584\n",
      "mean_squared_error 4.7236e-05\n",
      "r2_score 0.837411524278\n"
     ]
    }
   ],
   "source": [
    "print(\"explained_variance\", explained_variance_score(y_true, y_pred))\n",
    "print(\"mean_absolute_error\", mean_absolute_error(y_true, y_pred))\n",
    "print(\"mean_squared_error\", mean_squared_error(y_true, y_pred))\n",
    "print(\"r2_score\", r2_score(y_true, y_pred))"
   ]
  },
  {
   "cell_type": "markdown",
   "metadata": {},
   "source": [
    "## Metrics of our model"
   ]
  },
  {
   "cell_type": "code",
   "execution_count": 23,
   "metadata": {
    "collapsed": false
   },
   "outputs": [
    {
     "name": "stdout",
     "output_type": "stream",
     "text": [
      "explained_variance 0.0237679405936\n",
      "mean_absolute_error 0.0119610556263\n",
      "mean_squared_error 0.00031155518338\n",
      "r2_score -0.072387212489\n"
     ]
    }
   ],
   "source": [
    "print(\"explained_variance\", explained_variance_score(y_true, y_pred_new))\n",
    "print(\"mean_absolute_error\", mean_absolute_error(y_true, y_pred_new))\n",
    "print(\"mean_squared_error\", mean_squared_error(y_true, y_pred_new))\n",
    "print(\"r2_score\", r2_score(y_true, y_pred_new))"
   ]
  }
 ],
 "metadata": {
  "kernelspec": {
   "display_name": "Python 2",
   "language": "python",
   "name": "python2"
  },
  "language_info": {
   "codemirror_mode": {
    "name": "ipython",
    "version": 2
   },
   "file_extension": ".py",
   "mimetype": "text/x-python",
   "name": "python",
   "nbconvert_exporter": "python",
   "pygments_lexer": "ipython2",
   "version": "2.7.10"
  }
 },
 "nbformat": 4,
 "nbformat_minor": 0
}
