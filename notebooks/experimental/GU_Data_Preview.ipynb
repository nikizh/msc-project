{
 "cells": [
  {
   "cell_type": "code",
   "execution_count": 10,
   "metadata": {
    "collapsed": true
   },
   "outputs": [],
   "source": [
    "from __future__ import print_function\n",
    "import numpy as np\n",
    "import pandas as pd\n",
    "import seaborn as sns\n",
    "import matplotlib.pyplot as plt\n",
    "from pandas import Series, DataFrame\n",
    "from sklearn.decomposition import PCA\n",
    "from sklearn.metrics import explained_variance_score\n",
    "from sklearn.metrics import mean_absolute_error\n",
    "from sklearn.metrics import r2_score\n",
    "from IPython.core.pylabtools import figsize\n",
    "\n",
    "%matplotlib inline\n",
    "figsize(15, 10)"
   ]
  },
  {
   "cell_type": "code",
   "execution_count": 11,
   "metadata": {
    "collapsed": false
   },
   "outputs": [],
   "source": [
    "# Load the data\n",
    "df_std1 = pd.read_csv('../data/std1_dilutions.csv', keep_default_na=False)\n",
    "df_std2 = pd.read_csv('../data/std2_dilutions.csv', keep_default_na=False)\n",
    "\n",
    "# Fix str column paddings\n",
    "str_columns = ['Name', 'Formula']\n",
    "\n",
    "for df in [df_std1, df_std2]:\n",
    "    for c in str_columns:\n",
    "        df[c] = df[c].apply(str.strip)\n",
    "\n",
    "# Drop redundant (for now...) information\n",
    "df_std1 = df_std1.drop(['Unnamed: 0', 'Dil_1_5', 'Dil_1_10', 'Dil_1_50', 'Dil_1_100', 'Dil_1_1000'], axis=1)\n",
    "df_std2 = df_std2.drop(['Unnamed: 0', 'Dil_1_5', 'Dil_1_10', 'Dil_1_50', 'Dil_1_100', 'Dil_1_1000'], axis=1)\n",
    "\n",
    "# Pick metabolites that have useful information\n",
    "df_std1_mh = df_std1[(df_std1['Dil_1_1'] > 0) & (df_std1['Adduct'] == 'M+H')]\n",
    "df_std2_mh = df_std2[(df_std2['Dil_1_1'] > 0) & (df_std2['Adduct'] == 'M+H')]"
   ]
  },
  {
   "cell_type": "code",
   "execution_count": 12,
   "metadata": {
    "collapsed": false
   },
   "outputs": [
    {
     "data": {
      "text/html": [
       "<div>\n",
       "<table border=\"1\" class=\"dataframe\">\n",
       "  <thead>\n",
       "    <tr style=\"text-align: right;\">\n",
       "      <th></th>\n",
       "      <th>Name</th>\n",
       "      <th>Formula</th>\n",
       "      <th>Adduct</th>\n",
       "      <th>Dil_1_1</th>\n",
       "    </tr>\n",
       "  </thead>\n",
       "  <tbody>\n",
       "    <tr>\n",
       "      <th>6</th>\n",
       "      <td>Spermidine</td>\n",
       "      <td>C7H19N3</td>\n",
       "      <td>M+H</td>\n",
       "      <td>24278942</td>\n",
       "    </tr>\n",
       "    <tr>\n",
       "      <th>28</th>\n",
       "      <td>Glycerol</td>\n",
       "      <td>C3H8O3</td>\n",
       "      <td>M+H</td>\n",
       "      <td>2168900</td>\n",
       "    </tr>\n",
       "    <tr>\n",
       "      <th>160</th>\n",
       "      <td>Inosine</td>\n",
       "      <td>C10H12N4O5</td>\n",
       "      <td>M+H</td>\n",
       "      <td>70263872</td>\n",
       "    </tr>\n",
       "    <tr>\n",
       "      <th>182</th>\n",
       "      <td>L-Phenylalanine</td>\n",
       "      <td>C9H11NO2</td>\n",
       "      <td>M+H</td>\n",
       "      <td>158189072</td>\n",
       "    </tr>\n",
       "    <tr>\n",
       "      <th>204</th>\n",
       "      <td>L-Leucine</td>\n",
       "      <td>C6H13NO2</td>\n",
       "      <td>M+H</td>\n",
       "      <td>197374192</td>\n",
       "    </tr>\n",
       "    <tr>\n",
       "      <th>226</th>\n",
       "      <td>L-Tryptophan</td>\n",
       "      <td>C11H12N2O2</td>\n",
       "      <td>M+H</td>\n",
       "      <td>104721704</td>\n",
       "    </tr>\n",
       "    <tr>\n",
       "      <th>248</th>\n",
       "      <td>2-Phenylglycine</td>\n",
       "      <td>C8H9NO2</td>\n",
       "      <td>M+H</td>\n",
       "      <td>108349488</td>\n",
       "    </tr>\n",
       "    <tr>\n",
       "      <th>270</th>\n",
       "      <td>Selenomethionine</td>\n",
       "      <td>C5H11NO2Se</td>\n",
       "      <td>M+H</td>\n",
       "      <td>118776672</td>\n",
       "    </tr>\n",
       "    <tr>\n",
       "      <th>292</th>\n",
       "      <td>L-Methionine</td>\n",
       "      <td>C5H11NO2S</td>\n",
       "      <td>M+H</td>\n",
       "      <td>287293056</td>\n",
       "    </tr>\n",
       "    <tr>\n",
       "      <th>314</th>\n",
       "      <td>Guanine</td>\n",
       "      <td>C5H5N5O</td>\n",
       "      <td>M+H</td>\n",
       "      <td>61243880</td>\n",
       "    </tr>\n",
       "  </tbody>\n",
       "</table>\n",
       "</div>"
      ],
      "text/plain": [
       "                 Name     Formula Adduct    Dil_1_1\n",
       "6          Spermidine     C7H19N3    M+H   24278942\n",
       "28           Glycerol      C3H8O3    M+H    2168900\n",
       "160           Inosine  C10H12N4O5    M+H   70263872\n",
       "182   L-Phenylalanine    C9H11NO2    M+H  158189072\n",
       "204         L-Leucine    C6H13NO2    M+H  197374192\n",
       "226      L-Tryptophan  C11H12N2O2    M+H  104721704\n",
       "248   2-Phenylglycine     C8H9NO2    M+H  108349488\n",
       "270  Selenomethionine  C5H11NO2Se    M+H  118776672\n",
       "292      L-Methionine   C5H11NO2S    M+H  287293056\n",
       "314           Guanine     C5H5N5O    M+H   61243880"
      ]
     },
     "execution_count": 12,
     "metadata": {},
     "output_type": "execute_result"
    }
   ],
   "source": [
    "df_std1_mh.head(10)"
   ]
  }
 ],
 "metadata": {
  "kernelspec": {
   "display_name": "Python 2",
   "language": "python",
   "name": "python2"
  },
  "language_info": {
   "codemirror_mode": {
    "name": "ipython",
    "version": 2
   },
   "file_extension": ".py",
   "mimetype": "text/x-python",
   "name": "python",
   "nbconvert_exporter": "python",
   "pygments_lexer": "ipython2",
   "version": "2.7.10"
  }
 },
 "nbformat": 4,
 "nbformat_minor": 0
}
