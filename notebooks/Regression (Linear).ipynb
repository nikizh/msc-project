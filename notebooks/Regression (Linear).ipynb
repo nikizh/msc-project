{
 "cells": [
  {
   "cell_type": "code",
   "execution_count": 16,
   "metadata": {
    "collapsed": false
   },
   "outputs": [],
   "source": [
    "from __future__ import print_function\n",
    "import numpy as np\n",
    "import pandas as pd\n",
    "import matplotlib.pyplot as plt\n",
    "from pandas import Series, DataFrame\n",
    "from sklearn.decomposition import PCA\n",
    "from IPython.core.pylabtools import figsize\n",
    "\n",
    "%matplotlib inline\n",
    "figsize(16, 8)"
   ]
  },
  {
   "cell_type": "markdown",
   "metadata": {},
   "source": [
    "# Load and adjust the data"
   ]
  },
  {
   "cell_type": "code",
   "execution_count": 17,
   "metadata": {
    "collapsed": false
   },
   "outputs": [
    {
     "data": {
      "text/html": [
       "<div>\n",
       "<table border=\"1\" class=\"dataframe\">\n",
       "  <thead>\n",
       "    <tr style=\"text-align: right;\">\n",
       "      <th></th>\n",
       "      <th>Name</th>\n",
       "      <th>Annotation</th>\n",
       "      <th>Short Name</th>\n",
       "      <th>InChI</th>\n",
       "      <th>MH+ Fragment</th>\n",
       "      <th>MH+ Isotope</th>\n",
       "      <th>fragment/isotope</th>\n",
       "      <th>MV</th>\n",
       "      <th>logD</th>\n",
       "      <th>abs_mob</th>\n",
       "      <th>zeff</th>\n",
       "      <th>RRF_Measured</th>\n",
       "      <th>RRF_Predicted</th>\n",
       "    </tr>\n",
       "  </thead>\n",
       "  <tbody>\n",
       "    <tr>\n",
       "      <th>0</th>\n",
       "      <td>L-Alanine</td>\n",
       "      <td>a</td>\n",
       "      <td>Ala</td>\n",
       "      <td>InChI=1S/C3H7NO2/c1-2(4)3(5)6/h2H,4H2,1H3,(H,5...</td>\n",
       "      <td>90</td>\n",
       "      <td></td>\n",
       "      <td></td>\n",
       "      <td>70.3</td>\n",
       "      <td>-2.79</td>\n",
       "      <td>3.140000</td>\n",
       "      <td>0.764</td>\n",
       "      <td>0.000595</td>\n",
       "      <td>-0.013600</td>\n",
       "    </tr>\n",
       "    <tr>\n",
       "      <th>1</th>\n",
       "      <td>β-Alanine</td>\n",
       "      <td>a</td>\n",
       "      <td>β-Ala</td>\n",
       "      <td>InChI=1S/C3H7NO2/c4-2-1-3(5)6/h1-2,4H2,(H,5,6)</td>\n",
       "      <td>90</td>\n",
       "      <td></td>\n",
       "      <td></td>\n",
       "      <td>70.4</td>\n",
       "      <td>-3.01</td>\n",
       "      <td>4.140000</td>\n",
       "      <td>0.995</td>\n",
       "      <td>0.000503</td>\n",
       "      <td>-0.012700</td>\n",
       "    </tr>\n",
       "    <tr>\n",
       "      <th>2</th>\n",
       "      <td>γ-Aminobutyric acid</td>\n",
       "      <td>a</td>\n",
       "      <td>GABA</td>\n",
       "      <td>InChI=1S/C4H9NO2/c5-3-1-2-4(6)7/h1-3,5H2,(H,6,7)</td>\n",
       "      <td>104</td>\n",
       "      <td></td>\n",
       "      <td></td>\n",
       "      <td>89.2</td>\n",
       "      <td>-3.10</td>\n",
       "      <td>0.000409</td>\n",
       "      <td>1.000</td>\n",
       "      <td>0.000903</td>\n",
       "      <td>-0.004760</td>\n",
       "    </tr>\n",
       "    <tr>\n",
       "      <th>3</th>\n",
       "      <td>Histamine</td>\n",
       "      <td></td>\n",
       "      <td>HisN</td>\n",
       "      <td>InChI=1S/C5H9N3/c6-2-1-5-3-7-4-8-5/h3-4H,1-2,6...</td>\n",
       "      <td>112</td>\n",
       "      <td></td>\n",
       "      <td></td>\n",
       "      <td>98.5</td>\n",
       "      <td>-2.31</td>\n",
       "      <td>0.000736</td>\n",
       "      <td>2.000</td>\n",
       "      <td>0.001110</td>\n",
       "      <td>0.006150</td>\n",
       "    </tr>\n",
       "    <tr>\n",
       "      <th>4</th>\n",
       "      <td>Creatine</td>\n",
       "      <td>a</td>\n",
       "      <td>Crea</td>\n",
       "      <td>InChI=1S/C4H9N3O2/c1-7(4(5)6)2-3(8)9/h2H2,1H3,...</td>\n",
       "      <td>114</td>\n",
       "      <td></td>\n",
       "      <td></td>\n",
       "      <td>88.3</td>\n",
       "      <td>-1.76</td>\n",
       "      <td>0.000449</td>\n",
       "      <td>1.000</td>\n",
       "      <td>0.002290</td>\n",
       "      <td>-0.000944</td>\n",
       "    </tr>\n",
       "  </tbody>\n",
       "</table>\n",
       "</div>"
      ],
      "text/plain": [
       "                  Name Annotation Short Name  \\\n",
       "0           L-Alanine           a       Ala    \n",
       "1            β-Alanine          a      β-Ala   \n",
       "2  γ-Aminobutyric acid          a       GABA   \n",
       "3            Histamine                  HisN   \n",
       "4             Creatine          a       Crea   \n",
       "\n",
       "                                               InChI  MH+ Fragment  \\\n",
       "0  InChI=1S/C3H7NO2/c1-2(4)3(5)6/h2H,4H2,1H3,(H,5...            90   \n",
       "1     InChI=1S/C3H7NO2/c4-2-1-3(5)6/h1-2,4H2,(H,5,6)            90   \n",
       "2   InChI=1S/C4H9NO2/c5-3-1-2-4(6)7/h1-3,5H2,(H,6,7)           104   \n",
       "3  InChI=1S/C5H9N3/c6-2-1-5-3-7-4-8-5/h3-4H,1-2,6...           112   \n",
       "4  InChI=1S/C4H9N3O2/c1-7(4(5)6)2-3(8)9/h2H2,1H3,...           114   \n",
       "\n",
       "  MH+ Isotope fragment/isotope    MV  logD   abs_mob   zeff  RRF_Measured  \\\n",
       "0                               70.3 -2.79  3.140000  0.764      0.000595   \n",
       "1                               70.4 -3.01  4.140000  0.995      0.000503   \n",
       "2                               89.2 -3.10  0.000409  1.000      0.000903   \n",
       "3                               98.5 -2.31  0.000736  2.000      0.001110   \n",
       "4                               88.3 -1.76  0.000449  1.000      0.002290   \n",
       "\n",
       "   RRF_Predicted  \n",
       "0      -0.013600  \n",
       "1      -0.012700  \n",
       "2      -0.004760  \n",
       "3       0.006150  \n",
       "4      -0.000944  "
      ]
     },
     "execution_count": 17,
     "metadata": {},
     "output_type": "execute_result"
    }
   ],
   "source": [
    "df_train = pd.read_csv('../data/TableS2_training.csv', keep_default_na=False)\n",
    "\n",
    "df_train['RRF_Measured'] = df_train['RRF_Measured'] * 1e-2\n",
    "df_train['RRF_Predicted'] = df_train['RRF_Predicted'] * 1e-2\n",
    "\n",
    "df_train.head()"
   ]
  },
  {
   "cell_type": "markdown",
   "metadata": {},
   "source": [
    "# Data preparation\n",
    "- Exclude certain metabolites\n",
    "- Select training and testing data"
   ]
  },
  {
   "cell_type": "code",
   "execution_count": 18,
   "metadata": {
    "collapsed": false
   },
   "outputs": [
    {
     "name": "stdout",
     "output_type": "stream",
     "text": [
      "Number of metabolites: 36\n"
     ]
    }
   ],
   "source": [
    "# Training Data\n",
    "X_train = df_train[['MV', 'logD', 'abs_mob']]\n",
    "X_train = X_train[df_train['Annotation'] == '']\n",
    "\n",
    "y_train = df_train[['RRF_Measured']]\n",
    "y_train = y_train[df_train['Annotation'] == '']\n",
    "\n",
    "# Testing Data (it seems same data is used for training and validation) :/\n",
    "X_test = X_train\n",
    "y_test = y_train\n",
    "\n",
    "print(\"Number of metabolites:\", len(X_train))"
   ]
  },
  {
   "cell_type": "markdown",
   "metadata": {},
   "source": [
    "# Fit liner model on the data from Table S2"
   ]
  },
  {
   "cell_type": "code",
   "execution_count": 19,
   "metadata": {
    "collapsed": false
   },
   "outputs": [
    {
     "data": {
      "text/plain": [
       "LinearRegression(copy_X=True, fit_intercept=True, n_jobs=1, normalize=False)"
      ]
     },
     "execution_count": 19,
     "metadata": {},
     "output_type": "execute_result"
    }
   ],
   "source": [
    "from sklearn import linear_model\n",
    "\n",
    "regr = linear_model.LinearRegression()\n",
    "\n",
    "regr.fit(X_train, y_train)"
   ]
  },
  {
   "cell_type": "code",
   "execution_count": 20,
   "metadata": {
    "collapsed": false
   },
   "outputs": [
    {
     "name": "stdout",
     "output_type": "stream",
     "text": [
      "Coefficients: [  4.39456215e-04   2.72001632e-03   1.41408522e+01]\n",
      "Intercept: [-0.0413185]\n",
      "DIFFERENCE\n",
      "Coef. Diff. [ -5.43785468e-07   2.00163181e-05   1.40852219e-01]\n",
      "Intercept Diff. 8.1503911411e-05\n"
     ]
    }
   ],
   "source": [
    "# The coefficients\n",
    "print('Coefficients:', regr.coef_[0])\n",
    "print('Intercept:', regr.intercept_)\n",
    "\n",
    "# Coeffeicients and intercept from the paper\n",
    "paper_coef = [4.40e-4, 2.7e-3, 14]\n",
    "paper_intercept = -4.14e-2\n",
    "\n",
    "print(\"DIFFERENCE\")\n",
    "print(\"Coef. Diff.\", np.array(regr.coef_[0]) - np.array(paper_coef))\n",
    "print(\"Intercept Diff.\", regr.intercept_[0] - paper_intercept)"
   ]
  },
  {
   "cell_type": "markdown",
   "metadata": {},
   "source": [
    "NOTE: Our model seems to be is very close to the model reported in the paper"
   ]
  },
  {
   "cell_type": "markdown",
   "metadata": {},
   "source": [
    "# Make predictions\n",
    "\n",
    "We are making predictions on the same data we used for training, which doesn't seem correct"
   ]
  },
  {
   "cell_type": "code",
   "execution_count": 21,
   "metadata": {
    "collapsed": false
   },
   "outputs": [],
   "source": [
    "predictions = Series(np.ravel(regr.predict(X_test)), index=X_train.index, name='Predictions')"
   ]
  },
  {
   "cell_type": "code",
   "execution_count": 22,
   "metadata": {
    "collapsed": false
   },
   "outputs": [
    {
     "data": {
      "text/plain": [
       "3    0.006092\n",
       "5    0.002728\n",
       "7    0.007550\n",
       "8    0.005441\n",
       "9    0.012561\n",
       "Name: Predictions, dtype: float64"
      ]
     },
     "execution_count": 22,
     "metadata": {},
     "output_type": "execute_result"
    }
   ],
   "source": [
    "predictions.head()"
   ]
  },
  {
   "cell_type": "code",
   "execution_count": 23,
   "metadata": {
    "collapsed": false
   },
   "outputs": [
    {
     "data": {
      "text/html": [
       "<div>\n",
       "<table border=\"1\" class=\"dataframe\">\n",
       "  <thead>\n",
       "    <tr style=\"text-align: right;\">\n",
       "      <th></th>\n",
       "      <th>Name</th>\n",
       "      <th>RRF_Measured</th>\n",
       "      <th>RRF_Predicted</th>\n",
       "      <th>Predictions</th>\n",
       "      <th>Diff</th>\n",
       "    </tr>\n",
       "  </thead>\n",
       "  <tbody>\n",
       "    <tr>\n",
       "      <th>3</th>\n",
       "      <td>Histamine</td>\n",
       "      <td>0.00111</td>\n",
       "      <td>0.00615</td>\n",
       "      <td>0.006092</td>\n",
       "      <td>5.762942e-05</td>\n",
       "    </tr>\n",
       "    <tr>\n",
       "      <th>5</th>\n",
       "      <td>L-Valine</td>\n",
       "      <td>0.00188</td>\n",
       "      <td>0.00263</td>\n",
       "      <td>0.002728</td>\n",
       "      <td>9.795905e-05</td>\n",
       "    </tr>\n",
       "    <tr>\n",
       "      <th>7</th>\n",
       "      <td>Nicotinamide</td>\n",
       "      <td>0.00322</td>\n",
       "      <td>0.00755</td>\n",
       "      <td>0.007550</td>\n",
       "      <td>9.754237e-08</td>\n",
       "    </tr>\n",
       "    <tr>\n",
       "      <th>8</th>\n",
       "      <td>Nicotinic acid</td>\n",
       "      <td>0.00250</td>\n",
       "      <td>0.00543</td>\n",
       "      <td>0.005441</td>\n",
       "      <td>1.095089e-05</td>\n",
       "    </tr>\n",
       "    <tr>\n",
       "      <th>9</th>\n",
       "      <td>L-Leucine</td>\n",
       "      <td>0.01610</td>\n",
       "      <td>0.01250</td>\n",
       "      <td>0.012561</td>\n",
       "      <td>6.072191e-05</td>\n",
       "    </tr>\n",
       "    <tr>\n",
       "      <th>10</th>\n",
       "      <td>L-Isoleucine</td>\n",
       "      <td>0.01570</td>\n",
       "      <td>0.01250</td>\n",
       "      <td>0.012483</td>\n",
       "      <td>1.662497e-05</td>\n",
       "    </tr>\n",
       "    <tr>\n",
       "      <th>13</th>\n",
       "      <td>Adenine</td>\n",
       "      <td>0.00766</td>\n",
       "      <td>0.00332</td>\n",
       "      <td>0.003309</td>\n",
       "      <td>1.135689e-05</td>\n",
       "    </tr>\n",
       "    <tr>\n",
       "      <th>14</th>\n",
       "      <td>L-Homocysteine</td>\n",
       "      <td>0.00168</td>\n",
       "      <td>0.00116</td>\n",
       "      <td>0.001184</td>\n",
       "      <td>2.426493e-05</td>\n",
       "    </tr>\n",
       "    <tr>\n",
       "      <th>15</th>\n",
       "      <td>p-Benzoic acid</td>\n",
       "      <td>0.00718</td>\n",
       "      <td>0.00962</td>\n",
       "      <td>0.009627</td>\n",
       "      <td>7.348617e-06</td>\n",
       "    </tr>\n",
       "    <tr>\n",
       "      <th>16</th>\n",
       "      <td>Tyramine</td>\n",
       "      <td>0.01270</td>\n",
       "      <td>0.01110</td>\n",
       "      <td>0.011067</td>\n",
       "      <td>3.307618e-05</td>\n",
       "    </tr>\n",
       "    <tr>\n",
       "      <th>17</th>\n",
       "      <td>L-Glutamine</td>\n",
       "      <td>0.00703</td>\n",
       "      <td>0.00219</td>\n",
       "      <td>0.002202</td>\n",
       "      <td>1.175324e-05</td>\n",
       "    </tr>\n",
       "    <tr>\n",
       "      <th>18</th>\n",
       "      <td>L-Lysine</td>\n",
       "      <td>0.01190</td>\n",
       "      <td>0.01550</td>\n",
       "      <td>0.015604</td>\n",
       "      <td>1.044193e-04</td>\n",
       "    </tr>\n",
       "    <tr>\n",
       "      <th>19</th>\n",
       "      <td>L-Glutamic acid</td>\n",
       "      <td>0.00749</td>\n",
       "      <td>0.00160</td>\n",
       "      <td>0.001612</td>\n",
       "      <td>1.215536e-05</td>\n",
       "    </tr>\n",
       "    <tr>\n",
       "      <th>20</th>\n",
       "      <td>L-Methionine</td>\n",
       "      <td>0.00832</td>\n",
       "      <td>0.01260</td>\n",
       "      <td>0.012659</td>\n",
       "      <td>5.949019e-05</td>\n",
       "    </tr>\n",
       "    <tr>\n",
       "      <th>21</th>\n",
       "      <td>Guanine</td>\n",
       "      <td>0.00112</td>\n",
       "      <td>0.00296</td>\n",
       "      <td>0.003907</td>\n",
       "      <td>9.472519e-04</td>\n",
       "    </tr>\n",
       "    <tr>\n",
       "      <th>22</th>\n",
       "      <td>Dopamine</td>\n",
       "      <td>0.00781</td>\n",
       "      <td>0.01180</td>\n",
       "      <td>0.011834</td>\n",
       "      <td>3.357329e-05</td>\n",
       "    </tr>\n",
       "    <tr>\n",
       "      <th>23</th>\n",
       "      <td>L-Histidine</td>\n",
       "      <td>0.01400</td>\n",
       "      <td>0.00824</td>\n",
       "      <td>0.008210</td>\n",
       "      <td>3.035300e-05</td>\n",
       "    </tr>\n",
       "    <tr>\n",
       "      <th>25</th>\n",
       "      <td>Tryptamine</td>\n",
       "      <td>0.02930</td>\n",
       "      <td>0.02090</td>\n",
       "      <td>0.020937</td>\n",
       "      <td>3.733945e-05</td>\n",
       "    </tr>\n",
       "    <tr>\n",
       "      <th>26</th>\n",
       "      <td>L-Carnitine</td>\n",
       "      <td>0.02820</td>\n",
       "      <td>0.02460</td>\n",
       "      <td>0.024592</td>\n",
       "      <td>8.128201e-06</td>\n",
       "    </tr>\n",
       "    <tr>\n",
       "      <th>27</th>\n",
       "      <td>L-Phenylalanine</td>\n",
       "      <td>0.02980</td>\n",
       "      <td>0.01960</td>\n",
       "      <td>0.019591</td>\n",
       "      <td>8.979380e-06</td>\n",
       "    </tr>\n",
       "    <tr>\n",
       "      <th>28</th>\n",
       "      <td>L-Arginine</td>\n",
       "      <td>0.02380</td>\n",
       "      <td>0.01670</td>\n",
       "      <td>0.016688</td>\n",
       "      <td>1.177861e-05</td>\n",
       "    </tr>\n",
       "    <tr>\n",
       "      <th>29</th>\n",
       "      <td>Serotonin</td>\n",
       "      <td>0.01240</td>\n",
       "      <td>0.02200</td>\n",
       "      <td>0.022004</td>\n",
       "      <td>4.272254e-06</td>\n",
       "    </tr>\n",
       "    <tr>\n",
       "      <th>30</th>\n",
       "      <td>L-Methionine sulfone</td>\n",
       "      <td>0.01560</td>\n",
       "      <td>0.01670</td>\n",
       "      <td>0.016753</td>\n",
       "      <td>5.269572e-05</td>\n",
       "    </tr>\n",
       "    <tr>\n",
       "      <th>31</th>\n",
       "      <td>m-L-Tyrosine</td>\n",
       "      <td>0.02260</td>\n",
       "      <td>0.02030</td>\n",
       "      <td>0.020291</td>\n",
       "      <td>8.562885e-06</td>\n",
       "    </tr>\n",
       "    <tr>\n",
       "      <th>32</th>\n",
       "      <td>o-L-Tyrosine</td>\n",
       "      <td>0.02250</td>\n",
       "      <td>0.02130</td>\n",
       "      <td>0.021341</td>\n",
       "      <td>4.119387e-05</td>\n",
       "    </tr>\n",
       "    <tr>\n",
       "      <th>33</th>\n",
       "      <td>p-L-Tyrosine</td>\n",
       "      <td>0.01680</td>\n",
       "      <td>0.01920</td>\n",
       "      <td>0.019201</td>\n",
       "      <td>1.041566e-06</td>\n",
       "    </tr>\n",
       "    <tr>\n",
       "      <th>34</th>\n",
       "      <td>L-DOPA</td>\n",
       "      <td>0.01980</td>\n",
       "      <td>0.02080</td>\n",
       "      <td>0.020849</td>\n",
       "      <td>4.921017e-05</td>\n",
       "    </tr>\n",
       "    <tr>\n",
       "      <th>35</th>\n",
       "      <td>O-Acetyl-L-Carnitine</td>\n",
       "      <td>0.05580</td>\n",
       "      <td>0.04470</td>\n",
       "      <td>0.044729</td>\n",
       "      <td>2.895368e-05</td>\n",
       "    </tr>\n",
       "    <tr>\n",
       "      <th>36</th>\n",
       "      <td>L-Tryptophan</td>\n",
       "      <td>0.03550</td>\n",
       "      <td>0.03190</td>\n",
       "      <td>0.031957</td>\n",
       "      <td>5.691014e-05</td>\n",
       "    </tr>\n",
       "    <tr>\n",
       "      <th>37</th>\n",
       "      <td>3-Chloro-L-Tyrosine</td>\n",
       "      <td>0.03180</td>\n",
       "      <td>0.02790</td>\n",
       "      <td>0.027946</td>\n",
       "      <td>4.610466e-05</td>\n",
       "    </tr>\n",
       "    <tr>\n",
       "      <th>38</th>\n",
       "      <td>5-Hydroxy-L-Tryptophan</td>\n",
       "      <td>0.02460</td>\n",
       "      <td>0.03330</td>\n",
       "      <td>0.033317</td>\n",
       "      <td>1.733028e-05</td>\n",
       "    </tr>\n",
       "    <tr>\n",
       "      <th>39</th>\n",
       "      <td>Cystathionine</td>\n",
       "      <td>0.01790</td>\n",
       "      <td>0.02610</td>\n",
       "      <td>0.026107</td>\n",
       "      <td>6.808944e-06</td>\n",
       "    </tr>\n",
       "    <tr>\n",
       "      <th>40</th>\n",
       "      <td>3-Nitro-L-Tyrosine</td>\n",
       "      <td>0.02980</td>\n",
       "      <td>0.03000</td>\n",
       "      <td>0.029996</td>\n",
       "      <td>4.366918e-06</td>\n",
       "    </tr>\n",
       "    <tr>\n",
       "      <th>41</th>\n",
       "      <td>Atenolol</td>\n",
       "      <td>0.08880</td>\n",
       "      <td>0.07330</td>\n",
       "      <td>0.073318</td>\n",
       "      <td>1.761957e-05</td>\n",
       "    </tr>\n",
       "    <tr>\n",
       "      <th>42</th>\n",
       "      <td>Adenosine</td>\n",
       "      <td>0.02940</td>\n",
       "      <td>0.04520</td>\n",
       "      <td>0.045163</td>\n",
       "      <td>3.653768e-05</td>\n",
       "    </tr>\n",
       "    <tr>\n",
       "      <th>44</th>\n",
       "      <td>Guanosine</td>\n",
       "      <td>0.02820</td>\n",
       "      <td>0.04710</td>\n",
       "      <td>0.047148</td>\n",
       "      <td>4.812268e-05</td>\n",
       "    </tr>\n",
       "  </tbody>\n",
       "</table>\n",
       "</div>"
      ],
      "text/plain": [
       "                      Name  RRF_Measured  RRF_Predicted  Predictions  \\\n",
       "3                Histamine       0.00111        0.00615     0.006092   \n",
       "5                 L-Valine       0.00188        0.00263     0.002728   \n",
       "7             Nicotinamide       0.00322        0.00755     0.007550   \n",
       "8           Nicotinic acid       0.00250        0.00543     0.005441   \n",
       "9                L-Leucine       0.01610        0.01250     0.012561   \n",
       "10            L-Isoleucine       0.01570        0.01250     0.012483   \n",
       "13                 Adenine       0.00766        0.00332     0.003309   \n",
       "14          L-Homocysteine       0.00168        0.00116     0.001184   \n",
       "15          p-Benzoic acid       0.00718        0.00962     0.009627   \n",
       "16                Tyramine       0.01270        0.01110     0.011067   \n",
       "17             L-Glutamine       0.00703        0.00219     0.002202   \n",
       "18                L-Lysine       0.01190        0.01550     0.015604   \n",
       "19         L-Glutamic acid       0.00749        0.00160     0.001612   \n",
       "20            L-Methionine       0.00832        0.01260     0.012659   \n",
       "21                 Guanine       0.00112        0.00296     0.003907   \n",
       "22                Dopamine       0.00781        0.01180     0.011834   \n",
       "23             L-Histidine       0.01400        0.00824     0.008210   \n",
       "25              Tryptamine       0.02930        0.02090     0.020937   \n",
       "26             L-Carnitine       0.02820        0.02460     0.024592   \n",
       "27         L-Phenylalanine       0.02980        0.01960     0.019591   \n",
       "28              L-Arginine       0.02380        0.01670     0.016688   \n",
       "29               Serotonin       0.01240        0.02200     0.022004   \n",
       "30    L-Methionine sulfone       0.01560        0.01670     0.016753   \n",
       "31            m-L-Tyrosine       0.02260        0.02030     0.020291   \n",
       "32            o-L-Tyrosine       0.02250        0.02130     0.021341   \n",
       "33            p-L-Tyrosine       0.01680        0.01920     0.019201   \n",
       "34                  L-DOPA       0.01980        0.02080     0.020849   \n",
       "35    O-Acetyl-L-Carnitine       0.05580        0.04470     0.044729   \n",
       "36            L-Tryptophan       0.03550        0.03190     0.031957   \n",
       "37     3-Chloro-L-Tyrosine       0.03180        0.02790     0.027946   \n",
       "38  5-Hydroxy-L-Tryptophan       0.02460        0.03330     0.033317   \n",
       "39           Cystathionine       0.01790        0.02610     0.026107   \n",
       "40      3-Nitro-L-Tyrosine       0.02980        0.03000     0.029996   \n",
       "41                Atenolol       0.08880        0.07330     0.073318   \n",
       "42               Adenosine       0.02940        0.04520     0.045163   \n",
       "44               Guanosine       0.02820        0.04710     0.047148   \n",
       "\n",
       "            Diff  \n",
       "3   5.762942e-05  \n",
       "5   9.795905e-05  \n",
       "7   9.754237e-08  \n",
       "8   1.095089e-05  \n",
       "9   6.072191e-05  \n",
       "10  1.662497e-05  \n",
       "13  1.135689e-05  \n",
       "14  2.426493e-05  \n",
       "15  7.348617e-06  \n",
       "16  3.307618e-05  \n",
       "17  1.175324e-05  \n",
       "18  1.044193e-04  \n",
       "19  1.215536e-05  \n",
       "20  5.949019e-05  \n",
       "21  9.472519e-04  \n",
       "22  3.357329e-05  \n",
       "23  3.035300e-05  \n",
       "25  3.733945e-05  \n",
       "26  8.128201e-06  \n",
       "27  8.979380e-06  \n",
       "28  1.177861e-05  \n",
       "29  4.272254e-06  \n",
       "30  5.269572e-05  \n",
       "31  8.562885e-06  \n",
       "32  4.119387e-05  \n",
       "33  1.041566e-06  \n",
       "34  4.921017e-05  \n",
       "35  2.895368e-05  \n",
       "36  5.691014e-05  \n",
       "37  4.610466e-05  \n",
       "38  1.733028e-05  \n",
       "39  6.808944e-06  \n",
       "40  4.366918e-06  \n",
       "41  1.761957e-05  \n",
       "42  3.653768e-05  \n",
       "44  4.812268e-05  "
      ]
     },
     "execution_count": 23,
     "metadata": {},
     "output_type": "execute_result"
    }
   ],
   "source": [
    "data = df_train[df_train['Annotation'] == '']\n",
    "predictions.index = data.index\n",
    "\n",
    "data = pd.concat([data, predictions], axis=1)\n",
    "\n",
    "data['Diff'] = np.abs(data['Predictions'] - data['RRF_Predicted'])\n",
    "\n",
    "data[['Name', 'RRF_Measured', 'RRF_Predicted', 'Predictions', 'Diff']]"
   ]
  },
  {
   "cell_type": "code",
   "execution_count": 24,
   "metadata": {
    "collapsed": false
   },
   "outputs": [
    {
     "data": {
      "image/png": "[encoded data removed]",
      "text/plain": [
       "<matplotlib.figure.Figure at 0x10de828d0>"
      ]
     },
     "metadata": {},
     "output_type": "display_data"
    }
   ],
   "source": [
    "figsize(15, 5)\n",
    "plt.bar(data.index, data['Diff'])\n",
    "plt.grid(True)\n",
    "plt.title('Difference between RRF_Predicted and our predictions')\n",
    "plt.show()"
   ]
  },
  {
   "cell_type": "code",
   "execution_count": 25,
   "metadata": {
    "collapsed": false
   },
   "outputs": [
    {
     "data": {
      "image/png": "[encoded data removed]",
      "text/plain": [
       "<matplotlib.figure.Figure at 0x10e3ef5d0>"
      ]
     },
     "metadata": {},
     "output_type": "display_data"
    }
   ],
   "source": [
    "plt.scatter(data['RRF_Predicted'], data['Predictions'])\n",
    "plt.grid()\n",
    "plt.show()"
   ]
  },
  {
   "cell_type": "markdown",
   "metadata": {},
   "source": [
    "**The results we get are very close to the reported results, which suggests that the authors used the same data for training and validation of the model**"
   ]
  },
  {
   "cell_type": "markdown",
   "metadata": {},
   "source": [
    "# Comparison of model metrics"
   ]
  },
  {
   "cell_type": "code",
   "execution_count": 26,
   "metadata": {
    "collapsed": false
   },
   "outputs": [],
   "source": [
    "from sklearn.metrics import explained_variance_score\n",
    "from sklearn.metrics import mean_absolute_error\n",
    "from sklearn.metrics import r2_score\n",
    "\n",
    "y_true = data['RRF_Measured']\n",
    "y_pred = data['RRF_Predicted']\n",
    "y_pred_new = data['Predictions']"
   ]
  },
  {
   "cell_type": "markdown",
   "metadata": {},
   "source": [
    "## Metrics of the model reported in the paper"
   ]
  },
  {
   "cell_type": "code",
   "execution_count": 27,
   "metadata": {
    "collapsed": false
   },
   "outputs": [
    {
     "name": "stdout",
     "output_type": "stream",
     "text": [
      "explained_variance 0.828348380635\n",
      "mean_absolute_error 0.00532638888889\n",
      "r2_score 0.828341767487\n"
     ]
    }
   ],
   "source": [
    "print(\"explained_variance\", explained_variance_score(y_true, y_pred))\n",
    "print(\"mean_absolute_error\", mean_absolute_error(y_true, y_pred))\n",
    "print(\"r2_score\", r2_score(y_true, y_pred))"
   ]
  },
  {
   "cell_type": "markdown",
   "metadata": {},
   "source": [
    "## Metrics of our model"
   ]
  },
  {
   "cell_type": "code",
   "execution_count": 28,
   "metadata": {
    "collapsed": false
   },
   "outputs": [
    {
     "name": "stdout",
     "output_type": "stream",
     "text": [
      "explained_variance 0.827874596497\n",
      "mean_absolute_error 0.00535788018367\n",
      "r2_score 0.827874596497\n"
     ]
    }
   ],
   "source": [
    "print(\"explained_variance\", explained_variance_score(y_true, y_pred_new))\n",
    "print(\"mean_absolute_error\", mean_absolute_error(y_true, y_pred_new))\n",
    "print(\"r2_score\", r2_score(y_true, y_pred_new))"
   ]
  },
  {
   "cell_type": "markdown",
   "metadata": {},
   "source": [
    "# Let's try with the other data"
   ]
  },
  {
   "cell_type": "code",
   "execution_count": 29,
   "metadata": {
    "collapsed": false
   },
   "outputs": [],
   "source": [
    "df_T1_pred = pd.read_csv('../data/Table1_predictions.csv', keep_default_na=False)\n",
    "\n",
    "df_T1_pred['RRF_Predicted'] = df_T1_pred['RRF_Predicted'] * 1e-2"
   ]
  },
  {
   "cell_type": "code",
   "execution_count": 30,
   "metadata": {
    "collapsed": false
   },
   "outputs": [
    {
     "data": {
      "text/html": [
       "<div>\n",
       "<table border=\"1\" class=\"dataframe\">\n",
       "  <thead>\n",
       "    <tr style=\"text-align: right;\">\n",
       "      <th></th>\n",
       "      <th>Short Name</th>\n",
       "      <th>MV</th>\n",
       "      <th>logD</th>\n",
       "      <th>abs_mob</th>\n",
       "      <th>RRF_Predicted</th>\n",
       "    </tr>\n",
       "  </thead>\n",
       "  <tbody>\n",
       "    <tr>\n",
       "      <th>0</th>\n",
       "      <td>Leu</td>\n",
       "      <td>124</td>\n",
       "      <td>-1.52</td>\n",
       "      <td>0.000249</td>\n",
       "      <td>0.01250</td>\n",
       "    </tr>\n",
       "    <tr>\n",
       "      <th>1</th>\n",
       "      <td>PABA</td>\n",
       "      <td>102</td>\n",
       "      <td>0.80</td>\n",
       "      <td>0.000279</td>\n",
       "      <td>0.00962</td>\n",
       "    </tr>\n",
       "    <tr>\n",
       "      <th>2</th>\n",
       "      <td>TryN</td>\n",
       "      <td>120</td>\n",
       "      <td>-2.00</td>\n",
       "      <td>0.000360</td>\n",
       "      <td>0.01110</td>\n",
       "    </tr>\n",
       "    <tr>\n",
       "      <th>3</th>\n",
       "      <td>Lys</td>\n",
       "      <td>131</td>\n",
       "      <td>-3.05</td>\n",
       "      <td>0.000541</td>\n",
       "      <td>0.01550</td>\n",
       "    </tr>\n",
       "    <tr>\n",
       "      <th>4</th>\n",
       "      <td>C0</td>\n",
       "      <td>155</td>\n",
       "      <td>-2.49</td>\n",
       "      <td>0.000323</td>\n",
       "      <td>0.02460</td>\n",
       "    </tr>\n",
       "  </tbody>\n",
       "</table>\n",
       "</div>"
      ],
      "text/plain": [
       "  Short Name   MV  logD   abs_mob  RRF_Predicted\n",
       "0        Leu  124 -1.52  0.000249        0.01250\n",
       "1       PABA  102  0.80  0.000279        0.00962\n",
       "2       TryN  120 -2.00  0.000360        0.01110\n",
       "3        Lys  131 -3.05  0.000541        0.01550\n",
       "4         C0  155 -2.49  0.000323        0.02460"
      ]
     },
     "execution_count": 30,
     "metadata": {},
     "output_type": "execute_result"
    }
   ],
   "source": [
    "df_T1_pred.head()"
   ]
  },
  {
   "cell_type": "code",
   "execution_count": 31,
   "metadata": {
    "collapsed": true
   },
   "outputs": [],
   "source": [
    "X2_pred = df_T1_pred[['MV', 'logD', 'abs_mob']]"
   ]
  },
  {
   "cell_type": "markdown",
   "metadata": {},
   "source": [
    "# Making predictions on Table 1 Data using the model trained on Table S2"
   ]
  },
  {
   "cell_type": "code",
   "execution_count": 32,
   "metadata": {
    "collapsed": false
   },
   "outputs": [],
   "source": [
    "predictions2 = Series(np.ravel(regr.predict(X2_pred)), name='Predictions')"
   ]
  },
  {
   "cell_type": "code",
   "execution_count": 33,
   "metadata": {
    "collapsed": false
   },
   "outputs": [
    {
     "data": {
      "text/html": [
       "<div>\n",
       "<table border=\"1\" class=\"dataframe\">\n",
       "  <thead>\n",
       "    <tr style=\"text-align: right;\">\n",
       "      <th></th>\n",
       "      <th>Short Name</th>\n",
       "      <th>RRF_Predicted</th>\n",
       "      <th>Predictions</th>\n",
       "      <th>Diff</th>\n",
       "    </tr>\n",
       "  </thead>\n",
       "  <tbody>\n",
       "    <tr>\n",
       "      <th>0</th>\n",
       "      <td>Leu</td>\n",
       "      <td>0.01250</td>\n",
       "      <td>0.012561</td>\n",
       "      <td>0.000061</td>\n",
       "    </tr>\n",
       "    <tr>\n",
       "      <th>1</th>\n",
       "      <td>PABA</td>\n",
       "      <td>0.00962</td>\n",
       "      <td>0.009627</td>\n",
       "      <td>0.000007</td>\n",
       "    </tr>\n",
       "    <tr>\n",
       "      <th>2</th>\n",
       "      <td>TryN</td>\n",
       "      <td>0.01110</td>\n",
       "      <td>0.011067</td>\n",
       "      <td>0.000033</td>\n",
       "    </tr>\n",
       "    <tr>\n",
       "      <th>3</th>\n",
       "      <td>Lys</td>\n",
       "      <td>0.01550</td>\n",
       "      <td>0.015604</td>\n",
       "      <td>0.000104</td>\n",
       "    </tr>\n",
       "    <tr>\n",
       "      <th>4</th>\n",
       "      <td>C0</td>\n",
       "      <td>0.02460</td>\n",
       "      <td>0.024592</td>\n",
       "      <td>0.000008</td>\n",
       "    </tr>\n",
       "    <tr>\n",
       "      <th>5</th>\n",
       "      <td>Sero</td>\n",
       "      <td>0.02200</td>\n",
       "      <td>0.022004</td>\n",
       "      <td>0.000004</td>\n",
       "    </tr>\n",
       "    <tr>\n",
       "      <th>6</th>\n",
       "      <td>Cyst</td>\n",
       "      <td>0.02610</td>\n",
       "      <td>0.026107</td>\n",
       "      <td>0.000007</td>\n",
       "    </tr>\n",
       "    <tr>\n",
       "      <th>7</th>\n",
       "      <td>NTyr</td>\n",
       "      <td>0.03000</td>\n",
       "      <td>0.029996</td>\n",
       "      <td>0.000004</td>\n",
       "    </tr>\n",
       "    <tr>\n",
       "      <th>8</th>\n",
       "      <td>At</td>\n",
       "      <td>0.07300</td>\n",
       "      <td>0.073318</td>\n",
       "      <td>0.000318</td>\n",
       "    </tr>\n",
       "    <tr>\n",
       "      <th>9</th>\n",
       "      <td>A</td>\n",
       "      <td>0.04520</td>\n",
       "      <td>0.045163</td>\n",
       "      <td>0.000037</td>\n",
       "    </tr>\n",
       "  </tbody>\n",
       "</table>\n",
       "</div>"
      ],
      "text/plain": [
       "  Short Name  RRF_Predicted  Predictions      Diff\n",
       "0        Leu        0.01250     0.012561  0.000061\n",
       "1       PABA        0.00962     0.009627  0.000007\n",
       "2       TryN        0.01110     0.011067  0.000033\n",
       "3        Lys        0.01550     0.015604  0.000104\n",
       "4         C0        0.02460     0.024592  0.000008\n",
       "5       Sero        0.02200     0.022004  0.000004\n",
       "6       Cyst        0.02610     0.026107  0.000007\n",
       "7       NTyr        0.03000     0.029996  0.000004\n",
       "8         At        0.07300     0.073318  0.000318\n",
       "9          A        0.04520     0.045163  0.000037"
      ]
     },
     "execution_count": 33,
     "metadata": {},
     "output_type": "execute_result"
    }
   ],
   "source": [
    "data2 = pd.concat([df_T1_pred, predictions2], axis=1)\n",
    "\n",
    "data2['Diff'] = np.abs(data2['Predictions'] - data2['RRF_Predicted'])\n",
    "\n",
    "data2[['Short Name', 'RRF_Predicted', 'Predictions', 'Diff']]"
   ]
  },
  {
   "cell_type": "code",
   "execution_count": 34,
   "metadata": {
    "collapsed": false
   },
   "outputs": [
    {
     "data": {
      "image/png": "[encoded data removed]",
      "text/plain": [
       "<matplotlib.figure.Figure at 0x10e3e0890>"
      ]
     },
     "metadata": {},
     "output_type": "display_data"
    }
   ],
   "source": [
    "figsize(15, 5)\n",
    "plt.bar(data2.index, data2['Diff'])\n",
    "plt.ylim([-0.01, 0.01])\n",
    "plt.grid(True)\n",
    "plt.title('Difference between RRF_Predicted and our predictions')\n",
    "plt.show()"
   ]
  },
  {
   "cell_type": "markdown",
   "metadata": {},
   "source": [
    "# Making predictions on Table S3 using the model trained on Table S2"
   ]
  },
  {
   "cell_type": "code",
   "execution_count": 35,
   "metadata": {
    "collapsed": false
   },
   "outputs": [
    {
     "data": {
      "text/html": [
       "<div>\n",
       "<table border=\"1\" class=\"dataframe\">\n",
       "  <thead>\n",
       "    <tr style=\"text-align: right;\">\n",
       "      <th></th>\n",
       "      <th>Name</th>\n",
       "      <th>Short Name</th>\n",
       "      <th>InChI</th>\n",
       "      <th>MH+</th>\n",
       "      <th>MV</th>\n",
       "      <th>logD</th>\n",
       "      <th>abs_mob</th>\n",
       "      <th>zeff</th>\n",
       "      <th>RRF_Measured</th>\n",
       "      <th>RRF_Predicted</th>\n",
       "    </tr>\n",
       "  </thead>\n",
       "  <tbody>\n",
       "    <tr>\n",
       "      <th>0</th>\n",
       "      <td>L-Ornithine</td>\n",
       "      <td>Orn</td>\n",
       "      <td>InChI=1S/C5H12N2O2/c6-3-1-2-4(7)5(8)9/h4H,1-3,...</td>\n",
       "      <td>133</td>\n",
       "      <td>113</td>\n",
       "      <td>-4.22</td>\n",
       "      <td>0.000686</td>\n",
       "      <td>1.82</td>\n",
       "      <td>0.00281</td>\n",
       "      <td>0.00631</td>\n",
       "    </tr>\n",
       "    <tr>\n",
       "      <th>1</th>\n",
       "      <td>N-Methyl-Aspartic acid</td>\n",
       "      <td>MeAsp</td>\n",
       "      <td>InChI=1S/C5H9NO4/c1-6-3(5(9)10)2-4(7)8/h3,6H,2...</td>\n",
       "      <td>148</td>\n",
       "      <td>114</td>\n",
       "      <td>-2.58</td>\n",
       "      <td>0.000348</td>\n",
       "      <td>0.71</td>\n",
       "      <td>0.00842</td>\n",
       "      <td>0.00667</td>\n",
       "    </tr>\n",
       "    <tr>\n",
       "      <th>2</th>\n",
       "      <td>3-Methyl-L-Histidine</td>\n",
       "      <td>MeHis</td>\n",
       "      <td>InChI=1S/C7H11N3O2/c1-10-4-9-3-5(10)2-6(8)7(11...</td>\n",
       "      <td>170</td>\n",
       "      <td>144</td>\n",
       "      <td>-2.94</td>\n",
       "      <td>0.000620</td>\n",
       "      <td>1.49</td>\n",
       "      <td>0.01400</td>\n",
       "      <td>0.02280</td>\n",
       "    </tr>\n",
       "    <tr>\n",
       "      <th>3</th>\n",
       "      <td>L-Theanine</td>\n",
       "      <td>Thea</td>\n",
       "      <td>InChI=1S/C7H14N2O3/c1-2-9-6(10)4-3-5(8)7(11)12...</td>\n",
       "      <td>175</td>\n",
       "      <td>150</td>\n",
       "      <td>-2.56</td>\n",
       "      <td>0.000304</td>\n",
       "      <td>0.73</td>\n",
       "      <td>0.02320</td>\n",
       "      <td>0.02190</td>\n",
       "    </tr>\n",
       "    <tr>\n",
       "      <th>4</th>\n",
       "      <td>L-Citrulline</td>\n",
       "      <td>Cit</td>\n",
       "      <td>InChI=1S/C6H13N3O3/c7-4(5(10)11)2-1-3-9-6(8)12...</td>\n",
       "      <td>176</td>\n",
       "      <td>140</td>\n",
       "      <td>-3.19</td>\n",
       "      <td>0.000314</td>\n",
       "      <td>0.83</td>\n",
       "      <td>0.01160</td>\n",
       "      <td>0.01600</td>\n",
       "    </tr>\n",
       "    <tr>\n",
       "      <th>5</th>\n",
       "      <td>O-Propionyl-L-Carnitine</td>\n",
       "      <td>C3</td>\n",
       "      <td>InChI=1S/C10H19NO4/c1-5-10(14)15-8(6-9(12)13)7...</td>\n",
       "      <td>218</td>\n",
       "      <td>214</td>\n",
       "      <td>-1.92</td>\n",
       "      <td>0.000256</td>\n",
       "      <td>1.00</td>\n",
       "      <td>0.05230</td>\n",
       "      <td>0.05740</td>\n",
       "    </tr>\n",
       "    <tr>\n",
       "      <th>6</th>\n",
       "      <td>L-Carnosine</td>\n",
       "      <td>Carn</td>\n",
       "      <td>InChI=1S/C9H14N4O3/c10-2-1-8(14)13-7(9(15)16)3...</td>\n",
       "      <td>227</td>\n",
       "      <td>182</td>\n",
       "      <td>-2.89</td>\n",
       "      <td>0.000550</td>\n",
       "      <td>1.92</td>\n",
       "      <td>0.01910</td>\n",
       "      <td>0.03030</td>\n",
       "    </tr>\n",
       "    <tr>\n",
       "      <th>7</th>\n",
       "      <td>O-Butyryl-L-Carnitine</td>\n",
       "      <td>C4</td>\n",
       "      <td>InChI=1S/C11H21NO4/c1-5-6-11(15)16-9(7-10(13)1...</td>\n",
       "      <td>232</td>\n",
       "      <td>234</td>\n",
       "      <td>-1.73</td>\n",
       "      <td>0.000246</td>\n",
       "      <td>1.00</td>\n",
       "      <td>0.06660</td>\n",
       "      <td>0.06030</td>\n",
       "    </tr>\n",
       "    <tr>\n",
       "      <th>8</th>\n",
       "      <td>1-Methyl-Adenosine</td>\n",
       "      <td>MeA</td>\n",
       "      <td>InChI=1S/C11H15N5O4/c1-15-3-14-10-6(9(15)12)13...</td>\n",
       "      <td>286</td>\n",
       "      <td>228</td>\n",
       "      <td>-1.82</td>\n",
       "      <td>0.000248</td>\n",
       "      <td>1.00</td>\n",
       "      <td>0.05240</td>\n",
       "      <td>0.05110</td>\n",
       "    </tr>\n",
       "    <tr>\n",
       "      <th>9</th>\n",
       "      <td>O-Octoyl-L-Carnitine</td>\n",
       "      <td>C8</td>\n",
       "      <td>InChI=1S/C15H29NO4/c1-5-6-7-8-9-10-15(19)20-13...</td>\n",
       "      <td>288</td>\n",
       "      <td>313</td>\n",
       "      <td>-0.64</td>\n",
       "      <td>0.000214</td>\n",
       "      <td>1.00</td>\n",
       "      <td>0.07780</td>\n",
       "      <td>0.09750</td>\n",
       "    </tr>\n",
       "  </tbody>\n",
       "</table>\n",
       "</div>"
      ],
      "text/plain": [
       "                      Name Short Name  \\\n",
       "0              L-Ornithine        Orn   \n",
       "1   N-Methyl-Aspartic acid      MeAsp   \n",
       "2    3-Methyl-L-Histidine       MeHis   \n",
       "3              L-Theanine        Thea   \n",
       "4             L-Citrulline        Cit   \n",
       "5  O-Propionyl-L-Carnitine         C3   \n",
       "6             L-Carnosine        Carn   \n",
       "7   O-Butyryl-L-Carnitine          C4   \n",
       "8       1-Methyl-Adenosine        MeA   \n",
       "9     O-Octoyl-L-Carnitine         C8   \n",
       "\n",
       "                                               InChI  MH+   MV  logD  \\\n",
       "0  InChI=1S/C5H12N2O2/c6-3-1-2-4(7)5(8)9/h4H,1-3,...  133  113 -4.22   \n",
       "1  InChI=1S/C5H9NO4/c1-6-3(5(9)10)2-4(7)8/h3,6H,2...  148  114 -2.58   \n",
       "2  InChI=1S/C7H11N3O2/c1-10-4-9-3-5(10)2-6(8)7(11...  170  144 -2.94   \n",
       "3  InChI=1S/C7H14N2O3/c1-2-9-6(10)4-3-5(8)7(11)12...  175  150 -2.56   \n",
       "4  InChI=1S/C6H13N3O3/c7-4(5(10)11)2-1-3-9-6(8)12...  176  140 -3.19   \n",
       "5  InChI=1S/C10H19NO4/c1-5-10(14)15-8(6-9(12)13)7...  218  214 -1.92   \n",
       "6  InChI=1S/C9H14N4O3/c10-2-1-8(14)13-7(9(15)16)3...  227  182 -2.89   \n",
       "7  InChI=1S/C11H21NO4/c1-5-6-11(15)16-9(7-10(13)1...  232  234 -1.73   \n",
       "8  InChI=1S/C11H15N5O4/c1-15-3-14-10-6(9(15)12)13...  286  228 -1.82   \n",
       "9  InChI=1S/C15H29NO4/c1-5-6-7-8-9-10-15(19)20-13...  288  313 -0.64   \n",
       "\n",
       "    abs_mob  zeff  RRF_Measured  RRF_Predicted  \n",
       "0  0.000686  1.82       0.00281        0.00631  \n",
       "1  0.000348  0.71       0.00842        0.00667  \n",
       "2  0.000620  1.49       0.01400        0.02280  \n",
       "3  0.000304  0.73       0.02320        0.02190  \n",
       "4  0.000314  0.83       0.01160        0.01600  \n",
       "5  0.000256  1.00       0.05230        0.05740  \n",
       "6  0.000550  1.92       0.01910        0.03030  \n",
       "7  0.000246  1.00       0.06660        0.06030  \n",
       "8  0.000248  1.00       0.05240        0.05110  \n",
       "9  0.000214  1.00       0.07780        0.09750  "
      ]
     },
     "execution_count": 35,
     "metadata": {},
     "output_type": "execute_result"
    }
   ],
   "source": [
    "df_TS3 = pd.read_csv('../data/TableS3_training.csv', keep_default_na=False)\n",
    "\n",
    "df_TS3['RRF_Measured'] = df_TS3['RRF_Measured'] * 1e-2\n",
    "df_TS3['RRF_Predicted'] = df_TS3['RRF_Predicted'] * 1e-2\n",
    "\n",
    "df_TS3"
   ]
  },
  {
   "cell_type": "code",
   "execution_count": 36,
   "metadata": {
    "collapsed": true
   },
   "outputs": [],
   "source": [
    "X_TS3 = df_TS3[['MV', 'logD', 'abs_mob']]"
   ]
  },
  {
   "cell_type": "code",
   "execution_count": 37,
   "metadata": {
    "collapsed": false
   },
   "outputs": [],
   "source": [
    "predictions3 = Series(np.ravel(regr.predict(X_TS3)), name='Predictions')"
   ]
  },
  {
   "cell_type": "code",
   "execution_count": 38,
   "metadata": {
    "collapsed": false
   },
   "outputs": [
    {
     "data": {
      "text/html": [
       "<div>\n",
       "<table border=\"1\" class=\"dataframe\">\n",
       "  <thead>\n",
       "    <tr style=\"text-align: right;\">\n",
       "      <th></th>\n",
       "      <th>Short Name</th>\n",
       "      <th>RRF_Measured</th>\n",
       "      <th>RRF_Predicted</th>\n",
       "      <th>Predictions</th>\n",
       "      <th>Diff</th>\n",
       "    </tr>\n",
       "  </thead>\n",
       "  <tbody>\n",
       "    <tr>\n",
       "      <th>0</th>\n",
       "      <td>Orn</td>\n",
       "      <td>0.00281</td>\n",
       "      <td>0.00631</td>\n",
       "      <td>0.006562</td>\n",
       "      <td>0.000252</td>\n",
       "    </tr>\n",
       "    <tr>\n",
       "      <th>1</th>\n",
       "      <td>MeAsp</td>\n",
       "      <td>0.00842</td>\n",
       "      <td>0.00667</td>\n",
       "      <td>0.006683</td>\n",
       "      <td>0.000013</td>\n",
       "    </tr>\n",
       "    <tr>\n",
       "      <th>2</th>\n",
       "      <td>MeHis</td>\n",
       "      <td>0.01400</td>\n",
       "      <td>0.02280</td>\n",
       "      <td>0.022734</td>\n",
       "      <td>-0.000066</td>\n",
       "    </tr>\n",
       "    <tr>\n",
       "      <th>3</th>\n",
       "      <td>Thea</td>\n",
       "      <td>0.02320</td>\n",
       "      <td>0.02190</td>\n",
       "      <td>0.021936</td>\n",
       "      <td>0.000036</td>\n",
       "    </tr>\n",
       "    <tr>\n",
       "      <th>4</th>\n",
       "      <td>Cit</td>\n",
       "      <td>0.01160</td>\n",
       "      <td>0.01600</td>\n",
       "      <td>0.015969</td>\n",
       "      <td>-0.000031</td>\n",
       "    </tr>\n",
       "    <tr>\n",
       "      <th>5</th>\n",
       "      <td>C3</td>\n",
       "      <td>0.05230</td>\n",
       "      <td>0.05740</td>\n",
       "      <td>0.051123</td>\n",
       "      <td>-0.006277</td>\n",
       "    </tr>\n",
       "    <tr>\n",
       "      <th>6</th>\n",
       "      <td>Carn</td>\n",
       "      <td>0.01910</td>\n",
       "      <td>0.03030</td>\n",
       "      <td>0.038579</td>\n",
       "      <td>0.008279</td>\n",
       "    </tr>\n",
       "    <tr>\n",
       "      <th>7</th>\n",
       "      <td>C4</td>\n",
       "      <td>0.06660</td>\n",
       "      <td>0.06030</td>\n",
       "      <td>0.060287</td>\n",
       "      <td>-0.000013</td>\n",
       "    </tr>\n",
       "    <tr>\n",
       "      <th>8</th>\n",
       "      <td>MeA</td>\n",
       "      <td>0.05240</td>\n",
       "      <td>0.05110</td>\n",
       "      <td>0.057434</td>\n",
       "      <td>0.006334</td>\n",
       "    </tr>\n",
       "    <tr>\n",
       "      <th>9</th>\n",
       "      <td>C8</td>\n",
       "      <td>0.07780</td>\n",
       "      <td>0.09750</td>\n",
       "      <td>0.097517</td>\n",
       "      <td>0.000017</td>\n",
       "    </tr>\n",
       "  </tbody>\n",
       "</table>\n",
       "</div>"
      ],
      "text/plain": [
       "  Short Name  RRF_Measured  RRF_Predicted  Predictions      Diff\n",
       "0        Orn       0.00281        0.00631     0.006562  0.000252\n",
       "1      MeAsp       0.00842        0.00667     0.006683  0.000013\n",
       "2      MeHis       0.01400        0.02280     0.022734 -0.000066\n",
       "3       Thea       0.02320        0.02190     0.021936  0.000036\n",
       "4        Cit       0.01160        0.01600     0.015969 -0.000031\n",
       "5         C3       0.05230        0.05740     0.051123 -0.006277\n",
       "6       Carn       0.01910        0.03030     0.038579  0.008279\n",
       "7         C4       0.06660        0.06030     0.060287 -0.000013\n",
       "8        MeA       0.05240        0.05110     0.057434  0.006334\n",
       "9         C8       0.07780        0.09750     0.097517  0.000017"
      ]
     },
     "execution_count": 38,
     "metadata": {},
     "output_type": "execute_result"
    }
   ],
   "source": [
    "data3 = pd.concat([df_TS3, predictions3], axis=1)\n",
    "\n",
    "data3['Diff'] = (data3['Predictions'] - data3['RRF_Predicted'])\n",
    "\n",
    "data3[['Short Name', 'RRF_Measured' ,'RRF_Predicted', 'Predictions', 'Diff']]"
   ]
  },
  {
   "cell_type": "code",
   "execution_count": 39,
   "metadata": {
    "collapsed": false
   },
   "outputs": [
    {
     "data": {
      "image/png": "[encoded data removed]",
      "text/plain": [
       "<matplotlib.figure.Figure at 0x10e80c310>"
      ]
     },
     "metadata": {},
     "output_type": "display_data"
    }
   ],
   "source": [
    "figsize(15, 5)\n",
    "plt.bar(data3.index, data3['Diff'])\n",
    "plt.grid(True)\n",
    "plt.ylim([-0.01, 0.01])\n",
    "plt.title('Difference between RRF_Predicted and our predictions')\n",
    "plt.show()"
   ]
  },
  {
   "cell_type": "markdown",
   "metadata": {},
   "source": [
    "# This doesn't look right...\n",
    "# Let's try exactly with their model"
   ]
  },
  {
   "cell_type": "code",
   "execution_count": 40,
   "metadata": {
    "collapsed": false
   },
   "outputs": [],
   "source": [
    "paper_model = np.array([4.40e-4, 2.7e-3, 14, -4.14e-2])"
   ]
  },
  {
   "cell_type": "markdown",
   "metadata": {},
   "source": [
    "# Making predictions on Table S3 using the model from the paper"
   ]
  },
  {
   "cell_type": "code",
   "execution_count": 41,
   "metadata": {
    "collapsed": false
   },
   "outputs": [
    {
     "data": {
      "text/html": [
       "<div>\n",
       "<table border=\"1\" class=\"dataframe\">\n",
       "  <thead>\n",
       "    <tr style=\"text-align: right;\">\n",
       "      <th></th>\n",
       "      <th>Short Name</th>\n",
       "      <th>RRF_Measured</th>\n",
       "      <th>RRF_Predicted</th>\n",
       "      <th>Predictions</th>\n",
       "      <th>Diff</th>\n",
       "    </tr>\n",
       "  </thead>\n",
       "  <tbody>\n",
       "    <tr>\n",
       "      <th>0</th>\n",
       "      <td>Orn</td>\n",
       "      <td>0.00281</td>\n",
       "      <td>0.00631</td>\n",
       "      <td>0.006530</td>\n",
       "      <td>0.000220</td>\n",
       "    </tr>\n",
       "    <tr>\n",
       "      <th>1</th>\n",
       "      <td>MeAsp</td>\n",
       "      <td>0.00842</td>\n",
       "      <td>0.00667</td>\n",
       "      <td>0.006666</td>\n",
       "      <td>-0.000004</td>\n",
       "    </tr>\n",
       "    <tr>\n",
       "      <th>2</th>\n",
       "      <td>MeHis</td>\n",
       "      <td>0.01400</td>\n",
       "      <td>0.02280</td>\n",
       "      <td>0.022702</td>\n",
       "      <td>-0.000098</td>\n",
       "    </tr>\n",
       "    <tr>\n",
       "      <th>3</th>\n",
       "      <td>Thea</td>\n",
       "      <td>0.02320</td>\n",
       "      <td>0.02190</td>\n",
       "      <td>0.021944</td>\n",
       "      <td>0.000044</td>\n",
       "    </tr>\n",
       "    <tr>\n",
       "      <th>4</th>\n",
       "      <td>Cit</td>\n",
       "      <td>0.01160</td>\n",
       "      <td>0.01600</td>\n",
       "      <td>0.015983</td>\n",
       "      <td>-0.000017</td>\n",
       "    </tr>\n",
       "    <tr>\n",
       "      <th>5</th>\n",
       "      <td>C3</td>\n",
       "      <td>0.05230</td>\n",
       "      <td>0.05740</td>\n",
       "      <td>0.051160</td>\n",
       "      <td>-0.006240</td>\n",
       "    </tr>\n",
       "    <tr>\n",
       "      <th>6</th>\n",
       "      <td>Carn</td>\n",
       "      <td>0.01910</td>\n",
       "      <td>0.03030</td>\n",
       "      <td>0.038577</td>\n",
       "      <td>0.008277</td>\n",
       "    </tr>\n",
       "    <tr>\n",
       "      <th>7</th>\n",
       "      <td>C4</td>\n",
       "      <td>0.06660</td>\n",
       "      <td>0.06030</td>\n",
       "      <td>0.060333</td>\n",
       "      <td>0.000033</td>\n",
       "    </tr>\n",
       "    <tr>\n",
       "      <th>8</th>\n",
       "      <td>MeA</td>\n",
       "      <td>0.05240</td>\n",
       "      <td>0.05110</td>\n",
       "      <td>0.057478</td>\n",
       "      <td>0.006378</td>\n",
       "    </tr>\n",
       "    <tr>\n",
       "      <th>9</th>\n",
       "      <td>C8</td>\n",
       "      <td>0.07780</td>\n",
       "      <td>0.09750</td>\n",
       "      <td>0.097588</td>\n",
       "      <td>0.000088</td>\n",
       "    </tr>\n",
       "  </tbody>\n",
       "</table>\n",
       "</div>"
      ],
      "text/plain": [
       "  Short Name  RRF_Measured  RRF_Predicted  Predictions      Diff\n",
       "0        Orn       0.00281        0.00631     0.006530  0.000220\n",
       "1      MeAsp       0.00842        0.00667     0.006666 -0.000004\n",
       "2      MeHis       0.01400        0.02280     0.022702 -0.000098\n",
       "3       Thea       0.02320        0.02190     0.021944  0.000044\n",
       "4        Cit       0.01160        0.01600     0.015983 -0.000017\n",
       "5         C3       0.05230        0.05740     0.051160 -0.006240\n",
       "6       Carn       0.01910        0.03030     0.038577  0.008277\n",
       "7         C4       0.06660        0.06030     0.060333  0.000033\n",
       "8        MeA       0.05240        0.05110     0.057478  0.006378\n",
       "9         C8       0.07780        0.09750     0.097588  0.000088"
      ]
     },
     "execution_count": 41,
     "metadata": {},
     "output_type": "execute_result"
    }
   ],
   "source": [
    "predictions3 = Series(np.dot(paper_model, np.column_stack((X_TS3, np.ones(len(X_TS3)))).T), name='Predictions')\n",
    "\n",
    "data3 = pd.concat([df_TS3, predictions3], axis=1)\n",
    "\n",
    "data3['Diff'] = (data3['Predictions'] - data3['RRF_Predicted'])\n",
    "\n",
    "data3[['Short Name', 'RRF_Measured' ,'RRF_Predicted', 'Predictions', 'Diff']]"
   ]
  },
  {
   "cell_type": "code",
   "execution_count": 42,
   "metadata": {
    "collapsed": false,
    "scrolled": true
   },
   "outputs": [
    {
     "data": {
      "image/png": "[encoded data removed]",
      "text/plain": [
       "<matplotlib.figure.Figure at 0x10e45f550>"
      ]
     },
     "metadata": {},
     "output_type": "display_data"
    }
   ],
   "source": [
    "figsize(15, 5)\n",
    "plt.bar(data3.index, data3['Diff'])\n",
    "plt.ylim([-0.01, 0.01])\n",
    "plt.grid(True)\n",
    "plt.title('Difference between RRF_Predicted and our predictions')\n",
    "plt.show()"
   ]
  },
  {
   "cell_type": "markdown",
   "metadata": {},
   "source": [
    "**Even the model from the paper doesn't produce the exact same results**\n",
    "\n",
    "**Probably the data reported in the supporting materials is rounded...**"
   ]
  },
  {
   "cell_type": "code",
   "execution_count": null,
   "metadata": {
    "collapsed": true
   },
   "outputs": [],
   "source": []
  }
 ],
 "metadata": {
  "kernelspec": {
   "display_name": "Python 2",
   "language": "python",
   "name": "python2"
  },
  "language_info": {
   "codemirror_mode": {
    "name": "ipython",
    "version": 2
   },
   "file_extension": ".py",
   "mimetype": "text/x-python",
   "name": "python",
   "nbconvert_exporter": "python",
   "pygments_lexer": "ipython2",
   "version": "2.7.10"
  }
 },
 "nbformat": 4,
 "nbformat_minor": 0
}
