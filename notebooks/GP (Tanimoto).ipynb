{
 "cells": [
  {
   "cell_type": "markdown",
   "metadata": {},
   "source": [
    "# Gaussian Process using Tanimoto kernel"
   ]
  },
  {
   "cell_type": "code",
   "execution_count": 1,
   "metadata": {
    "collapsed": false
   },
   "outputs": [],
   "source": [
    "from __future__ import division\n",
    "from __future__ import print_function\n",
    "import os\n",
    "import numpy as np\n",
    "import pandas as pd\n",
    "import matplotlib.pyplot as plt\n",
    "from rdkit import Chem\n",
    "from rpy2 import robjects\n",
    "from rpy2.robjects.packages import importr\n",
    "from pandas import Series, DataFrame\n",
    "from sklearn.decomposition import PCA\n",
    "from sklearn.metrics import explained_variance_score\n",
    "from sklearn.metrics import mean_absolute_error\n",
    "from sklearn.metrics import r2_score\n",
    "from IPython.core.pylabtools import figsize\n",
    "\n",
    "np.set_printoptions(formatter={'float': '{: 0.3f}'.format})\n",
    "\n",
    "%matplotlib inline\n",
    "figsize(16, 8)"
   ]
  },
  {
   "cell_type": "markdown",
   "metadata": {},
   "source": [
    "# Load and adjust data"
   ]
  },
  {
   "cell_type": "code",
   "execution_count": 2,
   "metadata": {
    "collapsed": true
   },
   "outputs": [],
   "source": [
    "df_train = pd.read_csv('../data/TableS2_training_pubchem.csv', keep_default_na=False)\n",
    "df_TS3 = pd.read_csv('../data/TableS3_training_pubchem.csv', keep_default_na=False)\n",
    "\n",
    "df_train = df_train[df_train['Annotation'] == '']\n",
    "df_train['RRF_Measured'] = df_train['RRF_Measured'] * 1e-2\n",
    "df_train['RRF_Predicted'] = df_train['RRF_Predicted'] * 1e-2\n",
    "\n",
    "df_TS3['RRF_Measured'] = df_TS3['RRF_Measured'] * 1e-2\n",
    "df_TS3['RRF_Predicted'] = df_TS3['RRF_Predicted'] * 1e-2"
   ]
  },
  {
   "cell_type": "code",
   "execution_count": 3,
   "metadata": {
    "collapsed": false
   },
   "outputs": [],
   "source": [
    "df_train = df_train[['Name', 'Short Name', 'InChI', 'RRF_Measured', 'RRF_Predicted']]\n",
    "df_TS3 = df_TS3[['Name', 'Short Name', 'InChI', 'RRF_Measured', 'RRF_Predicted']]"
   ]
  },
  {
   "cell_type": "code",
   "execution_count": 4,
   "metadata": {
    "collapsed": false
   },
   "outputs": [],
   "source": [
    "# Create SDF files that will be used for the kernels\n",
    "for df, file_name in zip([df_train, df_TS3], ['train.sdf', 'test.sdf']):\n",
    "    df['mol'] = df['InChI'].apply(lambda x: Chem.MolFromInchi(x))\n",
    "\n",
    "    w = Chem.SDWriter('../data/' + file_name)\n",
    "    try:\n",
    "        for mol in df['mol']:\n",
    "            w.write(mol)\n",
    "        w.flush()\n",
    "    finally:\n",
    "        w.close()"
   ]
  },
  {
   "cell_type": "code",
   "execution_count": 5,
   "metadata": {
    "collapsed": false
   },
   "outputs": [],
   "source": [
    "train_sdf_path = os.path.abspath('../data/train.sdf')\n",
    "test_sdf_path = os.path.abspath('../data/test.sdf')"
   ]
  },
  {
   "cell_type": "code",
   "execution_count": 6,
   "metadata": {
    "collapsed": false
   },
   "outputs": [],
   "source": [
    "# Import RChemCpp\n",
    "rchemcpp = importr(\"Rchemcpp\")"
   ]
  },
  {
   "cell_type": "code",
   "execution_count": 7,
   "metadata": {
    "collapsed": false
   },
   "outputs": [
    {
     "name": "stdout",
     "output_type": "stream",
     "text": [
      "[1] \"setting morgan labels  0\"\n",
      "[1] \"#### initialization Gram OK\"\n",
      "atom type no 1 ; atomic number =  C \n",
      "atom type no 2 ; atomic number =  N \n",
      "atom type no 3 ; atomic number =  O \n",
      "atom type no 4 ; atomic number =  S \n",
      "atom type no 5 ; atomic number =  Cl\n",
      "bond type no 1 ; bond type = 1\n",
      "bond type no 2 ; bond type = 2\n",
      " \t finding paths starting from atoms labeled =  C \n",
      " \t finding paths starting from atoms labeled =  N \n",
      " \t finding paths starting from atoms labeled =  O \n",
      " \t finding paths starting from atoms labeled =  S \n",
      " \t finding paths starting from atoms labeled =  Cl\n",
      "gramComputeSpectrum (self) OK\n",
      "[1] \"gramComputeSpectrum (self) OK\"\n",
      "[1] \"normalize gram (self) OK\"\n",
      "[1] \"setting morgan labels  0\"\n",
      "[1] \"#### initialization Gram OK\"\n",
      "atom type no 1 ; atomic number =  C \n",
      "atom type no 2 ; atomic number =  N \n",
      "atom type no 3 ; atomic number =  O \n",
      "atom type no 4 ; atomic number =  S \n",
      "atom type no 5 ; atomic number =  Cl\n",
      "bond type no 1 ; bond type = 1\n",
      "bond type no 2 ; bond type = 2\n",
      "\t - finding paths starting from atoms labeled =  C \n",
      "\t - finding paths starting from atoms labeled =  N \n",
      "\t - finding paths starting from atoms labeled =  O \n",
      "\t - finding paths starting from atoms labeled =  S \n",
      "\t - finding paths starting from atoms labeled =  Cl\n",
      "gramComputeSpectrum (test) OK\n",
      "[1] \"gramComputeSpectrum (test) OK\"\n",
      "[1] \"normalize gram (test) OK\"\n",
      "[1] \"setting morgan labels  0\"\n",
      "[1] \"#### initialization Gram OK\"\n",
      "atom type no 1 ; atomic number =  C \n",
      "atom type no 2 ; atomic number =  N \n",
      "atom type no 3 ; atomic number =  O \n",
      "bond type no 1 ; bond type = 1\n",
      "bond type no 2 ; bond type = 2\n",
      " \t finding paths starting from atoms labeled =  C \n",
      " \t finding paths starting from atoms labeled =  N \n",
      " \t finding paths starting from atoms labeled =  O \n",
      "gramComputeSpectrum (self) OK\n",
      "[1] \"gramComputeSpectrum (self) OK\"\n",
      "[1] \"normalize gram (self) OK\"\n"
     ]
    }
   ],
   "source": [
    "kernelType = 'tanimoto' # other option: minmaxTanimoto\n",
    "rK = rchemcpp.sd2gramSpectrum(train_sdf_path, kernelType=kernelType)\n",
    "rKx = rchemcpp.sd2gramSpectrum(train_sdf_path, test_sdf_path, kernelType=kernelType)\n",
    "rK_ = rchemcpp.sd2gramSpectrum(test_sdf_path, kernelType=kernelType)"
   ]
  },
  {
   "cell_type": "code",
   "execution_count": 8,
   "metadata": {
    "collapsed": true
   },
   "outputs": [],
   "source": [
    "K = np.array(rK)\n",
    "Kx = np.array(rKx)\n",
    "K_ = np.array(rK_)"
   ]
  },
  {
   "cell_type": "markdown",
   "metadata": {},
   "source": [
    "# GP"
   ]
  },
  {
   "cell_type": "code",
   "execution_count": 9,
   "metadata": {
    "collapsed": true
   },
   "outputs": [],
   "source": [
    "y_train = df_train['RRF_Measured']"
   ]
  },
  {
   "cell_type": "code",
   "execution_count": 10,
   "metadata": {
    "collapsed": false
   },
   "outputs": [],
   "source": [
    "s = 0.00005 # noise variance.\n",
    "\n",
    "L = np.linalg.cholesky(K + s * np.eye(np.size(K, axis=0)))\n",
    "\n",
    "# compute the mean at our test points.\n",
    "Lk = np.linalg.solve(L, Kx)\n",
    "mu = np.dot(Lk.T, np.linalg.solve(L, y_train))\n",
    "\n",
    "# compute the variance at our test points.\n",
    "s2 = np.diag(K_) - np.sum(Lk**2, axis=0)\n",
    "s = np.sqrt(s2)"
   ]
  },
  {
   "cell_type": "code",
   "execution_count": 11,
   "metadata": {
    "collapsed": false
   },
   "outputs": [
    {
     "data": {
      "text/html": [
       "<div>\n",
       "<table border=\"1\" class=\"dataframe\">\n",
       "  <thead>\n",
       "    <tr style=\"text-align: right;\">\n",
       "      <th></th>\n",
       "      <th>Name</th>\n",
       "      <th>RRF_Measured</th>\n",
       "      <th>Predicted</th>\n",
       "      <th>Scale</th>\n",
       "    </tr>\n",
       "  </thead>\n",
       "  <tbody>\n",
       "    <tr>\n",
       "      <th>0</th>\n",
       "      <td>L-Ornithine</td>\n",
       "      <td>0.00281</td>\n",
       "      <td>0.010614</td>\n",
       "      <td>0.003162</td>\n",
       "    </tr>\n",
       "    <tr>\n",
       "      <th>1</th>\n",
       "      <td>N-Methyl-Aspartic acid</td>\n",
       "      <td>0.00842</td>\n",
       "      <td>0.025349</td>\n",
       "      <td>0.234307</td>\n",
       "    </tr>\n",
       "    <tr>\n",
       "      <th>2</th>\n",
       "      <td>3-Methyl-L-Histidine</td>\n",
       "      <td>0.01400</td>\n",
       "      <td>0.014001</td>\n",
       "      <td>0.007070</td>\n",
       "    </tr>\n",
       "    <tr>\n",
       "      <th>3</th>\n",
       "      <td>L-Theanine</td>\n",
       "      <td>0.02320</td>\n",
       "      <td>0.007672</td>\n",
       "      <td>0.528474</td>\n",
       "    </tr>\n",
       "    <tr>\n",
       "      <th>4</th>\n",
       "      <td>L-Citrulline</td>\n",
       "      <td>0.01160</td>\n",
       "      <td>0.021671</td>\n",
       "      <td>0.519554</td>\n",
       "    </tr>\n",
       "    <tr>\n",
       "      <th>5</th>\n",
       "      <td>O-Propionyl-L-Carnitine</td>\n",
       "      <td>0.05230</td>\n",
       "      <td>0.055796</td>\n",
       "      <td>0.007070</td>\n",
       "    </tr>\n",
       "    <tr>\n",
       "      <th>6</th>\n",
       "      <td>L-Carnosine</td>\n",
       "      <td>0.01910</td>\n",
       "      <td>0.015963</td>\n",
       "      <td>0.465083</td>\n",
       "    </tr>\n",
       "    <tr>\n",
       "      <th>7</th>\n",
       "      <td>O-Butyryl-L-Carnitine</td>\n",
       "      <td>0.06660</td>\n",
       "      <td>0.055796</td>\n",
       "      <td>0.007070</td>\n",
       "    </tr>\n",
       "    <tr>\n",
       "      <th>8</th>\n",
       "      <td>1-Methyl-Adenosine</td>\n",
       "      <td>0.05240</td>\n",
       "      <td>0.028843</td>\n",
       "      <td>0.397879</td>\n",
       "    </tr>\n",
       "    <tr>\n",
       "      <th>9</th>\n",
       "      <td>O-Octoyl-L-Carnitine</td>\n",
       "      <td>0.07780</td>\n",
       "      <td>0.055796</td>\n",
       "      <td>0.007070</td>\n",
       "    </tr>\n",
       "  </tbody>\n",
       "</table>\n",
       "</div>"
      ],
      "text/plain": [
       "                      Name  RRF_Measured  Predicted     Scale\n",
       "0              L-Ornithine       0.00281   0.010614  0.003162\n",
       "1   N-Methyl-Aspartic acid       0.00842   0.025349  0.234307\n",
       "2    3-Methyl-L-Histidine        0.01400   0.014001  0.007070\n",
       "3              L-Theanine        0.02320   0.007672  0.528474\n",
       "4             L-Citrulline       0.01160   0.021671  0.519554\n",
       "5  O-Propionyl-L-Carnitine       0.05230   0.055796  0.007070\n",
       "6             L-Carnosine        0.01910   0.015963  0.465083\n",
       "7   O-Butyryl-L-Carnitine        0.06660   0.055796  0.007070\n",
       "8       1-Methyl-Adenosine       0.05240   0.028843  0.397879\n",
       "9     O-Octoyl-L-Carnitine       0.07780   0.055796  0.007070"
      ]
     },
     "execution_count": 11,
     "metadata": {},
     "output_type": "execute_result"
    }
   ],
   "source": [
    "df_results = DataFrame({'Predicted': mu, 'Scale': s}, index=df_TS3.index)\n",
    "df_results = pd.concat([df_TS3[['Name', 'RRF_Measured']], df_results], axis=1)\n",
    "\n",
    "df_results"
   ]
  },
  {
   "cell_type": "code",
   "execution_count": 12,
   "metadata": {
    "collapsed": false,
    "scrolled": false
   },
   "outputs": [
    {
     "data": {
      "image/png": "[encoded data removed]",
      "text/plain": [
       "<matplotlib.figure.Figure at 0x11666b910>"
      ]
     },
     "metadata": {},
     "output_type": "display_data"
    }
   ],
   "source": [
    "y_true, y_pred_new = df_results['RRF_Measured'], df_results['Predicted']\n",
    "\n",
    "r2 = r2_score(y_true, y_pred_new)\n",
    "\n",
    "plt.clf()\n",
    "plt.xlabel('Measured')\n",
    "plt.ylabel('New Predicted')\n",
    "plt.scatter(y_true, y_pred_new)\n",
    "plt.errorbar(y_true, y_pred_new, yerr=s, fmt='o')\n",
    "plt.plot([0, 0.1], [0, 0.1], 'r--', linewidth=.3)\n",
    "plt.grid(True)\n",
    "plt.title('New Model $R^2$={:.4f}'.format(r2))\n",
    "\n",
    "plt.show()"
   ]
  },
  {
   "cell_type": "markdown",
   "metadata": {},
   "source": [
    "**This model seems overfitted! There are no free parameters to tune.**"
   ]
  },
  {
   "cell_type": "markdown",
   "metadata": {},
   "source": [
    "# What the model looks like on the training data"
   ]
  },
  {
   "cell_type": "code",
   "execution_count": 13,
   "metadata": {
    "collapsed": false
   },
   "outputs": [
    {
     "name": "stdout",
     "output_type": "stream",
     "text": [
      "[1] \"setting morgan labels  0\"\n",
      "[1] \"#### initialization Gram OK\"\n",
      "atom type no 1 ; atomic number =  C \n",
      "atom type no 2 ; atomic number =  N \n",
      "atom type no 3 ; atomic number =  O \n",
      "atom type no 4 ; atomic number =  S \n",
      "atom type no 5 ; atomic number =  Cl\n",
      "bond type no 1 ; bond type = 1\n",
      "bond type no 2 ; bond type = 2\n",
      " \t finding paths starting from atoms labeled =  C \n",
      " \t finding paths starting from atoms labeled =  N \n",
      " \t finding paths starting from atoms labeled =  O \n",
      " \t finding paths starting from atoms labeled =  S \n",
      " \t finding paths starting from atoms labeled =  Cl\n",
      "gramComputeSpectrum (self) OK\n",
      "[1] \"gramComputeSpectrum (self) OK\"\n",
      "[1] \"normalize gram (self) OK\"\n",
      "[1] \"setting morgan labels  0\"\n",
      "[1] \"#### initialization Gram OK\"\n",
      "atom type no 1 ; atomic number =  C \n",
      "atom type no 2 ; atomic number =  N \n",
      "atom type no 3 ; atomic number =  O \n",
      "atom type no 4 ; atomic number =  S \n",
      "atom type no 5 ; atomic number =  Cl\n",
      "bond type no 1 ; bond type = 1\n",
      "bond type no 2 ; bond type = 2\n",
      "\t - finding paths starting from atoms labeled =  C \n",
      "\t - finding paths starting from atoms labeled =  N \n",
      "\t - finding paths starting from atoms labeled =  O \n",
      "\t - finding paths starting from atoms labeled =  S \n",
      "\t - finding paths starting from atoms labeled =  Cl\n",
      "gramComputeSpectrum (test) OK\n",
      "[1] \"gramComputeSpectrum (test) OK\"\n",
      "[1] \"normalize gram (test) OK\"\n"
     ]
    }
   ],
   "source": [
    "kernelType = 'tanimoto'\n",
    "rK = rchemcpp.sd2gramSpectrum(train_sdf_path, kernelType=kernelType)\n",
    "rKx = rchemcpp.sd2gramSpectrum(train_sdf_path, train_sdf_path, kernelType=kernelType)\n",
    "rK_ = rK # rchemcpp.sd2gramSpectrum(train_sdf_path, kernelType=kernelType)\n",
    "\n",
    "K = np.array(rK)\n",
    "Kx = np.array(rKx)\n",
    "K_ = np.array(rK_)"
   ]
  },
  {
   "cell_type": "code",
   "execution_count": 14,
   "metadata": {
    "collapsed": true
   },
   "outputs": [],
   "source": [
    "s = 0.00005 # noise variance.\n",
    "\n",
    "L = np.linalg.cholesky(K + s * np.eye(np.size(K, axis=0)))\n",
    "\n",
    "# compute the mean at our test points.\n",
    "Lk = np.linalg.solve(L, Kx)\n",
    "mu = np.dot(Lk.T, np.linalg.solve(L, df_train['RRF_Measured']))\n",
    "\n",
    "# compute the variance at our test points.\n",
    "s2 = np.diag(K_) - np.sum(Lk**2, axis=0)\n",
    "s = np.sqrt(s2)"
   ]
  },
  {
   "cell_type": "code",
   "execution_count": 15,
   "metadata": {
    "collapsed": false
   },
   "outputs": [
    {
     "data": {
      "text/html": [
       "<div>\n",
       "<table border=\"1\" class=\"dataframe\">\n",
       "  <thead>\n",
       "    <tr style=\"text-align: right;\">\n",
       "      <th></th>\n",
       "      <th>Name</th>\n",
       "      <th>RRF_Measured</th>\n",
       "      <th>Predicted</th>\n",
       "      <th>Scale</th>\n",
       "    </tr>\n",
       "  </thead>\n",
       "  <tbody>\n",
       "    <tr>\n",
       "      <th>3</th>\n",
       "      <td>Histamine</td>\n",
       "      <td>0.00111</td>\n",
       "      <td>0.001111</td>\n",
       "      <td>0.007071</td>\n",
       "    </tr>\n",
       "    <tr>\n",
       "      <th>5</th>\n",
       "      <td>L-Valine</td>\n",
       "      <td>0.00188</td>\n",
       "      <td>0.010614</td>\n",
       "      <td>0.003162</td>\n",
       "    </tr>\n",
       "    <tr>\n",
       "      <th>7</th>\n",
       "      <td>Nicotinamide</td>\n",
       "      <td>0.00322</td>\n",
       "      <td>0.003222</td>\n",
       "      <td>0.007071</td>\n",
       "    </tr>\n",
       "    <tr>\n",
       "      <th>8</th>\n",
       "      <td>Nicotinic acid</td>\n",
       "      <td>0.00250</td>\n",
       "      <td>0.002499</td>\n",
       "      <td>0.007070</td>\n",
       "    </tr>\n",
       "    <tr>\n",
       "      <th>9</th>\n",
       "      <td>L-Leucine</td>\n",
       "      <td>0.01610</td>\n",
       "      <td>0.010614</td>\n",
       "      <td>0.003162</td>\n",
       "    </tr>\n",
       "  </tbody>\n",
       "</table>\n",
       "</div>"
      ],
      "text/plain": [
       "             Name  RRF_Measured  Predicted     Scale\n",
       "3       Histamine       0.00111   0.001111  0.007071\n",
       "5        L-Valine       0.00188   0.010614  0.003162\n",
       "7    Nicotinamide       0.00322   0.003222  0.007071\n",
       "8  Nicotinic acid       0.00250   0.002499  0.007070\n",
       "9       L-Leucine       0.01610   0.010614  0.003162"
      ]
     },
     "execution_count": 15,
     "metadata": {},
     "output_type": "execute_result"
    }
   ],
   "source": [
    "df_results2 = DataFrame({'Predicted': mu, 'Scale': s}, index=df_train.index)\n",
    "df_results2 = pd.concat([df_train[['Name', 'RRF_Measured']], df_results2], axis=1)\n",
    "\n",
    "df_results2.head()"
   ]
  },
  {
   "cell_type": "code",
   "execution_count": 16,
   "metadata": {
    "collapsed": false
   },
   "outputs": [
    {
     "data": {
      "image/png": "[encoded data removed]",
      "text/plain": [
       "<matplotlib.figure.Figure at 0x119e30910>"
      ]
     },
     "metadata": {},
     "output_type": "display_data"
    }
   ],
   "source": [
    "y_true, y_pred_new = df_results2['RRF_Measured'], df_results2['Predicted']\n",
    "\n",
    "r2 = r2_score(y_true, y_pred_new)\n",
    "\n",
    "plt.clf()\n",
    "plt.xlabel('Measured')\n",
    "plt.ylabel('New Predicted')\n",
    "plt.scatter(y_true, y_pred_new)\n",
    "plt.errorbar(y_true, y_pred_new, yerr=s, fmt='o')\n",
    "plt.plot([0, 0.1], [0, 0.1], 'r--', linewidth=.3)\n",
    "plt.grid(True)\n",
    "plt.title('New Model $R^2$={:.4f}'.format(r2))\n",
    "\n",
    "plt.show()"
   ]
  }
 ],
 "metadata": {
  "kernelspec": {
   "display_name": "Python 2",
   "language": "python",
   "name": "python2"
  },
  "language_info": {
   "codemirror_mode": {
    "name": "ipython",
    "version": 2
   },
   "file_extension": ".py",
   "mimetype": "text/x-python",
   "name": "python",
   "nbconvert_exporter": "python",
   "pygments_lexer": "ipython2",
   "version": "2.7.10"
  }
 },
 "nbformat": 4,
 "nbformat_minor": 0
}
