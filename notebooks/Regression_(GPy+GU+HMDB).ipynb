{
 "cells": [
  {
   "cell_type": "code",
   "execution_count": 1,
   "metadata": {
    "collapsed": false
   },
   "outputs": [],
   "source": [
    "from __future__ import print_function\n",
    "from __future__ import division\n",
    "import numpy as np\n",
    "import pandas as pd\n",
    "import matplotlib.pyplot as plt\n",
    "import GPy\n",
    "from pandas import Series, DataFrame\n",
    "from sklearn.metrics import r2_score\n",
    "from sklearn import cross_validation\n",
    "from IPython.core.pylabtools import figsize\n",
    "\n",
    "%matplotlib inline\n",
    "figsize(16, 8)"
   ]
  },
  {
   "cell_type": "markdown",
   "metadata": {},
   "source": [
    "# Load and adjust the data"
   ]
  },
  {
   "cell_type": "code",
   "execution_count": 2,
   "metadata": {
    "collapsed": false
   },
   "outputs": [],
   "source": [
    "df_std1 = pd.read_csv('../data/std1_mh_11_pubchem_hmdb.csv', keep_default_na=False)\n",
    "df_std2 = pd.read_csv('../data/std2_mh_11_pubchem_hmdb.csv', keep_default_na=False)\n",
    "\n",
    "df_std1.drop(0, axis=0, inplace=True)\n",
    "df_std1['JCHEM_ACIDIC_PKA'] = df_std1['JCHEM_ACIDIC_PKA'].astype(float)\n",
    "\n",
    "for df in [df_std1, df_std2]:\n",
    "    max_intensity = df['Dil_1_1'].max()\n",
    "    df['Dil_1_1'] = df['Dil_1_1'] / max_intensity\n",
    "    df['Dil_1_1'] = np.log(df['Dil_1_1'])"
   ]
  },
  {
   "cell_type": "markdown",
   "metadata": {},
   "source": [
    "# Data preparation"
   ]
  },
  {
   "cell_type": "code",
   "execution_count": 3,
   "metadata": {
    "collapsed": false
   },
   "outputs": [
    {
     "name": "stdout",
     "output_type": "stream",
     "text": [
      "Number of metabolites (training): 52\n",
      "Number of metabolites (testing): 39\n"
     ]
    }
   ],
   "source": [
    "# features = [\n",
    "#     u'JCHEM_ACIDIC_PKA',\n",
    "#     u'JCHEM_LOGP',\n",
    "#     u'JCHEM_POLARIZABILITY',\n",
    "#     u'JCHEM_POLAR_SURFACE_AREA',\n",
    "# ]\n",
    "\n",
    "# features = [\n",
    "#     u'EXACT_MASS', \n",
    "#     u'ALOGPS_LOGP',\n",
    "#     u'ALOGPS_LOGS', u'MOLECULAR_WEIGHT',\n",
    "#     u'JCHEM_ACCEPTOR_COUNT',\n",
    "#     u'JCHEM_ACIDIC_PKA', u'JCHEM_DONOR_COUNT',\n",
    "#     u'JCHEM_LOGP', u'JCHEM_PHYSIOLOGICAL_CHARGE', u'JCHEM_POLARIZABILITY',\n",
    "#     u'JCHEM_POLAR_SURFACE_AREA', u'JCHEM_REFRACTIVITY',\n",
    "#     u'JCHEM_ROTATABLE_BOND_COUNT'\n",
    "# ]\n",
    "\n",
    "features = [\n",
    "    u'JCHEM_ACIDIC_PKA',\n",
    "    u'JCHEM_LOGP',\n",
    "    u'JCHEM_POLARIZABILITY',\n",
    "    u'JCHEM_POLAR_SURFACE_AREA',\n",
    "]\n",
    "\n",
    "X_train = df_std1\n",
    "y_train = df_std1[['Dil_1_1']]\n",
    "\n",
    "X_test = df_std2\n",
    "y_test = df_std2[['Dil_1_1']]\n",
    "\n",
    "print(\"Number of metabolites (training):\", len(X_train))\n",
    "print(\"Number of metabolites (testing):\", len(X_test))"
   ]
  },
  {
   "cell_type": "code",
   "execution_count": 4,
   "metadata": {
    "collapsed": false
   },
   "outputs": [
    {
     "data": {
      "text/html": [
       "<div>\n",
       "<table border=\"1\" class=\"dataframe\">\n",
       "  <thead>\n",
       "    <tr style=\"text-align: right;\">\n",
       "      <th></th>\n",
       "      <th>JCHEM_ACIDIC_PKA</th>\n",
       "      <th>JCHEM_LOGP</th>\n",
       "      <th>JCHEM_POLARIZABILITY</th>\n",
       "      <th>JCHEM_POLAR_SURFACE_AREA</th>\n",
       "    </tr>\n",
       "  </thead>\n",
       "  <tbody>\n",
       "    <tr>\n",
       "      <th>1</th>\n",
       "      <td>13.61</td>\n",
       "      <td>-1.8</td>\n",
       "      <td>8.93</td>\n",
       "      <td>60.69</td>\n",
       "    </tr>\n",
       "    <tr>\n",
       "      <th>2</th>\n",
       "      <td>8.93</td>\n",
       "      <td>-2.5</td>\n",
       "      <td>24.48</td>\n",
       "      <td>129.20</td>\n",
       "    </tr>\n",
       "    <tr>\n",
       "      <th>3</th>\n",
       "      <td>2.47</td>\n",
       "      <td>-1.2</td>\n",
       "      <td>17.20</td>\n",
       "      <td>63.32</td>\n",
       "    </tr>\n",
       "  </tbody>\n",
       "</table>\n",
       "</div>"
      ],
      "text/plain": [
       "   JCHEM_ACIDIC_PKA  JCHEM_LOGP  JCHEM_POLARIZABILITY  \\\n",
       "1             13.61        -1.8                  8.93   \n",
       "2              8.93        -2.5                 24.48   \n",
       "3              2.47        -1.2                 17.20   \n",
       "\n",
       "   JCHEM_POLAR_SURFACE_AREA  \n",
       "1                     60.69  \n",
       "2                    129.20  \n",
       "3                     63.32  "
      ]
     },
     "execution_count": 4,
     "metadata": {},
     "output_type": "execute_result"
    }
   ],
   "source": [
    "X_train[features].head(3)"
   ]
  },
  {
   "cell_type": "markdown",
   "metadata": {},
   "source": [
    "# Fit Gaussian Process"
   ]
  },
  {
   "cell_type": "code",
   "execution_count": 5,
   "metadata": {
    "collapsed": false
   },
   "outputs": [],
   "source": [
    "kernel = GPy.kern.RBF(len(features), ARD=False)\n",
    "model = GPy.models.GPRegression(X_train[features], y_train, kernel=kernel, normalizer=True)\n",
    "\n",
    "model.optimize()"
   ]
  },
  {
   "cell_type": "code",
   "execution_count": 6,
   "metadata": {
    "collapsed": false
   },
   "outputs": [
    {
     "data": {
      "text/html": [
       "\n",
       "<b>Model</b>: GP regression<br>\n",
       "<b>Log-likelihood</b>: -120.139025048<br>\n",
       "<b>Number of Parameters</b>: 3<br>\n",
       "<br><b>Parameters</b>:\n",
       "<table>\n",
       "<tr>\n",
       "  <td><b>GP_regression.</b>\n",
       "  <td><b>Value</b></td>\n",
       "  <td><b>Constraint</b></td>\n",
       "  <td><b>Prior</b></td>\n",
       "  <td><b>Tied to</b></td>\n",
       "<tr><td>rbf.variance           </td><td align=\"right\">  7.41656072674</td><td>   +ve    </td><td>     </td><td>       </td></tr>\n",
       "<tr><td>rbf.lengthscale        </td><td align=\"right\">  2.43544422449</td><td>   +ve    </td><td>     </td><td>       </td></tr>\n",
       "<tr><td>Gaussian_noise.variance</td><td align=\"right\">0.0148533765942</td><td>   +ve    </td><td>     </td><td>       </td></tr>\n",
       "</table>"
      ],
      "text/plain": [
       "<GPy.models.gp_regression.GPRegression at 0x109b1ed10>"
      ]
     },
     "metadata": {},
     "output_type": "display_data"
    }
   ],
   "source": [
    "from IPython.display import display\n",
    "display(model)"
   ]
  },
  {
   "cell_type": "markdown",
   "metadata": {},
   "source": [
    "# Make predictions"
   ]
  },
  {
   "cell_type": "code",
   "execution_count": 7,
   "metadata": {
    "collapsed": false
   },
   "outputs": [],
   "source": [
    "mu_train, var_train = model.predict(X_train[features].as_matrix())\n",
    "mu, var = model.predict(X_test[features].as_matrix())"
   ]
  },
  {
   "cell_type": "code",
   "execution_count": 8,
   "metadata": {
    "collapsed": false
   },
   "outputs": [
    {
     "data": {
      "text/html": [
       "<div>\n",
       "<table border=\"1\" class=\"dataframe\">\n",
       "  <thead>\n",
       "    <tr style=\"text-align: right;\">\n",
       "      <th></th>\n",
       "      <th>JCHEM_ACIDIC_PKA</th>\n",
       "      <th>JCHEM_LOGP</th>\n",
       "      <th>JCHEM_POLARIZABILITY</th>\n",
       "      <th>JCHEM_POLAR_SURFACE_AREA</th>\n",
       "    </tr>\n",
       "  </thead>\n",
       "  <tbody>\n",
       "    <tr>\n",
       "      <th>count</th>\n",
       "      <td>39.000000</td>\n",
       "      <td>39.000000</td>\n",
       "      <td>39.000000</td>\n",
       "      <td>39.000000</td>\n",
       "    </tr>\n",
       "    <tr>\n",
       "      <th>mean</th>\n",
       "      <td>5.932051</td>\n",
       "      <td>-1.808154</td>\n",
       "      <td>16.790513</td>\n",
       "      <td>85.184103</td>\n",
       "    </tr>\n",
       "    <tr>\n",
       "      <th>std</th>\n",
       "      <td>4.398822</td>\n",
       "      <td>1.903884</td>\n",
       "      <td>6.821716</td>\n",
       "      <td>39.536552</td>\n",
       "    </tr>\n",
       "    <tr>\n",
       "      <th>min</th>\n",
       "      <td>0.990000</td>\n",
       "      <td>-4.900000</td>\n",
       "      <td>8.450000</td>\n",
       "      <td>34.140000</td>\n",
       "    </tr>\n",
       "    <tr>\n",
       "      <th>25%</th>\n",
       "      <td>2.240000</td>\n",
       "      <td>-3.650000</td>\n",
       "      <td>11.655000</td>\n",
       "      <td>59.280000</td>\n",
       "    </tr>\n",
       "    <tr>\n",
       "      <th>50%</th>\n",
       "      <td>3.820000</td>\n",
       "      <td>-1.500000</td>\n",
       "      <td>16.000000</td>\n",
       "      <td>67.480000</td>\n",
       "    </tr>\n",
       "    <tr>\n",
       "      <th>75%</th>\n",
       "      <td>9.965000</td>\n",
       "      <td>-0.425000</td>\n",
       "      <td>18.640000</td>\n",
       "      <td>92.420000</td>\n",
       "    </tr>\n",
       "    <tr>\n",
       "      <th>max</th>\n",
       "      <td>15.300000</td>\n",
       "      <td>1.900000</td>\n",
       "      <td>38.410000</td>\n",
       "      <td>186.070000</td>\n",
       "    </tr>\n",
       "  </tbody>\n",
       "</table>\n",
       "</div>"
      ],
      "text/plain": [
       "       JCHEM_ACIDIC_PKA  JCHEM_LOGP  JCHEM_POLARIZABILITY  \\\n",
       "count         39.000000   39.000000             39.000000   \n",
       "mean           5.932051   -1.808154             16.790513   \n",
       "std            4.398822    1.903884              6.821716   \n",
       "min            0.990000   -4.900000              8.450000   \n",
       "25%            2.240000   -3.650000             11.655000   \n",
       "50%            3.820000   -1.500000             16.000000   \n",
       "75%            9.965000   -0.425000             18.640000   \n",
       "max           15.300000    1.900000             38.410000   \n",
       "\n",
       "       JCHEM_POLAR_SURFACE_AREA  \n",
       "count                 39.000000  \n",
       "mean                  85.184103  \n",
       "std                   39.536552  \n",
       "min                   34.140000  \n",
       "25%                   59.280000  \n",
       "50%                   67.480000  \n",
       "75%                   92.420000  \n",
       "max                  186.070000  "
      ]
     },
     "execution_count": 8,
     "metadata": {},
     "output_type": "execute_result"
    }
   ],
   "source": [
    "X_test[features].describe()"
   ]
  },
  {
   "cell_type": "code",
   "execution_count": 9,
   "metadata": {
    "collapsed": false,
    "scrolled": false
   },
   "outputs": [
    {
     "data": {
      "text/html": [
       "<div>\n",
       "<table border=\"1\" class=\"dataframe\">\n",
       "  <thead>\n",
       "    <tr style=\"text-align: right;\">\n",
       "      <th></th>\n",
       "      <th>Name</th>\n",
       "      <th>Dil_1_1</th>\n",
       "      <th>Prediction</th>\n",
       "    </tr>\n",
       "  </thead>\n",
       "  <tbody>\n",
       "    <tr>\n",
       "      <th>0</th>\n",
       "      <td>Hypoxanthine</td>\n",
       "      <td>-4.094681</td>\n",
       "      <td>-4.807323</td>\n",
       "    </tr>\n",
       "    <tr>\n",
       "      <th>1</th>\n",
       "      <td>Nicotinamide</td>\n",
       "      <td>-1.400545</td>\n",
       "      <td>-1.293431</td>\n",
       "    </tr>\n",
       "    <tr>\n",
       "      <th>2</th>\n",
       "      <td>5-Oxoproline</td>\n",
       "      <td>-4.334933</td>\n",
       "      <td>-1.173669</td>\n",
       "    </tr>\n",
       "    <tr>\n",
       "      <th>3</th>\n",
       "      <td>5'-Methylthioadenosine</td>\n",
       "      <td>-1.902766</td>\n",
       "      <td>-5.265852</td>\n",
       "    </tr>\n",
       "    <tr>\n",
       "      <th>4</th>\n",
       "      <td>L-Kynurenine</td>\n",
       "      <td>-3.940848</td>\n",
       "      <td>-5.194112</td>\n",
       "    </tr>\n",
       "    <tr>\n",
       "      <th>5</th>\n",
       "      <td>Adenosine</td>\n",
       "      <td>-2.332196</td>\n",
       "      <td>-5.251633</td>\n",
       "    </tr>\n",
       "    <tr>\n",
       "      <th>6</th>\n",
       "      <td>Guanosine</td>\n",
       "      <td>-7.944121</td>\n",
       "      <td>-5.251717</td>\n",
       "    </tr>\n",
       "    <tr>\n",
       "      <th>7</th>\n",
       "      <td>6-Methylaminopurine</td>\n",
       "      <td>-0.593049</td>\n",
       "      <td>-5.250191</td>\n",
       "    </tr>\n",
       "    <tr>\n",
       "      <th>8</th>\n",
       "      <td>L-isoleucine</td>\n",
       "      <td>-1.918242</td>\n",
       "      <td>-2.975759</td>\n",
       "    </tr>\n",
       "    <tr>\n",
       "      <th>9</th>\n",
       "      <td>Picolinic acid</td>\n",
       "      <td>-4.765880</td>\n",
       "      <td>-2.946602</td>\n",
       "    </tr>\n",
       "    <tr>\n",
       "      <th>10</th>\n",
       "      <td>Pyridoxal</td>\n",
       "      <td>-2.985367</td>\n",
       "      <td>-3.628242</td>\n",
       "    </tr>\n",
       "    <tr>\n",
       "      <th>11</th>\n",
       "      <td>L-Tyrosine</td>\n",
       "      <td>-5.916688</td>\n",
       "      <td>-5.099563</td>\n",
       "    </tr>\n",
       "    <tr>\n",
       "      <th>12</th>\n",
       "      <td>Betaine</td>\n",
       "      <td>-0.513422</td>\n",
       "      <td>-5.249419</td>\n",
       "    </tr>\n",
       "    <tr>\n",
       "      <th>13</th>\n",
       "      <td>4-(beta-Acetylaminoethyl)imidazole</td>\n",
       "      <td>0.000000</td>\n",
       "      <td>-5.101673</td>\n",
       "    </tr>\n",
       "    <tr>\n",
       "      <th>14</th>\n",
       "      <td>1-Aminocyclopropane-1-carboxylate</td>\n",
       "      <td>-6.204167</td>\n",
       "      <td>-4.586703</td>\n",
       "    </tr>\n",
       "    <tr>\n",
       "      <th>15</th>\n",
       "      <td>L-Carnitine</td>\n",
       "      <td>-2.284015</td>\n",
       "      <td>-4.373484</td>\n",
       "    </tr>\n",
       "    <tr>\n",
       "      <th>16</th>\n",
       "      <td>Menadione</td>\n",
       "      <td>-9.113095</td>\n",
       "      <td>-5.251753</td>\n",
       "    </tr>\n",
       "    <tr>\n",
       "      <th>17</th>\n",
       "      <td>L-Alanine</td>\n",
       "      <td>-6.504613</td>\n",
       "      <td>-5.397210</td>\n",
       "    </tr>\n",
       "    <tr>\n",
       "      <th>18</th>\n",
       "      <td>dAMP</td>\n",
       "      <td>-8.277940</td>\n",
       "      <td>-5.509624</td>\n",
       "    </tr>\n",
       "    <tr>\n",
       "      <th>19</th>\n",
       "      <td>4-Aminobutanoate</td>\n",
       "      <td>-4.717348</td>\n",
       "      <td>-2.631577</td>\n",
       "    </tr>\n",
       "    <tr>\n",
       "      <th>20</th>\n",
       "      <td>L-homoserine</td>\n",
       "      <td>-5.151018</td>\n",
       "      <td>-4.049373</td>\n",
       "    </tr>\n",
       "    <tr>\n",
       "      <th>21</th>\n",
       "      <td>AMP</td>\n",
       "      <td>-8.604480</td>\n",
       "      <td>-5.334019</td>\n",
       "    </tr>\n",
       "    <tr>\n",
       "      <th>22</th>\n",
       "      <td>cytosine</td>\n",
       "      <td>-1.752240</td>\n",
       "      <td>-5.141697</td>\n",
       "    </tr>\n",
       "    <tr>\n",
       "      <th>23</th>\n",
       "      <td>N-Acetylornithine</td>\n",
       "      <td>-5.783829</td>\n",
       "      <td>-4.659086</td>\n",
       "    </tr>\n",
       "    <tr>\n",
       "      <th>24</th>\n",
       "      <td>1-Aminopropan-2-ol</td>\n",
       "      <td>-1.812459</td>\n",
       "      <td>-5.251225</td>\n",
       "    </tr>\n",
       "    <tr>\n",
       "      <th>25</th>\n",
       "      <td>Ala-Gly</td>\n",
       "      <td>-5.824964</td>\n",
       "      <td>-4.466111</td>\n",
       "    </tr>\n",
       "    <tr>\n",
       "      <th>26</th>\n",
       "      <td>Glycylglycine</td>\n",
       "      <td>-7.732216</td>\n",
       "      <td>-5.873312</td>\n",
       "    </tr>\n",
       "    <tr>\n",
       "      <th>27</th>\n",
       "      <td>S-Adenosyl-L-homocysteine</td>\n",
       "      <td>-6.624774</td>\n",
       "      <td>-5.253227</td>\n",
       "    </tr>\n",
       "    <tr>\n",
       "      <th>28</th>\n",
       "      <td>D-Glucosamine 6-phosphate</td>\n",
       "      <td>-10.119219</td>\n",
       "      <td>-5.268559</td>\n",
       "    </tr>\n",
       "    <tr>\n",
       "      <th>29</th>\n",
       "      <td>N(pi)-Methyl-L-histidine</td>\n",
       "      <td>-3.422475</td>\n",
       "      <td>-4.936971</td>\n",
       "    </tr>\n",
       "    <tr>\n",
       "      <th>30</th>\n",
       "      <td>Thiopurine S-methylether</td>\n",
       "      <td>-1.089963</td>\n",
       "      <td>-5.215768</td>\n",
       "    </tr>\n",
       "    <tr>\n",
       "      <th>31</th>\n",
       "      <td>L-Ornithine</td>\n",
       "      <td>-9.545514</td>\n",
       "      <td>-5.242742</td>\n",
       "    </tr>\n",
       "    <tr>\n",
       "      <th>32</th>\n",
       "      <td>Dopamine</td>\n",
       "      <td>-8.729106</td>\n",
       "      <td>-5.477309</td>\n",
       "    </tr>\n",
       "    <tr>\n",
       "      <th>33</th>\n",
       "      <td>Phenylacetylglycine</td>\n",
       "      <td>-2.744925</td>\n",
       "      <td>-4.819578</td>\n",
       "    </tr>\n",
       "    <tr>\n",
       "      <th>34</th>\n",
       "      <td>Biotin</td>\n",
       "      <td>-9.359889</td>\n",
       "      <td>-4.954799</td>\n",
       "    </tr>\n",
       "    <tr>\n",
       "      <th>35</th>\n",
       "      <td>Phenylpyruvate</td>\n",
       "      <td>-8.446525</td>\n",
       "      <td>-6.255493</td>\n",
       "    </tr>\n",
       "    <tr>\n",
       "      <th>36</th>\n",
       "      <td>N-Acetylglutamine</td>\n",
       "      <td>-2.288902</td>\n",
       "      <td>-5.573416</td>\n",
       "    </tr>\n",
       "    <tr>\n",
       "      <th>37</th>\n",
       "      <td>thymine</td>\n",
       "      <td>-8.208146</td>\n",
       "      <td>-4.245524</td>\n",
       "    </tr>\n",
       "    <tr>\n",
       "      <th>38</th>\n",
       "      <td>Uracil</td>\n",
       "      <td>-9.433161</td>\n",
       "      <td>-4.635479</td>\n",
       "    </tr>\n",
       "  </tbody>\n",
       "</table>\n",
       "</div>"
      ],
      "text/plain": [
       "                                  Name    Dil_1_1  Prediction\n",
       "0                         Hypoxanthine  -4.094681   -4.807323\n",
       "1                         Nicotinamide  -1.400545   -1.293431\n",
       "2                         5-Oxoproline  -4.334933   -1.173669\n",
       "3               5'-Methylthioadenosine  -1.902766   -5.265852\n",
       "4                         L-Kynurenine  -3.940848   -5.194112\n",
       "5                            Adenosine  -2.332196   -5.251633\n",
       "6                            Guanosine  -7.944121   -5.251717\n",
       "7                  6-Methylaminopurine  -0.593049   -5.250191\n",
       "8                         L-isoleucine  -1.918242   -2.975759\n",
       "9                       Picolinic acid  -4.765880   -2.946602\n",
       "10                           Pyridoxal  -2.985367   -3.628242\n",
       "11                          L-Tyrosine  -5.916688   -5.099563\n",
       "12                             Betaine  -0.513422   -5.249419\n",
       "13  4-(beta-Acetylaminoethyl)imidazole   0.000000   -5.101673\n",
       "14   1-Aminocyclopropane-1-carboxylate  -6.204167   -4.586703\n",
       "15                         L-Carnitine  -2.284015   -4.373484\n",
       "16                           Menadione  -9.113095   -5.251753\n",
       "17                           L-Alanine  -6.504613   -5.397210\n",
       "18                                dAMP  -8.277940   -5.509624\n",
       "19                    4-Aminobutanoate  -4.717348   -2.631577\n",
       "20                        L-homoserine  -5.151018   -4.049373\n",
       "21                                 AMP  -8.604480   -5.334019\n",
       "22                            cytosine  -1.752240   -5.141697\n",
       "23                   N-Acetylornithine  -5.783829   -4.659086\n",
       "24                  1-Aminopropan-2-ol  -1.812459   -5.251225\n",
       "25                             Ala-Gly  -5.824964   -4.466111\n",
       "26                       Glycylglycine  -7.732216   -5.873312\n",
       "27           S-Adenosyl-L-homocysteine  -6.624774   -5.253227\n",
       "28           D-Glucosamine 6-phosphate -10.119219   -5.268559\n",
       "29            N(pi)-Methyl-L-histidine  -3.422475   -4.936971\n",
       "30            Thiopurine S-methylether  -1.089963   -5.215768\n",
       "31                         L-Ornithine  -9.545514   -5.242742\n",
       "32                            Dopamine  -8.729106   -5.477309\n",
       "33                 Phenylacetylglycine  -2.744925   -4.819578\n",
       "34                              Biotin  -9.359889   -4.954799\n",
       "35                      Phenylpyruvate  -8.446525   -6.255493\n",
       "36                   N-Acetylglutamine  -2.288902   -5.573416\n",
       "37                             thymine  -8.208146   -4.245524\n",
       "38                              Uracil  -9.433161   -4.635479"
      ]
     },
     "execution_count": 9,
     "metadata": {},
     "output_type": "execute_result"
    }
   ],
   "source": [
    "data = pd.concat([X_test, DataFrame(mu, columns=['Prediction'], index=X_test.index)], axis=1)\n",
    "\n",
    "data[['Name', 'Dil_1_1', 'Prediction']]"
   ]
  },
  {
   "cell_type": "code",
   "execution_count": 10,
   "metadata": {
    "collapsed": false
   },
   "outputs": [],
   "source": [
    "y_true = data['Dil_1_1']\n",
    "y_pred_new = data['Prediction']"
   ]
  },
  {
   "cell_type": "code",
   "execution_count": 11,
   "metadata": {
    "collapsed": false
   },
   "outputs": [
    {
     "data": {
      "image/png": "[encoded data removed]",
      "text/plain": [
       "<matplotlib.figure.Figure at 0x109b66450>"
      ]
     },
     "metadata": {},
     "output_type": "display_data"
    }
   ],
   "source": [
    "plt.clf()\n",
    "plt.xlabel('Measured')\n",
    "plt.ylabel('New Predicted')\n",
    "\n",
    "plt.scatter(y_true, y_pred_new)\n",
    "plt.errorbar(y_true, y_pred_new, yerr=np.sqrt(var), fmt='o')\n",
    "\n",
    "xlim = plt.xlim()\n",
    "plt.plot([xlim[0], xlim[1]], [xlim[0], xlim[1]], 'r--', linewidth=.3)\n",
    "plt.xlim(*xlim)\n",
    "\n",
    "plt.grid(True)\n",
    "plt.title('New Model $R^2$={:.4f}'.format(r2_score(y_true, y_pred_new)))\n",
    "\n",
    "plt.show()"
   ]
  },
  {
   "cell_type": "code",
   "execution_count": 12,
   "metadata": {
    "collapsed": false
   },
   "outputs": [
    {
     "data": {
      "image/png": "[encoded data removed]",
      "text/plain": [
       "<matplotlib.figure.Figure at 0x109f11090>"
      ]
     },
     "metadata": {},
     "output_type": "display_data"
    }
   ],
   "source": [
    "plt.clf()\n",
    "plt.xlabel('Measured')\n",
    "plt.ylabel('New Predicted')\n",
    "\n",
    "plt.scatter(y_train['Dil_1_1'], mu_train)\n",
    "plt.errorbar(y_train['Dil_1_1'], mu_train, yerr=np.sqrt(var_train), fmt='o')\n",
    "\n",
    "\n",
    "xlim = plt.xlim()\n",
    "plt.plot([xlim[0], xlim[1]], [xlim[0], xlim[1]], 'r--', linewidth=.3)\n",
    "plt.xlim(*xlim)\n",
    "\n",
    "plt.grid(True)\n",
    "\n",
    "plt.show()"
   ]
  }
 ],
 "metadata": {
  "kernelspec": {
   "display_name": "Python 2",
   "language": "python",
   "name": "python2"
  },
  "language_info": {
   "codemirror_mode": {
    "name": "ipython",
    "version": 2
   },
   "file_extension": ".py",
   "mimetype": "text/x-python",
   "name": "python",
   "nbconvert_exporter": "python",
   "pygments_lexer": "ipython2",
   "version": "2.7.10"
  }
 },
 "nbformat": 4,
 "nbformat_minor": 0
}
