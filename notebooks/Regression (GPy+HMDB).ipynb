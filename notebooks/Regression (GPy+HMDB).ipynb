{
 "cells": [
  {
   "cell_type": "code",
   "execution_count": 108,
   "metadata": {
    "collapsed": false
   },
   "outputs": [],
   "source": [
    "from __future__ import print_function\n",
    "import numpy as np\n",
    "import pandas as pd\n",
    "import matplotlib.pyplot as plt\n",
    "import GPy\n",
    "from pandas import Series, DataFrame\n",
    "from sklearn.decomposition import PCA\n",
    "from sklearn.metrics import explained_variance_score\n",
    "from sklearn.metrics import mean_absolute_error\n",
    "from sklearn.metrics import r2_score\n",
    "from IPython.core.pylabtools import figsize\n",
    "\n",
    "%matplotlib inline\n",
    "figsize(15, 10)"
   ]
  },
  {
   "cell_type": "markdown",
   "metadata": {},
   "source": [
    "# Load and adjust the data"
   ]
  },
  {
   "cell_type": "code",
   "execution_count": 109,
   "metadata": {
    "collapsed": false
   },
   "outputs": [],
   "source": [
    "df_train = pd.read_csv('../data/TableS2_training_hmdb.csv', keep_default_na=False)\n",
    "df_TS3 = pd.read_csv('../data/TableS3_training_hmdb.csv', keep_default_na=False)\n",
    "\n",
    "df_TS3['RRF_Measured'] = df_TS3['RRF_Measured'] * 1e-2\n",
    "df_TS3['RRF_Predicted'] = df_TS3['RRF_Predicted'] * 1e-2\n",
    "\n",
    "df_train['RRF_Measured'] = df_train['RRF_Measured'] * 1e-2\n",
    "df_train['RRF_Predicted'] = df_train['RRF_Predicted'] * 1e-2"
   ]
  },
  {
   "cell_type": "code",
   "execution_count": 110,
   "metadata": {
    "collapsed": false
   },
   "outputs": [],
   "source": [
    "# DataFrame(df_train.columns, columns=['Column'])"
   ]
  },
  {
   "cell_type": "markdown",
   "metadata": {},
   "source": [
    "# Data preparation"
   ]
  },
  {
   "cell_type": "code",
   "execution_count": 111,
   "metadata": {
    "collapsed": false
   },
   "outputs": [
    {
     "name": "stdout",
     "output_type": "stream",
     "text": [
      "Number of metabolites (training): 34\n",
      "Number of metabolites (testing): 10\n"
     ]
    }
   ],
   "source": [
    "features = [\n",
    "    u'JCHEM_ACIDIC_PKA',\n",
    "    u'JCHEM_LOGP',\n",
    "    u'JCHEM_POLARIZABILITY',\n",
    "    u'JCHEM_POLAR_SURFACE_AREA',\n",
    "]\n",
    "# TODO: better feature selection\n",
    "\n",
    "# Training Data\n",
    "X_train = df_train[features]\n",
    "X_train = X_train[df_train['Annotation'] == '']\n",
    "\n",
    "y_train = df_train[['RRF_Measured']]\n",
    "y_train = y_train[df_train['Annotation'] == '']\n",
    "\n",
    "# Testing Data\n",
    "X_test = df_TS3[features]\n",
    "y_test = df_TS3[['RRF_Measured']]\n",
    "\n",
    "print(\"Number of metabolites (training):\", len(X_train))\n",
    "print(\"Number of metabolites (testing):\", len(X_test))"
   ]
  },
  {
   "cell_type": "code",
   "execution_count": 112,
   "metadata": {
    "collapsed": false
   },
   "outputs": [
    {
     "data": {
      "text/html": [
       "<div>\n",
       "<table border=\"1\" class=\"dataframe\">\n",
       "  <thead>\n",
       "    <tr style=\"text-align: right;\">\n",
       "      <th></th>\n",
       "      <th>JCHEM_ACIDIC_PKA</th>\n",
       "      <th>JCHEM_LOGP</th>\n",
       "      <th>JCHEM_POLARIZABILITY</th>\n",
       "      <th>JCHEM_POLAR_SURFACE_AREA</th>\n",
       "    </tr>\n",
       "  </thead>\n",
       "  <tbody>\n",
       "    <tr>\n",
       "      <th>3</th>\n",
       "      <td>14.46</td>\n",
       "      <td>-0.70</td>\n",
       "      <td>12.08</td>\n",
       "      <td>54.70</td>\n",
       "    </tr>\n",
       "    <tr>\n",
       "      <th>5</th>\n",
       "      <td>2.72</td>\n",
       "      <td>-2.00</td>\n",
       "      <td>12.28</td>\n",
       "      <td>63.32</td>\n",
       "    </tr>\n",
       "    <tr>\n",
       "      <th>7</th>\n",
       "      <td>13.39</td>\n",
       "      <td>-0.39</td>\n",
       "      <td>11.71</td>\n",
       "      <td>55.98</td>\n",
       "    </tr>\n",
       "    <tr>\n",
       "      <th>8</th>\n",
       "      <td>2.79</td>\n",
       "      <td>-0.17</td>\n",
       "      <td>11.29</td>\n",
       "      <td>50.19</td>\n",
       "    </tr>\n",
       "    <tr>\n",
       "      <th>9</th>\n",
       "      <td>2.79</td>\n",
       "      <td>-1.60</td>\n",
       "      <td>14.25</td>\n",
       "      <td>63.32</td>\n",
       "    </tr>\n",
       "  </tbody>\n",
       "</table>\n",
       "</div>"
      ],
      "text/plain": [
       "   JCHEM_ACIDIC_PKA  JCHEM_LOGP  JCHEM_POLARIZABILITY  \\\n",
       "3             14.46       -0.70                 12.08   \n",
       "5              2.72       -2.00                 12.28   \n",
       "7             13.39       -0.39                 11.71   \n",
       "8              2.79       -0.17                 11.29   \n",
       "9              2.79       -1.60                 14.25   \n",
       "\n",
       "   JCHEM_POLAR_SURFACE_AREA  \n",
       "3                     54.70  \n",
       "5                     63.32  \n",
       "7                     55.98  \n",
       "8                     50.19  \n",
       "9                     63.32  "
      ]
     },
     "execution_count": 112,
     "metadata": {},
     "output_type": "execute_result"
    }
   ],
   "source": [
    "X_train.head()"
   ]
  },
  {
   "cell_type": "markdown",
   "metadata": {},
   "source": [
    "# Fit Gaussian Process"
   ]
  },
  {
   "cell_type": "code",
   "execution_count": 113,
   "metadata": {
    "collapsed": false
   },
   "outputs": [],
   "source": [
    "model = GPy.models.GPRegression(X_train, y_train)\n",
    "\n",
    "model.optimize()"
   ]
  },
  {
   "cell_type": "code",
   "execution_count": 114,
   "metadata": {
    "collapsed": false
   },
   "outputs": [
    {
     "data": {
      "text/html": [
       "\n",
       "<b>Model</b>: GP regression<br>\n",
       "<b>Log-likelihood</b>: 101.219612592<br>\n",
       "<b>Number of Parameters</b>: 3<br>\n",
       "<br><b>Parameters</b>:\n",
       "<table>\n",
       "<tr>\n",
       "  <td><b>GP_regression.</b>\n",
       "  <td><b>Value</b></td>\n",
       "  <td><b>Constraint</b></td>\n",
       "  <td><b>Prior</b></td>\n",
       "  <td><b>Tied to</b></td>\n",
       "<tr><td>rbf.variance           </td><td align=\"right\"> 0.00401562636511</td><td>   +ve    </td><td>     </td><td>       </td></tr>\n",
       "<tr><td>rbf.lengthscale        </td><td align=\"right\">    36.0256059418</td><td>   +ve    </td><td>     </td><td>       </td></tr>\n",
       "<tr><td>Gaussian_noise.variance</td><td align=\"right\">4.77003911156e-05</td><td>   +ve    </td><td>     </td><td>       </td></tr>\n",
       "</table>"
      ],
      "text/plain": [
       "<GPy.models.gp_regression.GPRegression at 0x10e2faf90>"
      ]
     },
     "metadata": {},
     "output_type": "display_data"
    }
   ],
   "source": [
    "from IPython.display import display\n",
    "display(model)"
   ]
  },
  {
   "cell_type": "markdown",
   "metadata": {},
   "source": [
    "# Make predictions\n",
    "\n",
    "We are making predictions on the same data we used for training, which doesn't seem correct"
   ]
  },
  {
   "cell_type": "code",
   "execution_count": 115,
   "metadata": {
    "collapsed": false
   },
   "outputs": [],
   "source": [
    "mu, var = model.predict(X_test.as_matrix())"
   ]
  },
  {
   "cell_type": "code",
   "execution_count": 116,
   "metadata": {
    "collapsed": false,
    "scrolled": true
   },
   "outputs": [
    {
     "data": {
      "text/html": [
       "<div>\n",
       "<table border=\"1\" class=\"dataframe\">\n",
       "  <thead>\n",
       "    <tr style=\"text-align: right;\">\n",
       "      <th></th>\n",
       "      <th>Name</th>\n",
       "      <th>RRF_Measured</th>\n",
       "      <th>Prediction</th>\n",
       "      <th>RRF_Predicted</th>\n",
       "    </tr>\n",
       "  </thead>\n",
       "  <tbody>\n",
       "    <tr>\n",
       "      <th>0</th>\n",
       "      <td>L-Ornithine</td>\n",
       "      <td>0.00281</td>\n",
       "      <td>0.008041</td>\n",
       "      <td>0.00631</td>\n",
       "    </tr>\n",
       "    <tr>\n",
       "      <th>1</th>\n",
       "      <td>N-Methyl-Aspartic acid</td>\n",
       "      <td>0.00842</td>\n",
       "      <td>0.004654</td>\n",
       "      <td>0.00667</td>\n",
       "    </tr>\n",
       "    <tr>\n",
       "      <th>2</th>\n",
       "      <td>3-Methyl-L-Histidine</td>\n",
       "      <td>0.01400</td>\n",
       "      <td>0.019717</td>\n",
       "      <td>0.02280</td>\n",
       "    </tr>\n",
       "    <tr>\n",
       "      <th>3</th>\n",
       "      <td>L-Theanine</td>\n",
       "      <td>0.02320</td>\n",
       "      <td>0.021518</td>\n",
       "      <td>0.02190</td>\n",
       "    </tr>\n",
       "    <tr>\n",
       "      <th>4</th>\n",
       "      <td>L-Citrulline</td>\n",
       "      <td>0.01160</td>\n",
       "      <td>0.016709</td>\n",
       "      <td>0.01600</td>\n",
       "    </tr>\n",
       "    <tr>\n",
       "      <th>5</th>\n",
       "      <td>O-Propionyl-L-Carnitine</td>\n",
       "      <td>0.05230</td>\n",
       "      <td>0.050120</td>\n",
       "      <td>0.05740</td>\n",
       "    </tr>\n",
       "    <tr>\n",
       "      <th>6</th>\n",
       "      <td>L-Carnosine</td>\n",
       "      <td>0.01910</td>\n",
       "      <td>0.024517</td>\n",
       "      <td>0.03030</td>\n",
       "    </tr>\n",
       "    <tr>\n",
       "      <th>7</th>\n",
       "      <td>O-Butyryl-L-Carnitine</td>\n",
       "      <td>0.06660</td>\n",
       "      <td>0.058119</td>\n",
       "      <td>0.06030</td>\n",
       "    </tr>\n",
       "    <tr>\n",
       "      <th>8</th>\n",
       "      <td>1-Methyl-Adenosine</td>\n",
       "      <td>0.05240</td>\n",
       "      <td>0.034631</td>\n",
       "      <td>0.05110</td>\n",
       "    </tr>\n",
       "    <tr>\n",
       "      <th>9</th>\n",
       "      <td>O-Octoyl-L-Carnitine</td>\n",
       "      <td>0.07780</td>\n",
       "      <td>0.088899</td>\n",
       "      <td>0.09750</td>\n",
       "    </tr>\n",
       "  </tbody>\n",
       "</table>\n",
       "</div>"
      ],
      "text/plain": [
       "                      Name  RRF_Measured  Prediction  RRF_Predicted\n",
       "0              L-Ornithine       0.00281    0.008041        0.00631\n",
       "1   N-Methyl-Aspartic acid       0.00842    0.004654        0.00667\n",
       "2    3-Methyl-L-Histidine        0.01400    0.019717        0.02280\n",
       "3              L-Theanine        0.02320    0.021518        0.02190\n",
       "4             L-Citrulline       0.01160    0.016709        0.01600\n",
       "5  O-Propionyl-L-Carnitine       0.05230    0.050120        0.05740\n",
       "6             L-Carnosine        0.01910    0.024517        0.03030\n",
       "7   O-Butyryl-L-Carnitine        0.06660    0.058119        0.06030\n",
       "8       1-Methyl-Adenosine       0.05240    0.034631        0.05110\n",
       "9     O-Octoyl-L-Carnitine       0.07780    0.088899        0.09750"
      ]
     },
     "execution_count": 116,
     "metadata": {},
     "output_type": "execute_result"
    }
   ],
   "source": [
    "data = pd.concat([df_TS3, DataFrame(mu, columns=['Prediction'])], axis=1)\n",
    "\n",
    "data[['Name', 'RRF_Measured', 'Prediction', 'RRF_Predicted']]"
   ]
  },
  {
   "cell_type": "markdown",
   "metadata": {},
   "source": [
    "# Comparison of model metrics"
   ]
  },
  {
   "cell_type": "code",
   "execution_count": 117,
   "metadata": {
    "collapsed": false
   },
   "outputs": [],
   "source": [
    "y_true = data['RRF_Measured']\n",
    "y_pred = data['RRF_Predicted']\n",
    "y_pred_new = data['Prediction']"
   ]
  },
  {
   "cell_type": "code",
   "execution_count": 118,
   "metadata": {
    "collapsed": false
   },
   "outputs": [
    {
     "data": {
      "image/png": "[encoded data removed]",
      "text/plain": [
       "<matplotlib.figure.Figure at 0x10dbeaf10>"
      ]
     },
     "metadata": {},
     "output_type": "display_data"
    }
   ],
   "source": [
    "figsize(15, 7)\n",
    "plt.subplot(1, 2, 1)\n",
    "plt.xlabel('Measured')\n",
    "plt.ylabel('RRF_Predicted')\n",
    "plt.scatter(y_true, y_pred)\n",
    "plt.plot([0, 0.1], [0, 0.1], 'r--', linewidth=.3)\n",
    "plt.grid(True)\n",
    "plt.title('Paper Model $R^2$={:.4f}'.format(r2_score(y_true, y_pred)))\n",
    "\n",
    "plt.subplot(1, 2, 2)\n",
    "plt.xlabel('Measured')\n",
    "plt.ylabel('New Predicted')\n",
    "plt.scatter(y_true, y_pred_new)\n",
    "plt.errorbar(y_true, y_pred_new, yerr=np.sqrt(var), fmt='o')\n",
    "plt.plot([0, 0.1], [0, 0.1], 'r--', linewidth=.3)\n",
    "plt.grid(True)\n",
    "plt.title('New Model $R^2$={:.4f}'.format(r2_score(y_true, y_pred_new)))\n",
    "\n",
    "plt.show()"
   ]
  },
  {
   "cell_type": "markdown",
   "metadata": {},
   "source": [
    "## Metrics of the model reported in the paper"
   ]
  },
  {
   "cell_type": "code",
   "execution_count": 119,
   "metadata": {
    "collapsed": false
   },
   "outputs": [
    {
     "name": "stdout",
     "output_type": "stream",
     "text": [
      "explained_variance 0.920425066704\n",
      "mean_absolute_error 0.006335\n",
      "r2_score 0.893256890472\n"
     ]
    }
   ],
   "source": [
    "print(\"explained_variance\", explained_variance_score(y_true, y_pred))\n",
    "print(\"mean_absolute_error\", mean_absolute_error(y_true, y_pred))\n",
    "print(\"r2_score\", r2_score(y_true, y_pred))"
   ]
  },
  {
   "cell_type": "markdown",
   "metadata": {},
   "source": [
    "## Metrics of our model"
   ]
  },
  {
   "cell_type": "code",
   "execution_count": 120,
   "metadata": {
    "collapsed": false
   },
   "outputs": [
    {
     "name": "stdout",
     "output_type": "stream",
     "text": [
      "explained_variance 0.900441741558\n",
      "mean_absolute_error 0.00664518064346\n",
      "r2_score 0.900415589299\n"
     ]
    }
   ],
   "source": [
    "print(\"explained_variance\", explained_variance_score(y_true, y_pred_new))\n",
    "print(\"mean_absolute_error\", mean_absolute_error(y_true, y_pred_new))\n",
    "print(\"r2_score\", r2_score(y_true, y_pred_new))"
   ]
  }
 ],
 "metadata": {
  "kernelspec": {
   "display_name": "Python 2",
   "language": "python",
   "name": "python2"
  },
  "language_info": {
   "codemirror_mode": {
    "name": "ipython",
    "version": 2
   },
   "file_extension": ".py",
   "mimetype": "text/x-python",
   "name": "python",
   "nbconvert_exporter": "python",
   "pygments_lexer": "ipython2",
   "version": "2.7.10"
  }
 },
 "nbformat": 4,
 "nbformat_minor": 0
}
