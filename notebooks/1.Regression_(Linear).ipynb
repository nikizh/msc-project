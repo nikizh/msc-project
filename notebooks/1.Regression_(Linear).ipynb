{
 "cells": [
  {
   "cell_type": "code",
   "execution_count": 1,
   "metadata": {
    "collapsed": false
   },
   "outputs": [],
   "source": [
    "from __future__ import print_function\n",
    "import numpy as np\n",
    "import pandas as pd\n",
    "import seaborn as sns\n",
    "import matplotlib.pyplot as plt\n",
    "from pandas import Series, DataFrame\n",
    "from sklearn.metrics import explained_variance_score\n",
    "from sklearn.metrics import mean_absolute_error\n",
    "from sklearn.metrics import mean_squared_error\n",
    "from sklearn.metrics import r2_score\n",
    "from IPython.core.pylabtools import figsize\n",
    "\n",
    "SAVE_FIG = True\n",
    "\n",
    "if SAVE_FIG:\n",
    "    from matplotlib import rcParams  \n",
    "    rcParams['axes.labelsize'] = 9  \n",
    "    rcParams['xtick.labelsize'] = 9  \n",
    "    rcParams['ytick.labelsize'] = 9  \n",
    "    rcParams['legend.fontsize'] = 9 \n",
    "    default_fig_w = 8\n",
    "    default_fig_h = 5\n",
    "else:\n",
    "    default_fig_w = 16\n",
    "    default_fig_h = 10\n",
    "\n",
    "%matplotlib inline\n",
    "figsize(default_fig_w, default_fig_h)"
   ]
  },
  {
   "cell_type": "markdown",
   "metadata": {},
   "source": [
    "# Load and adjust the data"
   ]
  },
  {
   "cell_type": "code",
   "execution_count": 2,
   "metadata": {
    "collapsed": false
   },
   "outputs": [
    {
     "data": {
      "text/html": [
       "<div>\n",
       "<table border=\"1\" class=\"dataframe\">\n",
       "  <thead>\n",
       "    <tr style=\"text-align: right;\">\n",
       "      <th></th>\n",
       "      <th>Name</th>\n",
       "      <th>Annotation</th>\n",
       "      <th>Short Name</th>\n",
       "      <th>InChI</th>\n",
       "      <th>MH+ Fragment</th>\n",
       "      <th>MH+ Isotope</th>\n",
       "      <th>fragment/isotope</th>\n",
       "      <th>MV</th>\n",
       "      <th>logD</th>\n",
       "      <th>abs_mob</th>\n",
       "      <th>zeff</th>\n",
       "      <th>RRF_Measured</th>\n",
       "      <th>RRF_Predicted</th>\n",
       "    </tr>\n",
       "  </thead>\n",
       "  <tbody>\n",
       "    <tr>\n",
       "      <th>0</th>\n",
       "      <td>L-Alanine</td>\n",
       "      <td>a</td>\n",
       "      <td>Ala</td>\n",
       "      <td>InChI=1S/C3H7NO2/c1-2(4)3(5)6/h2H,4H2,1H3,(H,5...</td>\n",
       "      <td>90</td>\n",
       "      <td></td>\n",
       "      <td></td>\n",
       "      <td>70.3</td>\n",
       "      <td>-2.79</td>\n",
       "      <td>3.140000</td>\n",
       "      <td>0.764</td>\n",
       "      <td>0.000595</td>\n",
       "      <td>-0.01360</td>\n",
       "    </tr>\n",
       "    <tr>\n",
       "      <th>1</th>\n",
       "      <td>β-Alanine</td>\n",
       "      <td>a</td>\n",
       "      <td>β-Ala</td>\n",
       "      <td>InChI=1S/C3H7NO2/c4-2-1-3(5)6/h1-2,4H2,(H,5,6)</td>\n",
       "      <td>90</td>\n",
       "      <td></td>\n",
       "      <td></td>\n",
       "      <td>70.4</td>\n",
       "      <td>-3.01</td>\n",
       "      <td>4.140000</td>\n",
       "      <td>0.995</td>\n",
       "      <td>0.000503</td>\n",
       "      <td>-0.01270</td>\n",
       "    </tr>\n",
       "    <tr>\n",
       "      <th>2</th>\n",
       "      <td>γ-Aminobutyric acid</td>\n",
       "      <td>a</td>\n",
       "      <td>GABA</td>\n",
       "      <td>InChI=1S/C4H9NO2/c5-3-1-2-4(6)7/h1-3,5H2,(H,6,7)</td>\n",
       "      <td>104</td>\n",
       "      <td></td>\n",
       "      <td></td>\n",
       "      <td>89.2</td>\n",
       "      <td>-3.10</td>\n",
       "      <td>0.000409</td>\n",
       "      <td>1.000</td>\n",
       "      <td>0.000903</td>\n",
       "      <td>-0.00476</td>\n",
       "    </tr>\n",
       "  </tbody>\n",
       "</table>\n",
       "</div>"
      ],
      "text/plain": [
       "                  Name Annotation Short Name  \\\n",
       "0           L-Alanine           a       Ala    \n",
       "1            β-Alanine          a      β-Ala   \n",
       "2  γ-Aminobutyric acid          a       GABA   \n",
       "\n",
       "                                               InChI  MH+ Fragment  \\\n",
       "0  InChI=1S/C3H7NO2/c1-2(4)3(5)6/h2H,4H2,1H3,(H,5...            90   \n",
       "1     InChI=1S/C3H7NO2/c4-2-1-3(5)6/h1-2,4H2,(H,5,6)            90   \n",
       "2   InChI=1S/C4H9NO2/c5-3-1-2-4(6)7/h1-3,5H2,(H,6,7)           104   \n",
       "\n",
       "  MH+ Isotope fragment/isotope    MV  logD   abs_mob   zeff  RRF_Measured  \\\n",
       "0                               70.3 -2.79  3.140000  0.764      0.000595   \n",
       "1                               70.4 -3.01  4.140000  0.995      0.000503   \n",
       "2                               89.2 -3.10  0.000409  1.000      0.000903   \n",
       "\n",
       "   RRF_Predicted  \n",
       "0       -0.01360  \n",
       "1       -0.01270  \n",
       "2       -0.00476  "
      ]
     },
     "execution_count": 2,
     "metadata": {},
     "output_type": "execute_result"
    }
   ],
   "source": [
    "df_train = pd.read_csv('../data/TableS2_training.csv', keep_default_na=False)\n",
    "df_train['RRF_Measured'] = df_train['RRF_Measured'] * 1e-2\n",
    "df_train['RRF_Predicted'] = df_train['RRF_Predicted'] * 1e-2\n",
    "\n",
    "df_test = pd.read_csv('../data/TableS3_training.csv', keep_default_na=False)\n",
    "df_test['RRF_Measured'] = df_test['RRF_Measured'] * 1e-2\n",
    "df_test['RRF_Predicted'] = df_test['RRF_Predicted'] * 1e-2\n",
    "\n",
    "df_val = pd.read_csv('../data/Table1_predictions.csv', keep_default_na=False)\n",
    "df_val['RRF_Predicted'] = df_val['RRF_Predicted'] * 1e-2\n",
    "\n",
    "features = ['MV', 'logD', 'abs_mob']\n",
    "target = ['RRF_Measured']\n",
    "\n",
    "df_train.head(3)"
   ]
  },
  {
   "cell_type": "markdown",
   "metadata": {},
   "source": [
    "# Data preparation\n",
    "- Exclude certain metabolites\n",
    "- Select training and testing data"
   ]
  },
  {
   "cell_type": "code",
   "execution_count": 3,
   "metadata": {
    "collapsed": false
   },
   "outputs": [],
   "source": [
    "# Training Data\n",
    "X_train = df_train[features]\n",
    "X_train = X_train[df_train['Annotation'] == '']\n",
    "\n",
    "y_train = df_train[target]\n",
    "y_train = y_train[df_train['Annotation'] == '']"
   ]
  },
  {
   "cell_type": "markdown",
   "metadata": {},
   "source": [
    "# Fit liner model on the data from Table S2"
   ]
  },
  {
   "cell_type": "code",
   "execution_count": 4,
   "metadata": {
    "collapsed": false
   },
   "outputs": [
    {
     "data": {
      "text/plain": [
       "LinearRegression(copy_X=True, fit_intercept=True, n_jobs=1, normalize=False)"
      ]
     },
     "execution_count": 4,
     "metadata": {},
     "output_type": "execute_result"
    }
   ],
   "source": [
    "from sklearn import linear_model\n",
    "\n",
    "regr = linear_model.LinearRegression()\n",
    "\n",
    "regr.fit(X_train, y_train)"
   ]
  },
  {
   "cell_type": "code",
   "execution_count": 5,
   "metadata": {
    "collapsed": false
   },
   "outputs": [
    {
     "name": "stdout",
     "output_type": "stream",
     "text": [
      "New Linear Regression Model:\n",
      "Coefficients: 0.00044 0.00272 14.14085\n",
      "Intercept: -0.04132\n",
      "\n",
      "Model from paper:\n",
      "Coefficients: 0.00044 0.00270 14.00000\n",
      "Intercept: -0.04140\n"
     ]
    }
   ],
   "source": [
    "print('New Linear Regression Model:')\n",
    "print('Coefficients: {:.5f} {:.5f} {:.5f}'.format(*regr.coef_[0]))\n",
    "print('Intercept: {:.5f}'.format(regr.intercept_[0]))\n",
    "\n",
    "\n",
    "paper_coef = [4.40e-4, 2.7e-3, 14]\n",
    "paper_intercept = -4.14e-2\n",
    "\n",
    "print()\n",
    "print('Model from paper:')\n",
    "print('Coefficients: {:.5f} {:.5f} {:.5f}'.format(*paper_coef))\n",
    "print('Intercept: {:.5f}'.format(paper_intercept))"
   ]
  },
  {
   "cell_type": "markdown",
   "metadata": {},
   "source": [
    "# Make predictions on the training set"
   ]
  },
  {
   "cell_type": "code",
   "execution_count": 6,
   "metadata": {
    "collapsed": false,
    "scrolled": false
   },
   "outputs": [
    {
     "data": {
      "image/png": "[encoded data removed]",
      "text/plain": [
       "<matplotlib.figure.Figure at 0x112f7c3d0>"
      ]
     },
     "metadata": {},
     "output_type": "display_data"
    }
   ],
   "source": [
    "predictions_train = Series(np.ravel(regr.predict(X_train)), index=X_train.index, name='RRF_Predicted_New')\n",
    "\n",
    "data_train = df_train.loc[X_train.index]\n",
    "\n",
    "data_train = pd.concat([data_train, predictions_train], axis=1)\n",
    "\n",
    "data_train['Diff'] = np.abs(data_train['RRF_Predicted'] - data_train['RRF_Predicted_New'])\n",
    "\n",
    "figsize(default_fig_w, default_fig_h / 2.0)\n",
    "fig, ax = plt.subplots()\n",
    "xticks = np.arange(len(data_train))\n",
    "plt.bar(xticks, data_train['Diff'].values, align='center')\n",
    "ax.set_xticks(xticks)\n",
    "ax.set_xticklabels(data_train['Short Name'].values, rotation=90)\n",
    "plt.grid(True)\n",
    "plt.title('New Model')\n",
    "plt.ylabel('Absolute difference')\n",
    "plt.tight_layout(pad=0.1)\n",
    "if SAVE_FIG:\n",
    "    fig.savefig('../figures/linear_model_train_diff.pdf')\n",
    "plt.show()"
   ]
  },
  {
   "cell_type": "markdown",
   "metadata": {},
   "source": [
    "# Make predictions on the test set"
   ]
  },
  {
   "cell_type": "code",
   "execution_count": 7,
   "metadata": {
    "collapsed": false
   },
   "outputs": [
    {
     "data": {
      "image/png": "[encoded data removed]",
      "text/plain": [
       "<matplotlib.figure.Figure at 0x113214350>"
      ]
     },
     "metadata": {},
     "output_type": "display_data"
    }
   ],
   "source": [
    "X_test = df_test[features]\n",
    "y_test = df_test[target]\n",
    "\n",
    "predictions_test = Series(np.ravel(regr.predict(X_test)), index=X_test.index, name='RRF_Predicted_New')\n",
    "\n",
    "data_test = df_test.loc[X_test.index]\n",
    "\n",
    "data_test = pd.concat([data_test, predictions_test], axis=1)\n",
    "\n",
    "data_test['Diff'] = np.abs(data_test['RRF_Predicted'] - data_test['RRF_Predicted_New'])\n",
    "\n",
    "paper_model = np.array([4.40e-4, 2.7e-3, 14, -4.14e-2])\n",
    "predictions_test_org = Series(np.dot(paper_model, np.column_stack((X_test, np.ones(len(X_test)))).T), name='RRF_Predicted_Org')\n",
    "\n",
    "data_test_org = df_test.loc[X_test.index]\n",
    "\n",
    "data_test_org = pd.concat([data_test_org, predictions_test_org], axis=1)\n",
    "\n",
    "data_test_org['Diff'] = np.abs(data_test_org['RRF_Predicted'] - data_test_org['RRF_Predicted_Org'])\n",
    "\n",
    "# Plot\n",
    "figsize(default_fig_w, default_fig_h * 0.6)\n",
    "ax = plt.subplot(121)\n",
    "\n",
    "xticks = np.arange(len(data_test))\n",
    "plt.bar(xticks, data_test['Diff'].values, align='center')\n",
    "ax.set_xticks(xticks)\n",
    "ax.set_xticklabels(data_test['Short Name'].values, rotation=90)\n",
    "plt.grid(True)\n",
    "plt.title('New Model')\n",
    "plt.ylabel('Absolute difference')\n",
    "\n",
    "ax = plt.subplot(122)\n",
    "\n",
    "xticks = np.arange(len(data_test_org))\n",
    "plt.bar(xticks, data_test_org['Diff'].values, align='center')\n",
    "ax.set_xticks(xticks)\n",
    "ax.set_xticklabels(data_test_org['Short Name'].values, rotation=90)\n",
    "plt.grid(True)\n",
    "plt.title('Model from paper')\n",
    "plt.ylabel('Absolute difference')\n",
    "\n",
    "plt.tight_layout(pad=0.1)\n",
    "\n",
    "if SAVE_FIG:\n",
    "    plt.savefig('../figures/model_comparison_test_diff.pdf')\n",
    "\n",
    "plt.show()"
   ]
  },
  {
   "cell_type": "markdown",
   "metadata": {},
   "source": [
    "**Even when we use the model reported in the paper, we get results that do not match perfectly to the reported results**"
   ]
  },
  {
   "cell_type": "markdown",
   "metadata": {},
   "source": [
    "# Comparison of model metrics on training set"
   ]
  },
  {
   "cell_type": "code",
   "execution_count": 8,
   "metadata": {
    "collapsed": false
   },
   "outputs": [],
   "source": [
    "y_true = data_train['RRF_Measured']\n",
    "y_pred = data_train['RRF_Predicted']\n",
    "y_pred_new = data_train['RRF_Predicted_New']"
   ]
  },
  {
   "cell_type": "markdown",
   "metadata": {},
   "source": [
    "## Metrics of the model reported in the paper"
   ]
  },
  {
   "cell_type": "code",
   "execution_count": 9,
   "metadata": {
    "collapsed": false
   },
   "outputs": [
    {
     "name": "stdout",
     "output_type": "stream",
     "text": [
      "explained_variance 0.828348380635\n",
      "mean_absolute_error 0.00532638888889\n",
      "mean_squared_error 4.81188027778e-05\n",
      "r2_score 0.828341767487\n"
     ]
    }
   ],
   "source": [
    "print(\"explained_variance\", explained_variance_score(y_true, y_pred))\n",
    "print(\"mean_absolute_error\", mean_absolute_error(y_true, y_pred))\n",
    "print(\"mean_squared_error\", mean_squared_error(y_true, y_pred))\n",
    "print(\"r2_score\", r2_score(y_true, y_pred))"
   ]
  },
  {
   "cell_type": "markdown",
   "metadata": {},
   "source": [
    "## Metrics of our model"
   ]
  },
  {
   "cell_type": "code",
   "execution_count": 10,
   "metadata": {
    "collapsed": false
   },
   "outputs": [
    {
     "name": "stdout",
     "output_type": "stream",
     "text": [
      "explained_variance 0.827874596497\n",
      "mean_absolute_error 0.00535788018367\n",
      "mean_squared_error 4.82497589716e-05\n",
      "r2_score 0.827874596497\n"
     ]
    }
   ],
   "source": [
    "print(\"explained_variance\", explained_variance_score(y_true, y_pred_new))\n",
    "print(\"mean_absolute_error\", mean_absolute_error(y_true, y_pred_new))\n",
    "print(\"mean_squared_error\", mean_squared_error(y_true, y_pred_new))\n",
    "print(\"r2_score\", r2_score(y_true, y_pred_new))"
   ]
  },
  {
   "cell_type": "markdown",
   "metadata": {},
   "source": [
    "# Making predictions the validation set"
   ]
  },
  {
   "cell_type": "code",
   "execution_count": 11,
   "metadata": {
    "collapsed": true
   },
   "outputs": [],
   "source": [
    "X_val = df_val[features]\n",
    "y_val = df_val[['RRF_Predicted']]"
   ]
  },
  {
   "cell_type": "code",
   "execution_count": 12,
   "metadata": {
    "collapsed": false,
    "scrolled": true
   },
   "outputs": [
    {
     "data": {
      "image/png": "[encoded data removed]",
      "text/plain": [
       "<matplotlib.figure.Figure at 0x11325ad10>"
      ]
     },
     "metadata": {},
     "output_type": "display_data"
    }
   ],
   "source": [
    "predictions_val = Series(np.ravel(regr.predict(X_val)), name='RRF_Predicted_New')\n",
    "\n",
    "data_val = df_val.loc[X_val.index]\n",
    "\n",
    "data_val = pd.concat([data_val, predictions_val], axis=1)\n",
    "\n",
    "data_val['Diff'] = np.abs(data_val['RRF_Predicted'] - data_val['RRF_Predicted_New'])\n",
    "\n",
    "figsize(default_fig_w, default_fig_h / 2.0)\n",
    "fig, ax = plt.subplots()\n",
    "xticks = np.arange(len(data_val))\n",
    "plt.bar(xticks, data_val['Diff'].values, align='center')\n",
    "ax.set_xticks(xticks)\n",
    "ax.set_xticklabels(data_val['Short Name'].values, rotation=90)\n",
    "plt.grid(True)\n",
    "plt.title('Model comparison of predicted RRFs on validation set')\n",
    "plt.ylabel('Absolute difference')\n",
    "plt.show()"
   ]
  }
 ],
 "metadata": {
  "kernelspec": {
   "display_name": "Python 2",
   "language": "python",
   "name": "python2"
  },
  "language_info": {
   "codemirror_mode": {
    "name": "ipython",
    "version": 2
   },
   "file_extension": ".py",
   "mimetype": "text/x-python",
   "name": "python",
   "nbconvert_exporter": "python",
   "pygments_lexer": "ipython2",
   "version": "2.7.10"
  }
 },
 "nbformat": 4,
 "nbformat_minor": 0
}
